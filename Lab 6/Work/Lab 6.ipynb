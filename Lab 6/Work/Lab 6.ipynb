{
 "cells": [
  {
   "cell_type": "markdown",
   "metadata": {},
   "source": [
    "## EECS 738 Lab 6"
   ]
  },
  {
   "cell_type": "markdown",
   "metadata": {},
   "source": [
    "### Step 0: Import required packages"
   ]
  },
  {
   "cell_type": "code",
   "execution_count": 8,
   "metadata": {},
   "outputs": [
    {
     "name": "stdout",
     "output_type": "stream",
     "text": [
      "C:\\Users\\pmspr\\Documents\\HS\\MS\\Sem 2\\EECS 738\\Lab\\6\n",
      "Modules imported \n",
      "\n",
      "Files in current directory:\n",
      "Packages Loaded\n",
      "The Tensorflow version is 2.1.0.\n",
      "The Keras version is 2.2.4-tf.\n",
      "The Pandas version is 1.0.3.\n",
      "The Numpy version is 1.18.1.\n",
      "C:\\ProgramData\\Anaconda2\\envs\\TFK35\\lib\\site-packages\\numpy\\__init__.py\n"
     ]
    }
   ],
   "source": [
    "from __future__ import print_function\n",
    "\n",
    "import os\n",
    "import sys\n",
    "import csv\n",
    "\n",
    "import pandas as pd\n",
    "import numpy as np\n",
    "import matplotlib.pyplot as plt\n",
    "\n",
    "import tensorflow as tf\n",
    "from tensorflow import keras\n",
    "from tensorflow.keras.models import Sequential\n",
    "from tensorflow.keras.layers import *\n",
    "from tensorflow.keras.activations import relu\n",
    "from tensorflow.keras.preprocessing import sequence\n",
    "from tensorflow.keras.preprocessing.sequence import pad_sequences\n",
    "from tensorflow.keras import backend as K\n",
    "\n",
    "from tensorflow.keras.datasets import imdb\n",
    "\n",
    "from IPython.core.interactiveshell import InteractiveShell\n",
    "InteractiveShell.ast_node_interactivity = \"all\"\n",
    "\n",
    "print(os.getcwd())\n",
    "print(\"Modules imported \\n\")\n",
    "print(\"Files in current directory:\")\n",
    "from subprocess import check_output\n",
    "#print(check_output([\"ls\", \"../data\"]).decode(\"utf8\")) #check the files available in the directory\n",
    "\n",
    "print(\"Packages Loaded\")\n",
    "print('The Tensorflow version is {}.'.format(tf.__version__))\n",
    "print('The Keras version is {}.'.format(keras.__version__))\n",
    "print('The Pandas version is {}.'.format(pd.__version__))\n",
    "print('The Numpy version is {}.'.format(np.__version__))\n",
    "print(np.__file__)"
   ]
  },
  {
   "cell_type": "markdown",
   "metadata": {},
   "source": [
    "We will be working with the IMDB data from keras for this lab. The data is already enocded so I wanted to show an example of what text data looks like before it gets encoded. Below is the stanford sentiment treebank data broken up into its data and the sentiment values.\n",
    "\n",
    "I wanted to use a more complex dataset for this but the time constraints due to COV-19 have made that difficult. "
   ]
  },
  {
   "cell_type": "markdown",
   "metadata": {},
   "source": [
    "So now lets get into the data we are working with today. In the last couple of labs we used CNNs and ResNets a lot. This time we are going to compare CNNs with LSTMs for the purpose of classifying text. The data is setup so that a '0 label' is a negative review and a '1 label' is a postive review.\n",
    "\n",
    "We want to create machine learning models to automatically detect whether or not a review is positive. This has wide applications for both industry and research and has been extensively researched since 2014. "
   ]
  },
  {
   "cell_type": "markdown",
   "metadata": {},
   "source": [
    "### Step 1: Load Imdb dataset "
   ]
  },
  {
   "cell_type": "code",
   "execution_count": 9,
   "metadata": {},
   "outputs": [
    {
     "name": "stdout",
     "output_type": "stream",
     "text": [
      "train_data  (25000,)\n",
      "train_labels  (25000,)\n",
      "____________________________________________________________________________________________________\n",
      "test_data  (25000,)\n",
      "test_labels  (25000,)\n",
      "____________________________________________________________________________________________________\n",
      "Maximum value of a word index \n",
      "2499\n",
      "Maximum length num words of review in train \n",
      "2494\n",
      "the thought solid thought and do making to is spot and and while he of jack in where picked as getting on was did hands fact characters to always life and not as me can't in at are br of sure your way of little it strongly random to view of love it so and of guy it used producer of where it of here and film of outside to don't all unique some like of direction it if out her imagination below keep of queen he and to makes this and and of solid it thought begins br and and budget and though ok and and for ever better were and and for budget look and any to of making it out and follows for effects show to show cast this family us scenes more it and making and to and finds tv tend to of and these thing wants but and an and cult as it is video do you david see scenery it in few those are of ship for with of wild to one is very work dark they don't do dvd with those them\n"
     ]
    }
   ],
   "source": [
    "# Lets load our data. We will limit the number of words to 5,000 as that is how the data is setup.\n",
    "(x_train, y_train), (x_test, y_test) = imdb.load_data(num_words=2500)\n",
    "\n",
    "print(\"train_data \", x_train.shape)\n",
    "print(\"train_labels \", y_train.shape)\n",
    "print(\"_\"*100)\n",
    "print(\"test_data \", x_test.shape)\n",
    "print(\"test_labels \", y_test.shape)\n",
    "print(\"_\"*100)\n",
    "print(\"Maximum value of a word index \")\n",
    "print(max([max(sequence) for sequence in x_train]))\n",
    "print(\"Maximum length num words of review in train \")\n",
    "print(max([len(sequence) for sequence in x_train]))\n",
    "\n",
    "# See an actual review in words\n",
    "# Reverse from integers to words using the DICTIONARY (given by keras...need to do nothing to create it)\n",
    "\n",
    "word_index = imdb.get_word_index()\n",
    "\n",
    "reverse_word_index = dict(\n",
    "[(value, key) for (key, value) in word_index.items()])\n",
    "\n",
    "decoded_review = ' '.join(\n",
    "[reverse_word_index.get(i - 0, '?') for i in x_train[1]])\n",
    "\n",
    "#print(x_train[1])\n",
    "print(decoded_review)"
   ]
  },
  {
   "cell_type": "markdown",
   "metadata": {},
   "source": [
    "### Step 2: Pad train and test data."
   ]
  },
  {
   "cell_type": "code",
   "execution_count": 10,
   "metadata": {},
   "outputs": [],
   "source": [
    "# We pad the data because not all sentences in our data are the same length. We want to use a number that is larger than our largest data. Here I will choose 400.\n",
    "x_train = sequence.pad_sequences(x_train, maxlen=400)\n",
    "x_test = sequence.pad_sequences(x_test, maxlen=400)"
   ]
  },
  {
   "cell_type": "markdown",
   "metadata": {},
   "source": [
    "### Step 3: Create a 1D CNN for baseline."
   ]
  },
  {
   "cell_type": "code",
   "execution_count": 13,
   "metadata": {},
   "outputs": [
    {
     "name": "stdout",
     "output_type": "stream",
     "text": [
      "Train on 22500 samples, validate on 2500 samples\n",
      "Epoch 1/10\n",
      "22500/22500 [==============================] - 27s 1ms/sample - loss: 0.6734 - accuracy: 0.6275 - val_loss: 0.6825 - val_accuracy: 0.5140\n",
      "Epoch 2/10\n",
      "22500/22500 [==============================] - 27s 1ms/sample - loss: 0.3927 - accuracy: 0.8216 - val_loss: 0.5414 - val_accuracy: 0.8596\n",
      "Epoch 3/10\n",
      "22500/22500 [==============================] - 28s 1ms/sample - loss: 0.3018 - accuracy: 0.8743 - val_loss: 0.3702 - val_accuracy: 0.8528\n",
      "Epoch 4/10\n",
      "22500/22500 [==============================] - 27s 1ms/sample - loss: 0.2485 - accuracy: 0.8996 - val_loss: 0.2993 - val_accuracy: 0.8748\n",
      "Epoch 5/10\n",
      "22500/22500 [==============================] - 29s 1ms/sample - loss: 0.2124 - accuracy: 0.9153 - val_loss: 0.3105 - val_accuracy: 0.8768\n",
      "Epoch 6/10\n",
      "22500/22500 [==============================] - 28s 1ms/sample - loss: 0.1817 - accuracy: 0.9278 - val_loss: 0.3240 - val_accuracy: 0.8784\n",
      "Epoch 7/10\n",
      "22500/22500 [==============================] - 28s 1ms/sample - loss: 0.1489 - accuracy: 0.9424 - val_loss: 0.3326 - val_accuracy: 0.8836\n",
      "Epoch 8/10\n",
      "22500/22500 [==============================] - 28s 1ms/sample - loss: 0.1391 - accuracy: 0.9447 - val_loss: 0.3562 - val_accuracy: 0.8736\n",
      "Epoch 9/10\n",
      "22500/22500 [==============================] - 29s 1ms/sample - loss: 0.1194 - accuracy: 0.9555 - val_loss: 0.3900 - val_accuracy: 0.8756\n",
      "Epoch 10/10\n",
      "22500/22500 [==============================] - 29s 1ms/sample - loss: 0.1044 - accuracy: 0.9599 - val_loss: 0.3931 - val_accuracy: 0.8756\n"
     ]
    },
    {
     "data": {
      "text/plain": [
       "<matplotlib.axes._subplots.AxesSubplot at 0x1f4210499b0>"
      ]
     },
     "execution_count": 13,
     "metadata": {},
     "output_type": "execute_result"
    },
    {
     "data": {
      "text/plain": [
       "(0, 1)"
      ]
     },
     "execution_count": 13,
     "metadata": {},
     "output_type": "execute_result"
    },
    {
     "data": {
      "text/plain": [
       "Text(0.5, 0, 'Epochs')"
      ]
     },
     "execution_count": 13,
     "metadata": {},
     "output_type": "execute_result"
    },
    {
     "data": {
      "text/plain": [
       "Text(0.5, 1.0, 'Base CNN imdb')"
      ]
     },
     "execution_count": 13,
     "metadata": {},
     "output_type": "execute_result"
    },
    {
     "data": {
      "image/png": "[encoded data removed]",
      "text/plain": [
       "<Figure size 720x360 with 1 Axes>"
      ]
     },
     "metadata": {
      "needs_background": "light"
     },
     "output_type": "display_data"
    },
    {
     "name": "stdout",
     "output_type": "stream",
     "text": [
      "25000/25000 [==============================] - 5s 212us/sample - loss: 0.3916 - accuracy: 0.8740\n"
     ]
    },
    {
     "data": {
      "text/plain": [
       "[0.3916378186559677, 0.87404]"
      ]
     },
     "execution_count": 13,
     "metadata": {},
     "output_type": "execute_result"
    },
    {
     "name": "stdout",
     "output_type": "stream",
     "text": [
      "Model: \"sequential_5\"\n",
      "_________________________________________________________________\n",
      "Layer (type)                 Output Shape              Param #   \n",
      "=================================================================\n",
      "embedding_5 (Embedding)      (None, 400, 50)           125000    \n",
      "_________________________________________________________________\n",
      "dropout_10 (Dropout)         (None, 400, 50)           0         \n",
      "_________________________________________________________________\n",
      "conv1d_10 (Conv1D)           (None, 398, 64)           9664      \n",
      "_________________________________________________________________\n",
      "batch_normalization_10 (Batc (None, 398, 64)           256       \n",
      "_________________________________________________________________\n",
      "conv1d_11 (Conv1D)           (None, 396, 64)           12352     \n",
      "_________________________________________________________________\n",
      "batch_normalization_11 (Batc (None, 396, 64)           256       \n",
      "_________________________________________________________________\n",
      "global_max_pooling1d_5 (Glob (None, 64)                0         \n",
      "_________________________________________________________________\n",
      "dense_10 (Dense)             (None, 512)               33280     \n",
      "_________________________________________________________________\n",
      "dropout_11 (Dropout)         (None, 512)               0         \n",
      "_________________________________________________________________\n",
      "activation_10 (Activation)   (None, 512)               0         \n",
      "_________________________________________________________________\n",
      "dense_11 (Dense)             (None, 1)                 513       \n",
      "_________________________________________________________________\n",
      "activation_11 (Activation)   (None, 1)                 0         \n",
      "=================================================================\n",
      "Total params: 181,321\n",
      "Trainable params: 181,065\n",
      "Non-trainable params: 256\n",
      "_________________________________________________________________\n"
     ]
    }
   ],
   "source": [
    "# Lets start with a very simple 1D CNN model. We will use this as our baseline for everything else in this lab.\n",
    "model = Sequential()\n",
    "\n",
    "# This embedding is a trainable parameter. We aren't using GloVE for this model.\n",
    "model.add(keras.layers.Embedding(2500,50,input_length=400))\n",
    "model.add(keras.layers.Dropout(0.2))\n",
    "\n",
    "# There isn't much of a difference with how 1D and 2D CNNs work. They still use filters and scan the data.\n",
    "# we will use a similar model as our 2D CNN with the adition of an embedding layer at the beginning.\n",
    "model.add(keras.layers.Conv1D(64,3,padding='valid',activation='relu',strides=1))\n",
    "model.add(keras.layers.BatchNormalization())\n",
    "model.add(keras.layers.Conv1D(64,3,padding='valid',activation='relu',strides=1))\n",
    "model.add(keras.layers.BatchNormalization())\n",
    "model.add(keras.layers.GlobalMaxPooling1D())\n",
    "\n",
    "model.add(keras.layers.Dense(512))\n",
    "model.add(keras.layers.Dropout(0.5))\n",
    "model.add(keras.layers.Activation('relu'))\n",
    "\n",
    "# We will use a sigmoid and a 1 neuron dense output since our data is binary.\n",
    "model.add(keras.layers.Dense(1))\n",
    "model.add(keras.layers.Activation('sigmoid'))\n",
    "\n",
    "model.compile(loss='binary_crossentropy',\n",
    "              optimizer='Nadam',\n",
    "              metrics=['accuracy'])\n",
    "\n",
    "history = model.fit(x_train, y_train,\n",
    "              batch_size=128,\n",
    "              epochs=10,\n",
    "              validation_split=0.1)\n",
    "\n",
    "history = pd.DataFrame(history.history)\n",
    "history.plot(figsize=(10,5))\n",
    "plt.grid(True)\n",
    "plt.gca().set_ylim(0,1)\n",
    "plt.xlabel('Epochs')\n",
    "plt.title('Base CNN imdb')\n",
    "plt.show()\n",
    "\n",
    "#After training the model, evaluate the test set\n",
    "model.evaluate(x_test,y_test)\n",
    "\n",
    "#Print the summary of the model\n",
    "model.summary()"
   ]
  },
  {
   "cell_type": "markdown",
   "metadata": {},
   "source": [
    "#### How well is this model doing? Is it overfitting? If so how could you fix this since we are already applying BatchNorm and dropout?"
   ]
  },
  {
   "cell_type": "markdown",
   "metadata": {},
   "source": [
    "### Step 4: Analysis"
   ]
  },
  {
   "cell_type": "markdown",
   "metadata": {},
   "source": [
    "- I have reduced the input dataset to 2500, as my my CUP is making Jupyter notebook kernel err out. \n",
    "- With 2500 dataset, for 10 epochs, we do not see much overfitting. There is no much differece between training and validation accuracies. Training accuracy - 0.95 and Validation accuracy - 0.87\n"
   ]
  },
  {
   "cell_type": "markdown",
   "metadata": {},
   "source": [
    "### Step 5: Filters change from 64 to 250"
   ]
  },
  {
   "cell_type": "code",
   "execution_count": 14,
   "metadata": {},
   "outputs": [
    {
     "name": "stdout",
     "output_type": "stream",
     "text": [
      "Train on 22500 samples, validate on 2500 samples\n",
      "Epoch 1/10\n",
      "22500/22500 [==============================] - 133s 6ms/sample - loss: 0.8059 - accuracy: 0.6405 - val_loss: 0.6859 - val_accuracy: 0.5180\n",
      "Epoch 2/10\n",
      "22500/22500 [==============================] - 125s 6ms/sample - loss: 0.3962 - accuracy: 0.8241 - val_loss: 0.5820 - val_accuracy: 0.7128\n",
      "Epoch 3/10\n",
      "22500/22500 [==============================] - 136s 6ms/sample - loss: 0.3061 - accuracy: 0.8721 - val_loss: 0.3929 - val_accuracy: 0.8608\n",
      "Epoch 4/10\n",
      "22500/22500 [==============================] - 141s 6ms/sample - loss: 0.2644 - accuracy: 0.8919 - val_loss: 0.2898 - val_accuracy: 0.8884\n",
      "Epoch 5/10\n",
      "22500/22500 [==============================] - 143s 6ms/sample - loss: 0.2286 - accuracy: 0.9083 - val_loss: 0.3013 - val_accuracy: 0.8812\n",
      "Epoch 6/10\n",
      "22500/22500 [==============================] - 119s 5ms/sample - loss: 0.1917 - accuracy: 0.9243 - val_loss: 0.3113 - val_accuracy: 0.8816\n",
      "Epoch 7/10\n",
      "22500/22500 [==============================] - 167s 7ms/sample - loss: 0.1612 - accuracy: 0.9382 - val_loss: 0.3450 - val_accuracy: 0.8832\n",
      "Epoch 8/10\n",
      "22500/22500 [==============================] - 145s 6ms/sample - loss: 0.1415 - accuracy: 0.9436 - val_loss: 0.3801 - val_accuracy: 0.8828\n",
      "Epoch 9/10\n",
      "22500/22500 [==============================] - 120s 5ms/sample - loss: 0.1200 - accuracy: 0.9548 - val_loss: 0.4178 - val_accuracy: 0.8664\n",
      "Epoch 10/10\n",
      "22500/22500 [==============================] - 122s 5ms/sample - loss: 0.1014 - accuracy: 0.9608 - val_loss: 0.4038 - val_accuracy: 0.8720\n"
     ]
    },
    {
     "data": {
      "text/plain": [
       "<matplotlib.axes._subplots.AxesSubplot at 0x1f423ff3668>"
      ]
     },
     "execution_count": 14,
     "metadata": {},
     "output_type": "execute_result"
    },
    {
     "data": {
      "text/plain": [
       "(0, 1)"
      ]
     },
     "execution_count": 14,
     "metadata": {},
     "output_type": "execute_result"
    },
    {
     "data": {
      "text/plain": [
       "Text(0.5, 0, 'Epochs')"
      ]
     },
     "execution_count": 14,
     "metadata": {},
     "output_type": "execute_result"
    },
    {
     "data": {
      "text/plain": [
       "Text(0.5, 1.0, 'Base CNN imdb')"
      ]
     },
     "execution_count": 14,
     "metadata": {},
     "output_type": "execute_result"
    },
    {
     "data": {
      "image/png": "[encoded data removed]",
      "text/plain": [
       "<Figure size 720x360 with 1 Axes>"
      ]
     },
     "metadata": {
      "needs_background": "light"
     },
     "output_type": "display_data"
    },
    {
     "name": "stdout",
     "output_type": "stream",
     "text": [
      "25000/25000 [==============================] - 23s 909us/sample - loss: 0.3618 - accuracy: 0.8803\n"
     ]
    },
    {
     "data": {
      "text/plain": [
       "[0.3617532423210144, 0.88028]"
      ]
     },
     "execution_count": 14,
     "metadata": {},
     "output_type": "execute_result"
    },
    {
     "name": "stdout",
     "output_type": "stream",
     "text": [
      "Model: \"sequential_6\"\n",
      "_________________________________________________________________\n",
      "Layer (type)                 Output Shape              Param #   \n",
      "=================================================================\n",
      "embedding_6 (Embedding)      (None, 400, 50)           125000    \n",
      "_________________________________________________________________\n",
      "dropout_12 (Dropout)         (None, 400, 50)           0         \n",
      "_________________________________________________________________\n",
      "conv1d_12 (Conv1D)           (None, 398, 250)          37750     \n",
      "_________________________________________________________________\n",
      "batch_normalization_12 (Batc (None, 398, 250)          1000      \n",
      "_________________________________________________________________\n",
      "conv1d_13 (Conv1D)           (None, 396, 250)          187750    \n",
      "_________________________________________________________________\n",
      "batch_normalization_13 (Batc (None, 396, 250)          1000      \n",
      "_________________________________________________________________\n",
      "global_max_pooling1d_6 (Glob (None, 250)               0         \n",
      "_________________________________________________________________\n",
      "dense_12 (Dense)             (None, 512)               128512    \n",
      "_________________________________________________________________\n",
      "dropout_13 (Dropout)         (None, 512)               0         \n",
      "_________________________________________________________________\n",
      "activation_12 (Activation)   (None, 512)               0         \n",
      "_________________________________________________________________\n",
      "dense_13 (Dense)             (None, 1)                 513       \n",
      "_________________________________________________________________\n",
      "activation_13 (Activation)   (None, 1)                 0         \n",
      "=================================================================\n",
      "Total params: 481,525\n",
      "Trainable params: 480,525\n",
      "Non-trainable params: 1,000\n",
      "_________________________________________________________________\n"
     ]
    }
   ],
   "source": [
    "# Now we will make the network more complex by adding more filters to the data. How did this affect training?\n",
    "# Lets start with a very simple 1D CNN model. We will use this as our baseline for everything else in this lab.\n",
    "model = Sequential()\n",
    "\n",
    "# This embedding is a trainable parameter. We aren't using GloVE for this model.\n",
    "model.add(keras.layers.Embedding(2500,50,input_length=400))\n",
    "model.add(keras.layers.Dropout(0.2))\n",
    "\n",
    "# There isn't much of a difference with how 1D and 2D CNNs work. They still use filters and scan the data.\n",
    "# we will use a similar model as our 2D CNN with the adition of an embedding layer at the beginning.\n",
    "model.add(keras.layers.Conv1D(250,3,padding='valid',activation='relu',strides=1))\n",
    "model.add(keras.layers.BatchNormalization())\n",
    "model.add(keras.layers.Conv1D(250,3,padding='valid',activation='relu',strides=1))\n",
    "model.add(keras.layers.BatchNormalization())\n",
    "model.add(keras.layers.GlobalMaxPooling1D())\n",
    "\n",
    "model.add(keras.layers.Dense(512))\n",
    "model.add(keras.layers.Dropout(0.5))\n",
    "model.add(keras.layers.Activation('relu'))\n",
    "\n",
    "# We will use a sigmoid and a 1 neuron dense output since our data is binary.\n",
    "model.add(keras.layers.Dense(1))\n",
    "model.add(keras.layers.Activation('sigmoid'))\n",
    "\n",
    "model.compile(loss='binary_crossentropy',\n",
    "              optimizer='Nadam',\n",
    "              metrics=['accuracy'])\n",
    "\n",
    "history = model.fit(x_train, y_train,\n",
    "              batch_size=128,\n",
    "              epochs=10,\n",
    "              validation_split=0.1)\n",
    "\n",
    "history = pd.DataFrame(history.history)\n",
    "history.plot(figsize=(10,5))\n",
    "plt.grid(True)\n",
    "plt.gca().set_ylim(0,1)\n",
    "plt.xlabel('Epochs')\n",
    "plt.title('Base CNN imdb')\n",
    "plt.show()\n",
    "\n",
    "#After training the model, evaluate the test set\n",
    "model.evaluate(x_test,y_test)\n",
    "\n",
    "#Print the summary of the model\n",
    "model.summary()"
   ]
  },
  {
   "cell_type": "markdown",
   "metadata": {},
   "source": [
    "Analysis:\n",
    "- Changing filters from 64 to 250, did not contribute much in improving the accuracies. Training and validation accuracies remained same for the dataset of 2500. On the contrary, training speed is increased."
   ]
  },
  {
   "cell_type": "markdown",
   "metadata": {},
   "source": [
    "### Step 6: Add pair of CNN and normalization layers"
   ]
  },
  {
   "cell_type": "code",
   "execution_count": 17,
   "metadata": {},
   "outputs": [
    {
     "name": "stdout",
     "output_type": "stream",
     "text": [
      "Train on 22500 samples, validate on 2500 samples\n",
      "Epoch 1/10\n",
      "22500/22500 [==============================] - 134s 6ms/sample - loss: 0.7671 - accuracy: 0.5418 - val_loss: 0.6976 - val_accuracy: 0.5124\n",
      "Epoch 2/10\n",
      "22500/22500 [==============================] - 135s 6ms/sample - loss: 0.4518 - accuracy: 0.7912 - val_loss: 0.5563 - val_accuracy: 0.7776\n",
      "Epoch 3/10\n",
      "22500/22500 [==============================] - 121s 5ms/sample - loss: 0.3424 - accuracy: 0.8546 - val_loss: 0.3646 - val_accuracy: 0.8532\n",
      "Epoch 4/10\n",
      "22500/22500 [==============================] - 110s 5ms/sample - loss: 0.2986 - accuracy: 0.8762 - val_loss: 0.3012 - val_accuracy: 0.8740\n",
      "Epoch 5/10\n",
      "22500/22500 [==============================] - 114s 5ms/sample - loss: 0.2588 - accuracy: 0.8954 - val_loss: 0.3260 - val_accuracy: 0.8660\n",
      "Epoch 6/10\n",
      "22500/22500 [==============================] - 115s 5ms/sample - loss: 0.2318 - accuracy: 0.9061 - val_loss: 0.3000 - val_accuracy: 0.8772\n",
      "Epoch 7/10\n",
      "22500/22500 [==============================] - 118s 5ms/sample - loss: 0.2046 - accuracy: 0.9191 - val_loss: 0.3982 - val_accuracy: 0.8472\n",
      "Epoch 8/10\n",
      "22500/22500 [==============================] - 178s 8ms/sample - loss: 0.1814 - accuracy: 0.9299 - val_loss: 0.3140 - val_accuracy: 0.8792\n",
      "Epoch 9/10\n",
      "22500/22500 [==============================] - 147s 7ms/sample - loss: 0.1579 - accuracy: 0.9382 - val_loss: 0.3377 - val_accuracy: 0.8812\n",
      "Epoch 10/10\n",
      "22500/22500 [==============================] - 160s 7ms/sample - loss: 0.1404 - accuracy: 0.9453 - val_loss: 0.3385 - val_accuracy: 0.8808\n"
     ]
    },
    {
     "data": {
      "text/plain": [
       "<matplotlib.axes._subplots.AxesSubplot at 0x1f422bd2438>"
      ]
     },
     "execution_count": 17,
     "metadata": {},
     "output_type": "execute_result"
    },
    {
     "data": {
      "text/plain": [
       "(0, 1)"
      ]
     },
     "execution_count": 17,
     "metadata": {},
     "output_type": "execute_result"
    },
    {
     "data": {
      "text/plain": [
       "Text(0.5, 0, 'Epochs')"
      ]
     },
     "execution_count": 17,
     "metadata": {},
     "output_type": "execute_result"
    },
    {
     "data": {
      "text/plain": [
       "Text(0.5, 1.0, 'Base CNN imdb')"
      ]
     },
     "execution_count": 17,
     "metadata": {},
     "output_type": "execute_result"
    },
    {
     "data": {
      "image/png": "[encoded data removed]",
      "text/plain": [
       "<Figure size 720x360 with 1 Axes>"
      ]
     },
     "metadata": {
      "needs_background": "light"
     },
     "output_type": "display_data"
    },
    {
     "name": "stdout",
     "output_type": "stream",
     "text": [
      "25000/25000 [==============================] - 28s 1ms/sample - loss: 0.3556 - accuracy: 0.8720\n"
     ]
    },
    {
     "data": {
      "text/plain": [
       "[0.3555895343375206, 0.87204]"
      ]
     },
     "execution_count": 17,
     "metadata": {},
     "output_type": "execute_result"
    },
    {
     "name": "stdout",
     "output_type": "stream",
     "text": [
      "Model: \"sequential_9\"\n",
      "_________________________________________________________________\n",
      "Layer (type)                 Output Shape              Param #   \n",
      "=================================================================\n",
      "embedding_9 (Embedding)      (None, 400, 50)           125000    \n",
      "_________________________________________________________________\n",
      "dropout_17 (Dropout)         (None, 400, 50)           0         \n",
      "_________________________________________________________________\n",
      "conv1d_20 (Conv1D)           (None, 398, 64)           9664      \n",
      "_________________________________________________________________\n",
      "batch_normalization_18 (Batc (None, 398, 64)           256       \n",
      "_________________________________________________________________\n",
      "conv1d_21 (Conv1D)           (None, 396, 64)           12352     \n",
      "_________________________________________________________________\n",
      "batch_normalization_19 (Batc (None, 396, 64)           256       \n",
      "_________________________________________________________________\n",
      "dense_15 (Dense)             (None, 396, 512)          33280     \n",
      "_________________________________________________________________\n",
      "dropout_18 (Dropout)         (None, 396, 512)          0         \n",
      "_________________________________________________________________\n",
      "activation_15 (Activation)   (None, 396, 512)          0         \n",
      "_________________________________________________________________\n",
      "conv1d_22 (Conv1D)           (None, 394, 64)           98368     \n",
      "_________________________________________________________________\n",
      "batch_normalization_20 (Batc (None, 394, 64)           256       \n",
      "_________________________________________________________________\n",
      "conv1d_23 (Conv1D)           (None, 392, 64)           12352     \n",
      "_________________________________________________________________\n",
      "batch_normalization_21 (Batc (None, 392, 64)           256       \n",
      "_________________________________________________________________\n",
      "global_max_pooling1d_9 (Glob (None, 64)                0         \n",
      "_________________________________________________________________\n",
      "dense_16 (Dense)             (None, 512)               33280     \n",
      "_________________________________________________________________\n",
      "dropout_19 (Dropout)         (None, 512)               0         \n",
      "_________________________________________________________________\n",
      "activation_16 (Activation)   (None, 512)               0         \n",
      "_________________________________________________________________\n",
      "dense_17 (Dense)             (None, 1)                 513       \n",
      "_________________________________________________________________\n",
      "activation_17 (Activation)   (None, 1)                 0         \n",
      "=================================================================\n",
      "Total params: 325,833\n",
      "Trainable params: 325,321\n",
      "Non-trainable params: 512\n",
      "_________________________________________________________________\n"
     ]
    }
   ],
   "source": [
    "# Now lets add more CNN and BatchNorm layers to the network. Did this have the same affect as 2D CNNs from lab 5?\n",
    "# Lets start with a very simple 1D CNN model. We will use this as our baseline for everything else in this lab.\n",
    "model = Sequential()\n",
    "\n",
    "# This embedding is a trainable parameter. We aren't using GloVE for this model.\n",
    "model.add(keras.layers.Embedding(2500,50,input_length=400))\n",
    "model.add(keras.layers.Dropout(0.2))\n",
    "\n",
    "# There isn't much of a difference with how 1D and 2D CNNs work. They still use filters and scan the data.\n",
    "# we will use a similar model as our 2D CNN with the adition of an embedding layer at the beginning.\n",
    "model.add(keras.layers.Conv1D(64,3,padding='valid',activation='relu',strides=1))\n",
    "model.add(keras.layers.BatchNormalization())\n",
    "model.add(keras.layers.Conv1D(64,3,padding='valid',activation='relu',strides=1))\n",
    "model.add(keras.layers.BatchNormalization())\n",
    "\n",
    "model.add(keras.layers.Dense(512))\n",
    "model.add(keras.layers.Dropout(0.5))\n",
    "model.add(keras.layers.Activation('relu'))\n",
    "\n",
    "model.add(keras.layers.Conv1D(64,3,padding='valid',activation='relu',strides=1))\n",
    "model.add(keras.layers.BatchNormalization())\n",
    "model.add(keras.layers.Conv1D(64,3,padding='valid',activation='relu',strides=1))\n",
    "model.add(keras.layers.BatchNormalization())\n",
    "model.add(keras.layers.GlobalMaxPooling1D())\n",
    "\n",
    "model.add(keras.layers.Dense(512))\n",
    "model.add(keras.layers.Dropout(0.5))\n",
    "model.add(keras.layers.Activation('relu'))\n",
    "\n",
    "# We will use a sigmoid and a 1 neuron dense output since our data is binary.\n",
    "model.add(keras.layers.Dense(1))\n",
    "model.add(keras.layers.Activation('sigmoid'))\n",
    "\n",
    "model.compile(loss='binary_crossentropy',\n",
    "              optimizer='Nadam',\n",
    "              metrics=['accuracy'])\n",
    "\n",
    "history = model.fit(x_train, y_train,\n",
    "              batch_size=128,\n",
    "              epochs=10,\n",
    "              validation_split=0.1)\n",
    "\n",
    "history = pd.DataFrame(history.history)\n",
    "history.plot(figsize=(10,5))\n",
    "plt.grid(True)\n",
    "plt.gca().set_ylim(0,1)\n",
    "plt.xlabel('Epochs')\n",
    "plt.title('Base CNN imdb')\n",
    "plt.show()\n",
    "\n",
    "#After training the model, evaluate the test set\n",
    "model.evaluate(x_test,y_test)\n",
    "\n",
    "#Print the summary of the model\n",
    "model.summary()"
   ]
  },
  {
   "cell_type": "markdown",
   "metadata": {},
   "source": [
    "#### Do 1D CNNs and 2D CNNs behave the same from the changes we are making?"
   ]
  },
  {
   "cell_type": "markdown",
   "metadata": {},
   "source": [
    "Now lets look at some LSTMs. LSTMs and RNNs in general were the racehorse of deep learning from 2014-2016. Now they have drastically fallen off of favor in the DL community. The questions we want to answer in this lab are: Why do you think this is? Do you think it was a mistake to stray away from RNNs? What changes do you think we could make to make them better or should we just drop them all together?\n",
    "\n",
    "The resources to learn more about this debate can be found here: https://towardsdatascience.com/the-fall-of-rnn-lstm-2d1594c74ce0\n",
    "\n",
    "and here: https://towardsdatascience.com/memory-attention-sequences-37456d271992\n",
    "\n",
    "and here: https://towardsdatascience.com/visual-attention-model-in-deep-learning-708813c2912c\n",
    "\n",
    "These are optional readings but they serve to give you a firm foundation on the knowledge of current deep learning thought. Feel free to answer the above questions after we train our LSTMs.\n",
    "\n",
    "If you don't know anything about RNNs read this: http://karpathy.github.io/2015/05/21/rnn-effectiveness/"
   ]
  },
  {
   "cell_type": "markdown",
   "metadata": {},
   "source": [
    "### Step 7: LSTM model"
   ]
  },
  {
   "cell_type": "code",
   "execution_count": 20,
   "metadata": {},
   "outputs": [
    {
     "name": "stdout",
     "output_type": "stream",
     "text": [
      "Train on 25000 samples, validate on 25000 samples\n",
      "Epoch 1/5\n",
      "25000/25000 [==============================] - 831s 33ms/sample - loss: 0.5236 - accuracy: 0.7232 - val_loss: 0.3781 - val_accuracy: 0.8356\n",
      "Epoch 2/5\n",
      "25000/25000 [==============================] - 793s 32ms/sample - loss: 0.3683 - accuracy: 0.8443 - val_loss: 0.4897 - val_accuracy: 0.7838\n",
      "Epoch 3/5\n",
      "25000/25000 [==============================] - 942s 38ms/sample - loss: 0.4685 - accuracy: 0.8014 - val_loss: 0.4291 - val_accuracy: 0.8038\n",
      "Epoch 4/5\n",
      "25000/25000 [==============================] - 913s 37ms/sample - loss: 0.3297 - accuracy: 0.8647 - val_loss: 0.3179 - val_accuracy: 0.8650\n",
      "Epoch 5/5\n",
      "25000/25000 [==============================] - 966s 39ms/sample - loss: 0.2804 - accuracy: 0.8881 - val_loss: 0.3317 - val_accuracy: 0.8570\n"
     ]
    },
    {
     "data": {
      "text/plain": [
       "<matplotlib.axes._subplots.AxesSubplot at 0x1f4208b3fd0>"
      ]
     },
     "execution_count": 20,
     "metadata": {},
     "output_type": "execute_result"
    },
    {
     "data": {
      "text/plain": [
       "(0, 1)"
      ]
     },
     "execution_count": 20,
     "metadata": {},
     "output_type": "execute_result"
    },
    {
     "data": {
      "text/plain": [
       "Text(0.5, 0, 'Epochs')"
      ]
     },
     "execution_count": 20,
     "metadata": {},
     "output_type": "execute_result"
    },
    {
     "data": {
      "text/plain": [
       "Text(0.5, 1.0, 'Base CNN imdb')"
      ]
     },
     "execution_count": 20,
     "metadata": {},
     "output_type": "execute_result"
    },
    {
     "data": {
      "image/png": "[encoded data removed]",
      "text/plain": [
       "<Figure size 720x360 with 1 Axes>"
      ]
     },
     "metadata": {
      "needs_background": "light"
     },
     "output_type": "display_data"
    },
    {
     "name": "stdout",
     "output_type": "stream",
     "text": [
      "25000/25000 [==============================] - 187s 7ms/sample - loss: 0.3317 - accuracy: 0.8570\n"
     ]
    },
    {
     "data": {
      "text/plain": [
       "[0.3317405798149109, 0.85704]"
      ]
     },
     "execution_count": 20,
     "metadata": {},
     "output_type": "execute_result"
    },
    {
     "name": "stdout",
     "output_type": "stream",
     "text": [
      "Model: \"sequential_11\"\n",
      "_________________________________________________________________\n",
      "Layer (type)                 Output Shape              Param #   \n",
      "=================================================================\n",
      "embedding_11 (Embedding)     (None, 400, 50)           250000    \n",
      "_________________________________________________________________\n",
      "lstm_2 (LSTM)                (None, 400, 128)          91648     \n",
      "_________________________________________________________________\n",
      "lstm_3 (LSTM)                (None, 128)               131584    \n",
      "_________________________________________________________________\n",
      "dense_20 (Dense)             (None, 512)               66048     \n",
      "_________________________________________________________________\n",
      "dropout_21 (Dropout)         (None, 512)               0         \n",
      "_________________________________________________________________\n",
      "dense_21 (Dense)             (None, 1)                 513       \n",
      "=================================================================\n",
      "Total params: 539,793\n",
      "Trainable params: 539,793\n",
      "Non-trainable params: 0\n",
      "_________________________________________________________________\n"
     ]
    }
   ],
   "source": [
    "# Now we will make our LSTMs. We will use a smaller batch size as they take longer to train.\n",
    "# We use the same embedding layers as we did for our CNNs.\n",
    "model = keras.models.Sequential()\n",
    "model.add(keras.layers.Embedding(5000,50,input_length=400))\n",
    "\n",
    "# Here we will add in our LSTM layers. They should be directly after the embedding layer.\n",
    "model.add(keras.layers.LSTM(128, return_sequences=True))\n",
    "model.add(keras.layers.LSTM(128))\n",
    "\n",
    "# Now we will cast the LSTM output to a dense layer to sort it. If you haven't noticed, thick dense layers at the end of networks are how every model 'collects its thoughts'.\n",
    "model.add(keras.layers.Dense(512, activation='relu'))\n",
    "model.add(keras.layers.Dropout(0.5))\n",
    "model.add(keras.layers.Dense(1, activation='sigmoid'))\n",
    "\n",
    "model.compile('Nadam', 'binary_crossentropy', metrics=['accuracy'])\n",
    "\n",
    "history = model.fit(x_train, y_train,\n",
    "              batch_size=128,\n",
    "              epochs=5,\n",
    "              validation_data=[x_test, y_test])\n",
    "\n",
    "history = pd.DataFrame(history.history)\n",
    "history.plot(figsize=(10,5))\n",
    "plt.grid(True)\n",
    "plt.gca().set_ylim(0,1)\n",
    "plt.xlabel('Epochs')\n",
    "plt.title('Base CNN imdb')\n",
    "plt.show()\n",
    "\n",
    "#After training the model, evaluate the test set\n",
    "model.evaluate(x_test,y_test)\n",
    "\n",
    "#Print the summary of the model\n",
    "model.summary()"
   ]
  },
  {
   "cell_type": "markdown",
   "metadata": {},
   "source": [
    "How does the basic LSTM compare to the 1D CNN? Is it overfitting as much? is it's testing accuracy better? \n",
    "Answer: \n",
    "- CNN do not have the ability to know the past information of  the input. RNN solves this problem by taking the output as input.\n",
    "- But normal RNN has the problem of short term memory. Sometimes, domain knowledge would be lost by the time information is passed to output neuron. LSTM were designed to overcome this problem. \n",
    "- There is a slight improvement in accuracy. I think overfitting is not a problem with 1D CNN either for the given dataset. But RNN performs better than 1D CNN\n"
   ]
  },
  {
   "cell_type": "markdown",
   "metadata": {},
   "source": [
    "### Step 8: LSTM - 2 layers"
   ]
  },
  {
   "cell_type": "code",
   "execution_count": null,
   "metadata": {},
   "outputs": [],
   "source": [
    "# Now lets add another LSTM layer to our model. Did that improve overfitting/accuracy?\n",
    "model = keras.models.Sequential()\n",
    "model.add(keras.layers.Embedding(5000,50,input_length=400))\n",
    "\n",
    "# Here we will add in our LSTM layers. They should be directly after the embedding layer.\n",
    "model.add(keras.layers.LSTM(128, return_sequences=True))\n",
    "model.add(keras.layers.LSTM(128, return_sequences=True)) ## Added layer\n",
    "model.add(keras.layers.LSTM(128))\n",
    "\n",
    "# Now we will cast the LSTM output to a dense layer to sort it. If you haven't noticed, thick dense layers at the end of networks are how every model 'collects its thoughts'.\n",
    "model.add(keras.layers.Dense(512, activation='relu'))\n",
    "model.add(keras.layers.Dropout(0.5))\n",
    "model.add(keras.layers.Dense(1, activation='sigmoid'))\n",
    "\n",
    "model.compile('Nadam', 'binary_crossentropy', metrics=['accuracy'])\n",
    "\n",
    "history = model.fit(x_train, y_train,\n",
    "              batch_size=128,\n",
    "              epochs=5,\n",
    "              validation_data=[x_test, y_test])\n",
    "\n",
    "history = pd.DataFrame(history.history)\n",
    "history.plot(figsize=(10,5))\n",
    "plt.grid(True)\n",
    "plt.gca().set_ylim(0,1)\n",
    "plt.xlabel('Epochs')\n",
    "plt.title('Base CNN imdb')\n",
    "plt.show()\n",
    "\n",
    "#After training the model, evaluate the test set\n",
    "model.evaluate(x_test,y_test)\n",
    "\n",
    "#Print the summary of the model\n",
    "model.summary()"
   ]
  },
  {
   "cell_type": "markdown",
   "metadata": {},
   "source": [
    "### Step 9: LSTM with 256 neurons"
   ]
  },
  {
   "cell_type": "code",
   "execution_count": null,
   "metadata": {},
   "outputs": [],
   "source": [
    "# Now lets use larger LSTM layers. What affect did that have? Why do you think that is based off of your knowledge of RNNs.\n",
    "# Now we will make our LSTMs. We will use a smaller batch size as they take longer to train.\n",
    "# We use the same embedding layers as we did for our CNNs.\n",
    "model = keras.models.Sequential()\n",
    "model.add(keras.layers.Embedding(5000,50,input_length=400))\n",
    "\n",
    "# Here we will add in our LSTM layers. They should be directly after the embedding layer.\n",
    "model.add(keras.layers.LSTM(256, return_sequences=True))\n",
    "model.add(keras.layers.LSTM(256))\n",
    "\n",
    "# Now we will cast the LSTM output to a dense layer to sort it. If you haven't noticed, thick dense layers at the end of networks are how every model 'collects its thoughts'.\n",
    "model.add(keras.layers.Dense(512, activation='relu'))\n",
    "model.add(keras.layers.Dropout(0.5))\n",
    "model.add(keras.layers.Dense(1, activation='sigmoid'))\n",
    "\n",
    "model.compile('Nadam', 'binary_crossentropy', metrics=['accuracy'])\n",
    "\n",
    "history = model.fit(x_train, y_train,\n",
    "              batch_size=128,\n",
    "              epochs=5,\n",
    "              validation_data=[x_test, y_test])\n",
    "\n",
    "history = pd.DataFrame(history.history)\n",
    "history.plot(figsize=(10,5))\n",
    "plt.grid(True)\n",
    "plt.gca().set_ylim(0,1)\n",
    "plt.xlabel('Epochs')\n",
    "plt.title('Base CNN imdb')\n",
    "plt.show()\n",
    "\n",
    "#After training the model, evaluate the test set\n",
    "model.evaluate(x_test,y_test)\n",
    "\n",
    "#Print the summary of the model\n",
    "model.summary()"
   ]
  },
  {
   "cell_type": "markdown",
   "metadata": {},
   "source": [
    "### Step 10: LSTM with bi-directional wrapper"
   ]
  },
  {
   "cell_type": "code",
   "execution_count": null,
   "metadata": {},
   "outputs": [],
   "source": [
    "# Now lets add Bi-directional layers to each of our RNNs. These make the model learn the data scanning both forwards and backwards. \n",
    "# Here is a detailed description: https://towardsdatascience.com/understanding-bidirectional-rnn-in-pytorch-5bd25a5dd66\n",
    "\n",
    "# The bidirectional layer is a wrapper, you can apply it like so to each LSTM layer.\n",
    "model.add(Bidirectional(LSTM(128)))\n",
    "model = keras.models.Sequential()\n",
    "model.add(keras.layers.Embedding(5000,50,input_length=400))\n",
    "\n",
    "# Here we will add in our LSTM layers. They should be directly after the embedding layer.\n",
    "model.add(keras.layers.Bidirectional(LSTM(128, return_sequences=True)))\n",
    "model.add(keras.layers.Bidirectional(LSTM(128)))\n",
    "\n",
    "# Now we will cast the LSTM output to a dense layer to sort it. If you haven't noticed, thick dense layers at the end of networks are how every model 'collects its thoughts'.\n",
    "model.add(keras.layers.Dense(512, activation='relu'))\n",
    "model.add(keras.layers.Dropout(0.5))\n",
    "model.add(keras.layers.Dense(1, activation='sigmoid'))\n",
    "\n",
    "model.compile('Nadam', 'binary_crossentropy', metrics=['accuracy'])\n",
    "\n",
    "history = model.fit(x_train, y_train,\n",
    "              batch_size=128,\n",
    "              epochs=5,\n",
    "              validation_data=[x_test, y_test])\n",
    "\n",
    "history = pd.DataFrame(history.history)\n",
    "history.plot(figsize=(10,5))\n",
    "plt.grid(True)\n",
    "plt.gca().set_ylim(0,1)\n",
    "plt.xlabel('Epochs')\n",
    "plt.title('Base CNN imdb')\n",
    "plt.show()\n",
    "\n",
    "#After training the model, evaluate the test set\n",
    "model.evaluate(x_test,y_test)\n",
    "\n",
    "#Print the summary of the model\n",
    "model.summary()"
   ]
  },
  {
   "cell_type": "markdown",
   "metadata": {},
   "source": [
    "### Step 11: Attention Mechanisms"
   ]
  },
  {
   "cell_type": "markdown",
   "metadata": {},
   "source": [
    "- Using attention mechanism, the path from an input word to its translation is much shorter. So the short-term memory limitations of RNNs have much less impact.\n",
    "- Instead of just sending encoder's final hidden state to the decoder, we now send all of its outputs to the decoder. At each time step, the decoder's memory cell computes a weighted sum of all these encoder outputs. This determines which words it will focus on at this step.\n",
    "- At each time step, the memory cell receives the inputs as we discussed in above step, plus the hidden state from the previous time step and finally it receieves the target word from the previous time step.\n",
    "- I think, for NLP , RNN with attention wrapper will do better and for image domain, ResNet with CNN along with attention will do better."
   ]
  },
  {
   "cell_type": "markdown",
   "metadata": {},
   "source": [
    "#### Can you think of anyway to prevent overfitting in an LSTM? got down some ideas and feel free to try them. If you get a signifcant result post it to the discussion board for the rest of the class!"
   ]
  },
  {
   "cell_type": "markdown",
   "metadata": {},
   "source": [
    "Now that we have looked at the classical examples of 1D CNNs and LSTMs, what do you think are the potential tradeoffs between using each one? Which one makes more sense to use and is there a reason to use LSTMs or RNNs in general for sequential data?\n",
    "\n",
    "If you are feeling brave and have the extra time I encourage you to impliment an attention layer for both the 1D CNN and bi-directional LSTM and see how much Attention helps. You can also use image attention layers to improve 2D CNNs!"
   ]
  }
 ],
 "metadata": {
  "kernelspec": {
   "display_name": "Python 3",
   "language": "python",
   "name": "python3"
  },
  "language_info": {
   "codemirror_mode": {
    "name": "ipython",
    "version": 3
   },
   "file_extension": ".py",
   "mimetype": "text/x-python",
   "name": "python",
   "nbconvert_exporter": "python",
   "pygments_lexer": "ipython3",
   "version": "3.6.10"
  }
 },
 "nbformat": 4,
 "nbformat_minor": 4
}
