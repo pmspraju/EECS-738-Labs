{
 "cells": [
  {
   "cell_type": "markdown",
   "metadata": {},
   "source": [
    "## EECS 738: Lab 5"
   ]
  },
  {
   "cell_type": "markdown",
   "metadata": {},
   "source": [
    "### Step 0: Import relevant packages"
   ]
  },
  {
   "cell_type": "code",
   "execution_count": 1,
   "metadata": {},
   "outputs": [
    {
     "name": "stdout",
     "output_type": "stream",
     "text": [
      "Packages Loaded\n",
      "The Tensorflow version is 2.1.0.\n",
      "The Keras version is 2.2.4-tf.\n",
      "The Pandas version is 1.0.3.\n",
      "The Numpy version is 1.18.1.\n",
      "C:\\ProgramData\\Anaconda2\\envs\\TFK35\\lib\\site-packages\\numpy\\__init__.py\n"
     ]
    },
    {
     "name": "stderr",
     "output_type": "stream",
     "text": [
      "Using TensorFlow backend.\n"
     ]
    }
   ],
   "source": [
    "from __future__ import print_function\n",
    "\n",
    "import os\n",
    "\n",
    "import pandas as pd\n",
    "import numpy as np\n",
    "import matplotlib.pyplot as plt\n",
    "\n",
    "import tensorflow as tf\n",
    "from tensorflow import keras\n",
    "from tensorflow.keras.models import Sequential, Model\n",
    "from tensorflow.keras.layers import *\n",
    "from tensorflow.keras.optimizers import SGD, Adam\n",
    "from tensorflow.keras.activations import relu\n",
    "from tensorflow.keras.regularizers import l2\n",
    "from tensorflow.keras.constraints import max_norm\n",
    "from tensorflow.keras import backend as K\n",
    "from tensorflow.keras.datasets import cifar100, cifar10\n",
    "from tensorflow.keras.preprocessing.image import ImageDataGenerator\n",
    "from keras.layers import Dense, Dropout, Activation, Flatten\n",
    "from keras.layers import Conv2D, MaxPooling2D\n",
    "from keras.callbacks import EarlyStopping\n",
    "\n",
    "from IPython.core.interactiveshell import InteractiveShell\n",
    "InteractiveShell.ast_node_interactivity = \"all\"\n",
    "\n",
    "print(\"Packages Loaded\")\n",
    "print('The Tensorflow version is {}.'.format(tf.__version__))\n",
    "print('The Keras version is {}.'.format(keras.__version__))\n",
    "print('The Pandas version is {}.'.format(pd.__version__))\n",
    "print('The Numpy version is {}.'.format(np.__version__))\n",
    "print(np.__file__)"
   ]
  },
  {
   "cell_type": "markdown",
   "metadata": {},
   "source": [
    "### Step 1: Import Cifar 10, 100 datasets\n",
    "### Step 2: Prepare the data - Typecasting, Normalization"
   ]
  },
  {
   "cell_type": "code",
   "execution_count": 2,
   "metadata": {},
   "outputs": [
    {
     "name": "stdout",
     "output_type": "stream",
     "text": [
      "Shape of Cifar10 train data (50000, 32, 32, 3).\n",
      "Shape of Cifar10 test data (10000, 32, 32, 3).\n"
     ]
    }
   ],
   "source": [
    "# Now import Cifar-10 data and process it.\n",
    "(x1_train, y1_train), (x1_test, y1_test) = cifar10.load_data()\n",
    "\n",
    "x1_train = x1_train.astype('float32')\n",
    "x1_test = x1_test.astype('float32')\n",
    "x1_train /= 255\n",
    "x1_test /= 255\n",
    "\n",
    "x1_train = tf.keras.utils.normalize(x1_train, axis=1)\n",
    "x1_test = tf.keras.utils.normalize(x1_test, axis=1)\n",
    "\n",
    "y1_train = tf.keras.utils.to_categorical(y1_train, 10)\n",
    "y1_test = tf.keras.utils.to_categorical(y1_test, 10)\n",
    "\n",
    "print('Shape of Cifar10 train data {}.'.format(x1_train.shape))\n",
    "print('Shape of Cifar10 test data {}.'.format(x1_test.shape))"
   ]
  },
  {
   "cell_type": "markdown",
   "metadata": {},
   "source": [
    "### Step 3: Prepare Cifar 100 "
   ]
  },
  {
   "cell_type": "code",
   "execution_count": 3,
   "metadata": {},
   "outputs": [
    {
     "name": "stdout",
     "output_type": "stream",
     "text": [
      "Shape of Cifar100 train data (50000, 32, 32, 3).\n",
      "Shape of Cifar100 test data (10000, 32, 32, 3).\n"
     ]
    }
   ],
   "source": [
    "# Now import Cifar-100 data and process it.\n",
    "(x2_train, y2_train), (x2_test, y2_test) = cifar100.load_data()\n",
    "\n",
    "x2_train = x2_train.astype('float32')\n",
    "x2_test = x2_test.astype('float32')\n",
    "x2_train /= 255\n",
    "x2_test /= 255\n",
    "\n",
    "x2_train = tf.keras.utils.normalize(x2_train, axis=1)\n",
    "x2_test = tf.keras.utils.normalize(x2_test, axis=1)\n",
    "\n",
    "y2_train = tf.keras.utils.to_categorical(y2_train, 100)\n",
    "y2_test = tf.keras.utils.to_categorical(y2_test, 100)\n",
    "\n",
    "print('Shape of Cifar100 train data {}.'.format(x2_train.shape))\n",
    "print('Shape of Cifar100 test data {}.'.format(x2_test.shape))"
   ]
  },
  {
   "cell_type": "markdown",
   "metadata": {},
   "source": [
    "### Step 4: Sequential for Cifar10, 100"
   ]
  },
  {
   "cell_type": "markdown",
   "metadata": {},
   "source": [
    "#### Sequential Cifar10 - 64,64,64,10"
   ]
  },
  {
   "cell_type": "code",
   "execution_count": 4,
   "metadata": {},
   "outputs": [
    {
     "name": "stdout",
     "output_type": "stream",
     "text": [
      "Train on 50000 samples, validate on 10000 samples\n",
      "Epoch 1/20\n",
      "50000/50000 [==============================] - 2s 47us/sample - loss: 2.0828 - accuracy: 0.2322 - val_loss: 2.0194 - val_accuracy: 0.2688\n",
      "Epoch 2/20\n",
      "50000/50000 [==============================] - 2s 39us/sample - loss: 1.8898 - accuracy: 0.3179 - val_loss: 1.8835 - val_accuracy: 0.3230\n",
      "Epoch 3/20\n",
      "50000/50000 [==============================] - 2s 38us/sample - loss: 1.8069 - accuracy: 0.3493 - val_loss: 1.8842 - val_accuracy: 0.3278\n",
      "Epoch 4/20\n",
      "50000/50000 [==============================] - 2s 39us/sample - loss: 1.7569 - accuracy: 0.3697 - val_loss: 1.7458 - val_accuracy: 0.3745\n",
      "Epoch 5/20\n",
      "50000/50000 [==============================] - 2s 38us/sample - loss: 1.7099 - accuracy: 0.3880 - val_loss: 1.8441 - val_accuracy: 0.3467\n",
      "Epoch 6/20\n",
      "50000/50000 [==============================] - 2s 39us/sample - loss: 1.6715 - accuracy: 0.4062 - val_loss: 1.7695 - val_accuracy: 0.3802\n",
      "Epoch 7/20\n",
      "50000/50000 [==============================] - 2s 40us/sample - loss: 1.6385 - accuracy: 0.4158 - val_loss: 1.7117 - val_accuracy: 0.3924\n",
      "Epoch 8/20\n",
      "50000/50000 [==============================] - 2s 39us/sample - loss: 1.6094 - accuracy: 0.4241 - val_loss: 1.7997 - val_accuracy: 0.3784\n",
      "Epoch 9/20\n",
      "50000/50000 [==============================] - 2s 38us/sample - loss: 1.5836 - accuracy: 0.4364 - val_loss: 1.6857 - val_accuracy: 0.3929\n",
      "Epoch 10/20\n",
      "50000/50000 [==============================] - 2s 39us/sample - loss: 1.5618 - accuracy: 0.4436 - val_loss: 1.8070 - val_accuracy: 0.3657\n",
      "Epoch 11/20\n",
      "50000/50000 [==============================] - 2s 39us/sample - loss: 1.5422 - accuracy: 0.4506 - val_loss: 1.6520 - val_accuracy: 0.4177\n",
      "Epoch 12/20\n",
      "50000/50000 [==============================] - 2s 39us/sample - loss: 1.5203 - accuracy: 0.4589 - val_loss: 1.6203 - val_accuracy: 0.4205\n",
      "Epoch 13/20\n",
      "50000/50000 [==============================] - 2s 38us/sample - loss: 1.5023 - accuracy: 0.4649 - val_loss: 1.8672 - val_accuracy: 0.3675\n",
      "Epoch 14/20\n",
      "50000/50000 [==============================] - 2s 38us/sample - loss: 1.4891 - accuracy: 0.4688 - val_loss: 1.6306 - val_accuracy: 0.4215\n",
      "Epoch 15/20\n",
      "50000/50000 [==============================] - 2s 38us/sample - loss: 1.4695 - accuracy: 0.4773 - val_loss: 1.6240 - val_accuracy: 0.4297\n",
      "Epoch 16/20\n",
      "50000/50000 [==============================] - 2s 38us/sample - loss: 1.4558 - accuracy: 0.4813 - val_loss: 1.7439 - val_accuracy: 0.3939\n",
      "Epoch 17/20\n",
      "50000/50000 [==============================] - 2s 39us/sample - loss: 1.4410 - accuracy: 0.4879 - val_loss: 1.6020 - val_accuracy: 0.4244\n",
      "Epoch 18/20\n",
      "50000/50000 [==============================] - 2s 38us/sample - loss: 1.4286 - accuracy: 0.4911 - val_loss: 1.5879 - val_accuracy: 0.4357\n",
      "Epoch 19/20\n",
      "50000/50000 [==============================] - 2s 38us/sample - loss: 1.4147 - accuracy: 0.4966 - val_loss: 1.6422 - val_accuracy: 0.4338\n",
      "Epoch 20/20\n",
      "50000/50000 [==============================] - 2s 38us/sample - loss: 1.3994 - accuracy: 0.5010 - val_loss: 1.6476 - val_accuracy: 0.4211\n"
     ]
    },
    {
     "data": {
      "text/plain": [
       "<matplotlib.axes._subplots.AxesSubplot at 0x158118af3c8>"
      ]
     },
     "execution_count": 4,
     "metadata": {},
     "output_type": "execute_result"
    },
    {
     "data": {
      "text/plain": [
       "(0, 1)"
      ]
     },
     "execution_count": 4,
     "metadata": {},
     "output_type": "execute_result"
    },
    {
     "data": {
      "text/plain": [
       "Text(0.5, 0, 'Epochs')"
      ]
     },
     "execution_count": 4,
     "metadata": {},
     "output_type": "execute_result"
    },
    {
     "data": {
      "text/plain": [
       "Text(0.5, 1.0, 'Sequential Cifar10 Neural Nets')"
      ]
     },
     "execution_count": 4,
     "metadata": {},
     "output_type": "execute_result"
    },
    {
     "data": {
      "image/png": "[encoded data removed]",
      "text/plain": [
       "<Figure size 720x360 with 1 Axes>"
      ]
     },
     "metadata": {
      "needs_background": "light"
     },
     "output_type": "display_data"
    },
    {
     "name": "stdout",
     "output_type": "stream",
     "text": [
      "10000/10000 [==============================] - 0s 31us/sample - loss: 1.6476 - accuracy: 0.4211\n"
     ]
    },
    {
     "data": {
      "text/plain": [
       "[1.647566963005066, 0.4211]"
      ]
     },
     "execution_count": 4,
     "metadata": {},
     "output_type": "execute_result"
    },
    {
     "name": "stdout",
     "output_type": "stream",
     "text": [
      "Model: \"sequential\"\n",
      "_________________________________________________________________\n",
      "Layer (type)                 Output Shape              Param #   \n",
      "=================================================================\n",
      "dense (Dense)                (None, 64)                196672    \n",
      "_________________________________________________________________\n",
      "dense_1 (Dense)              (None, 64)                4160      \n",
      "_________________________________________________________________\n",
      "dense_2 (Dense)              (None, 64)                4160      \n",
      "_________________________________________________________________\n",
      "dense_3 (Dense)              (None, 64)                4160      \n",
      "_________________________________________________________________\n",
      "dense_4 (Dense)              (None, 10)                650       \n",
      "=================================================================\n",
      "Total params: 209,802\n",
      "Trainable params: 209,802\n",
      "Non-trainable params: 0\n",
      "_________________________________________________________________\n"
     ]
    }
   ],
   "source": [
    "# Our baseline model for this lab.\n",
    "model = Sequential()\n",
    "\n",
    "model.add(keras.layers.Dense(64, activation='relu', input_shape=(3072,)))\n",
    "\n",
    "model.add(keras.layers.Dense(64, activation='relu'))\n",
    "\n",
    "model.add(keras.layers.Dense(64, activation='relu'))\n",
    "\n",
    "model.add(keras.layers.Dense(64, activation='relu'))\n",
    "\n",
    "model.add(keras.layers.Dense(10, activation='softmax'))\n",
    "\n",
    "model.compile(loss='categorical_crossentropy',\n",
    "              optimizer=SGD(lr=0.01, decay=1e-6, momentum=0.9, nesterov=True),\n",
    "              metrics=['accuracy'])\n",
    "\n",
    "# Notice that you can reshape the data for an MLP inside the fit call without changing it globally!\n",
    "model_detail = model.fit(x1_train.reshape(50000, 3072), y1_train, epochs=20, batch_size=64, validation_data=(x1_test.reshape(10000, 3072), y1_test))\n",
    "\n",
    "#plot accuracies for each epoch\n",
    "history = pd.DataFrame(model_detail.history)\n",
    " \n",
    "history.plot(figsize=(10,5))\n",
    "plt.grid(True)\n",
    "plt.gca().set_ylim(0,1)\n",
    "plt.xlabel('Epochs')\n",
    "plt.title('Sequential Cifar10 Neural Nets')\n",
    "plt.show()\n",
    "\n",
    "#After training the model, evaluate the test set\n",
    "model.evaluate(x1_test.reshape(10000, 3072),y1_test)\n",
    "\n",
    "#Print the summary of the model\n",
    "model.summary()"
   ]
  },
  {
   "cell_type": "markdown",
   "metadata": {},
   "source": [
    "#### Sequential Cifar100 - 64,64,64,10"
   ]
  },
  {
   "cell_type": "code",
   "execution_count": 11,
   "metadata": {},
   "outputs": [
    {
     "name": "stdout",
     "output_type": "stream",
     "text": [
      "Train on 50000 samples, validate on 10000 samples\n",
      "Epoch 1/20\n",
      "50000/50000 [==============================] - 2s 35us/sample - loss: 4.5495 - accuracy: 0.0161 - val_loss: 4.4579 - val_accuracy: 0.0239\n",
      "Epoch 2/20\n",
      "50000/50000 [==============================] - 2s 31us/sample - loss: 4.3620 - accuracy: 0.0407 - val_loss: 4.2908 - val_accuracy: 0.0537\n",
      "Epoch 3/20\n",
      "50000/50000 [==============================] - 2s 31us/sample - loss: 4.1682 - accuracy: 0.0645 - val_loss: 4.1197 - val_accuracy: 0.0720\n",
      "Epoch 4/20\n",
      "50000/50000 [==============================] - 2s 32us/sample - loss: 4.0311 - accuracy: 0.0843 - val_loss: 4.0240 - val_accuracy: 0.0872\n",
      "Epoch 5/20\n",
      "50000/50000 [==============================] - 1s 30us/sample - loss: 3.9391 - accuracy: 0.0996 - val_loss: 3.9667 - val_accuracy: 0.0956\n",
      "Epoch 6/20\n",
      "50000/50000 [==============================] - 2s 33us/sample - loss: 3.8664 - accuracy: 0.1111 - val_loss: 3.9463 - val_accuracy: 0.1045\n",
      "Epoch 7/20\n",
      "50000/50000 [==============================] - 2s 31us/sample - loss: 3.8020 - accuracy: 0.1250 - val_loss: 3.9008 - val_accuracy: 0.1128\n",
      "Epoch 8/20\n",
      "50000/50000 [==============================] - 2s 31us/sample - loss: 3.7457 - accuracy: 0.1320 - val_loss: 3.8954 - val_accuracy: 0.1113\n",
      "Epoch 9/20\n",
      "50000/50000 [==============================] - 2s 31us/sample - loss: 3.6923 - accuracy: 0.1417 - val_loss: 3.8975 - val_accuracy: 0.1197\n",
      "Epoch 10/20\n",
      "50000/50000 [==============================] - 2s 31us/sample - loss: 3.6434 - accuracy: 0.1478 - val_loss: 3.8014 - val_accuracy: 0.1312\n",
      "Epoch 11/20\n",
      "50000/50000 [==============================] - 2s 31us/sample - loss: 3.5968 - accuracy: 0.1572 - val_loss: 3.7153 - val_accuracy: 0.1485\n",
      "Epoch 12/20\n",
      "50000/50000 [==============================] - 2s 30us/sample - loss: 3.5615 - accuracy: 0.1644 - val_loss: 3.6852 - val_accuracy: 0.1551\n",
      "Epoch 13/20\n",
      "50000/50000 [==============================] - 2s 31us/sample - loss: 3.5210 - accuracy: 0.1704 - val_loss: 3.6584 - val_accuracy: 0.1509\n",
      "Epoch 14/20\n",
      "50000/50000 [==============================] - 2s 31us/sample - loss: 3.4911 - accuracy: 0.1747 - val_loss: 3.7066 - val_accuracy: 0.1497\n",
      "Epoch 15/20\n",
      "50000/50000 [==============================] - 2s 31us/sample - loss: 3.4599 - accuracy: 0.1808 - val_loss: 3.6646 - val_accuracy: 0.1583\n",
      "Epoch 16/20\n",
      "50000/50000 [==============================] - 2s 34us/sample - loss: 3.4369 - accuracy: 0.1843 - val_loss: 3.7198 - val_accuracy: 0.1454\n",
      "Epoch 17/20\n",
      "50000/50000 [==============================] - 2s 31us/sample - loss: 3.4095 - accuracy: 0.1872 - val_loss: 3.6754 - val_accuracy: 0.1512\n",
      "Epoch 18/20\n",
      "50000/50000 [==============================] - 2s 32us/sample - loss: 3.3872 - accuracy: 0.1931 - val_loss: 3.6929 - val_accuracy: 0.1554\n",
      "Epoch 19/20\n",
      "50000/50000 [==============================] - 2s 34us/sample - loss: 3.3665 - accuracy: 0.1941 - val_loss: 3.5696 - val_accuracy: 0.1757\n",
      "Epoch 20/20\n",
      "50000/50000 [==============================] - 2s 34us/sample - loss: 3.3425 - accuracy: 0.2007 - val_loss: 3.6395 - val_accuracy: 0.1716\n"
     ]
    },
    {
     "data": {
      "text/plain": [
       "<matplotlib.axes._subplots.AxesSubplot at 0x1ca85e27e80>"
      ]
     },
     "execution_count": 11,
     "metadata": {},
     "output_type": "execute_result"
    },
    {
     "data": {
      "text/plain": [
       "(0, 1)"
      ]
     },
     "execution_count": 11,
     "metadata": {},
     "output_type": "execute_result"
    },
    {
     "data": {
      "text/plain": [
       "Text(0.5, 0, 'Epochs')"
      ]
     },
     "execution_count": 11,
     "metadata": {},
     "output_type": "execute_result"
    },
    {
     "data": {
      "text/plain": [
       "Text(0.5, 1.0, 'Sequential Cifar100 Neural Nets')"
      ]
     },
     "execution_count": 11,
     "metadata": {},
     "output_type": "execute_result"
    },
    {
     "data": {
      "image/png": "[encoded data removed]",
      "text/plain": [
       "<Figure size 720x360 with 1 Axes>"
      ]
     },
     "metadata": {
      "needs_background": "light"
     },
     "output_type": "display_data"
    },
    {
     "name": "stdout",
     "output_type": "stream",
     "text": [
      "10000/10000 [==============================] - 0s 28us/sample - loss: 3.6395 - accuracy: 0.1716\n"
     ]
    },
    {
     "data": {
      "text/plain": [
       "[3.639465098953247, 0.1716]"
      ]
     },
     "execution_count": 11,
     "metadata": {},
     "output_type": "execute_result"
    },
    {
     "name": "stdout",
     "output_type": "stream",
     "text": [
      "Model: \"sequential_7\"\n",
      "_________________________________________________________________\n",
      "Layer (type)                 Output Shape              Param #   \n",
      "=================================================================\n",
      "dense_5 (Dense)              (None, 64)                196672    \n",
      "_________________________________________________________________\n",
      "dense_6 (Dense)              (None, 64)                4160      \n",
      "_________________________________________________________________\n",
      "dense_7 (Dense)              (None, 64)                4160      \n",
      "_________________________________________________________________\n",
      "dense_8 (Dense)              (None, 64)                4160      \n",
      "_________________________________________________________________\n",
      "dense_9 (Dense)              (None, 100)               6500      \n",
      "=================================================================\n",
      "Total params: 215,652\n",
      "Trainable params: 215,652\n",
      "Non-trainable params: 0\n",
      "_________________________________________________________________\n"
     ]
    }
   ],
   "source": [
    "# Do the same for CIFAR-100.\n",
    "# Our baseline model for this lab.\n",
    "model = Sequential()\n",
    "\n",
    "model.add(keras.layers.Dense(64, activation='relu', input_shape=(3072,)))\n",
    "\n",
    "model.add(keras.layers.Dense(64, activation='relu'))\n",
    "\n",
    "model.add(keras.layers.Dense(64, activation='relu'))\n",
    "\n",
    "model.add(keras.layers.Dense(64, activation='relu'))\n",
    "\n",
    "model.add(keras.layers.Dense(100, activation='softmax'))\n",
    "\n",
    "model.compile(loss='categorical_crossentropy',\n",
    "              optimizer=SGD(lr=0.01, decay=1e-6, momentum=0.9, nesterov=True),\n",
    "              metrics=['accuracy'])\n",
    "\n",
    "# Notice that you can reshape the data for an MLP inside the fit call without changing it globally!\n",
    "model_detail = model.fit(x2_train.reshape(50000, 3072), y2_train, epochs=20, batch_size=64, validation_data=(x2_test.reshape(10000, 3072), y2_test))\n",
    "\n",
    "#plot accuracies for each epoch\n",
    "history = pd.DataFrame(model_detail.history)\n",
    " \n",
    "history.plot(figsize=(10,5))\n",
    "plt.grid(True)\n",
    "plt.gca().set_ylim(0,1)\n",
    "plt.xlabel('Epochs')\n",
    "plt.title('Sequential Cifar100 Neural Nets')\n",
    "plt.show()\n",
    "\n",
    "#After training the model, evaluate the test set\n",
    "model.evaluate(x2_test.reshape(10000, 3072),y2_test)\n",
    "\n",
    "#Print the summary of the model\n",
    "model.summary()"
   ]
  },
  {
   "cell_type": "markdown",
   "metadata": {},
   "source": [
    "#### Analysis:\n",
    "- MLP on Cifar 10 has Training accuracy = 0.5 and Validation accuracy = 0.44\n",
    "- MLP on Cifar 100 has Trn acc = 0.2 and Val acc = 0.17\n",
    "- Overfitting - We can see not much difference between Training and validation accuracies. So not much overfitting\n",
    "- As MLP did not perform well on our image datasets. Performances are not good."
   ]
  },
  {
   "cell_type": "markdown",
   "metadata": {},
   "source": [
    "### Step 5: CNN for Cifar10, 100"
   ]
  },
  {
   "cell_type": "markdown",
   "metadata": {},
   "source": [
    "#### CNN - baseline Cifar10"
   ]
  },
  {
   "cell_type": "code",
   "execution_count": 5,
   "metadata": {},
   "outputs": [
    {
     "name": "stdout",
     "output_type": "stream",
     "text": [
      "Train on 50000 samples, validate on 10000 samples\n",
      "Epoch 1/10\n",
      "50000/50000 [==============================] - 62s 1ms/sample - loss: 2.0012 - accuracy: 0.2639 - val_loss: 1.7231 - val_accuracy: 0.3729\n",
      "Epoch 2/10\n",
      "50000/50000 [==============================] - 90s 2ms/sample - loss: 1.5660 - accuracy: 0.4371 - val_loss: 1.3306 - val_accuracy: 0.5193\n",
      "Epoch 3/10\n",
      "50000/50000 [==============================] - 108s 2ms/sample - loss: 1.3485 - accuracy: 0.5186 - val_loss: 1.1762 - val_accuracy: 0.5866\n",
      "Epoch 4/10\n",
      "50000/50000 [==============================] - 110s 2ms/sample - loss: 1.2136 - accuracy: 0.5686 - val_loss: 1.0923 - val_accuracy: 0.6068\n",
      "Epoch 5/10\n",
      "50000/50000 [==============================] - 110s 2ms/sample - loss: 1.1222 - accuracy: 0.6027 - val_loss: 0.9537 - val_accuracy: 0.6716\n",
      "Epoch 6/10\n",
      "50000/50000 [==============================] - 110s 2ms/sample - loss: 1.0588 - accuracy: 0.6260 - val_loss: 0.9858 - val_accuracy: 0.6483\n",
      "Epoch 7/10\n",
      "50000/50000 [==============================] - 111s 2ms/sample - loss: 1.0031 - accuracy: 0.6472 - val_loss: 0.9631 - val_accuracy: 0.6655\n",
      "Epoch 8/10\n",
      "50000/50000 [==============================] - 110s 2ms/sample - loss: 0.9692 - accuracy: 0.6604 - val_loss: 0.8887 - val_accuracy: 0.7010\n",
      "Epoch 9/10\n",
      "50000/50000 [==============================] - 109s 2ms/sample - loss: 0.9471 - accuracy: 0.6695 - val_loss: 0.9039 - val_accuracy: 0.6820\n",
      "Epoch 10/10\n",
      "50000/50000 [==============================] - 110s 2ms/sample - loss: 0.9136 - accuracy: 0.6780 - val_loss: 0.8610 - val_accuracy: 0.7055\n"
     ]
    },
    {
     "data": {
      "text/plain": [
       "<matplotlib.axes._subplots.AxesSubplot at 0x158405f0908>"
      ]
     },
     "execution_count": 5,
     "metadata": {},
     "output_type": "execute_result"
    },
    {
     "data": {
      "text/plain": [
       "(0, 1)"
      ]
     },
     "execution_count": 5,
     "metadata": {},
     "output_type": "execute_result"
    },
    {
     "data": {
      "text/plain": [
       "Text(0.5, 0, 'Epochs')"
      ]
     },
     "execution_count": 5,
     "metadata": {},
     "output_type": "execute_result"
    },
    {
     "data": {
      "text/plain": [
       "Text(0.5, 1.0, 'CNN Cifar10 Neural Nets')"
      ]
     },
     "execution_count": 5,
     "metadata": {},
     "output_type": "execute_result"
    },
    {
     "data": {
      "image/png": "[encoded data removed]",
      "text/plain": [
       "<Figure size 720x360 with 1 Axes>"
      ]
     },
     "metadata": {
      "needs_background": "light"
     },
     "output_type": "display_data"
    },
    {
     "name": "stdout",
     "output_type": "stream",
     "text": [
      "10000/10000 [==============================] - 4s 365us/sample - loss: 0.8610 - accuracy: 0.7055\n"
     ]
    },
    {
     "data": {
      "text/plain": [
       "[0.8610202914237977, 0.7055]"
      ]
     },
     "execution_count": 5,
     "metadata": {},
     "output_type": "execute_result"
    },
    {
     "name": "stdout",
     "output_type": "stream",
     "text": [
      "Model: \"resnet\"\n",
      "_________________________________________________________________\n",
      "Layer (type)                 Output Shape              Param #   \n",
      "=================================================================\n",
      "img (InputLayer)             [(None, 32, 32, 3)]       0         \n",
      "_________________________________________________________________\n",
      "conv2d (Conv2D)              (None, 32, 32, 32)        896       \n",
      "_________________________________________________________________\n",
      "activation (Activation)      (None, 32, 32, 32)        0         \n",
      "_________________________________________________________________\n",
      "conv2d_1 (Conv2D)            (None, 30, 30, 32)        9248      \n",
      "_________________________________________________________________\n",
      "activation_1 (Activation)    (None, 30, 30, 32)        0         \n",
      "_________________________________________________________________\n",
      "max_pooling2d (MaxPooling2D) (None, 15, 15, 32)        0         \n",
      "_________________________________________________________________\n",
      "dropout (Dropout)            (None, 15, 15, 32)        0         \n",
      "_________________________________________________________________\n",
      "conv2d_2 (Conv2D)            (None, 15, 15, 32)        9248      \n",
      "_________________________________________________________________\n",
      "activation_2 (Activation)    (None, 15, 15, 32)        0         \n",
      "_________________________________________________________________\n",
      "conv2d_3 (Conv2D)            (None, 13, 13, 32)        9248      \n",
      "_________________________________________________________________\n",
      "activation_3 (Activation)    (None, 13, 13, 32)        0         \n",
      "_________________________________________________________________\n",
      "max_pooling2d_1 (MaxPooling2 (None, 6, 6, 32)          0         \n",
      "_________________________________________________________________\n",
      "dropout_1 (Dropout)          (None, 6, 6, 32)          0         \n",
      "_________________________________________________________________\n",
      "flatten (Flatten)            (None, 1152)              0         \n",
      "_________________________________________________________________\n",
      "dense_5 (Dense)              (None, 512)               590336    \n",
      "_________________________________________________________________\n",
      "activation_4 (Activation)    (None, 512)               0         \n",
      "_________________________________________________________________\n",
      "dropout_2 (Dropout)          (None, 512)               0         \n",
      "_________________________________________________________________\n",
      "dense_6 (Dense)              (None, 10)                5130      \n",
      "_________________________________________________________________\n",
      "activation_5 (Activation)    (None, 10)                0         \n",
      "=================================================================\n",
      "Total params: 624,106\n",
      "Trainable params: 624,106\n",
      "Non-trainable params: 0\n",
      "_________________________________________________________________\n"
     ]
    }
   ],
   "source": [
    "# Create the CIFAR-10 CNN baseline here.\n",
    "inputs = tf.keras.Input(shape=x1_train.shape[1:], name='img')\n",
    "x= keras.layers.Conv2D(32, (3, 3), padding='same')(inputs)\n",
    "x= keras.layers.Activation('relu')(x)\n",
    "x= keras.layers.Conv2D(32, (3, 3))(x)\n",
    "x= keras.layers.Activation('relu')(x)\n",
    "x= keras.layers.MaxPooling2D(pool_size=(2, 2))(x)\n",
    "x= keras.layers.Dropout(0.25)(x)\n",
    "\n",
    "y= keras.layers.Conv2D(32, (3, 3), padding='same')(x)\n",
    "y= keras.layers.Activation('relu')(y)\n",
    "y= keras.layers.Conv2D(32, (3, 3))(y)\n",
    "y= keras.layers.Activation('relu')(y)\n",
    "y= keras.layers.MaxPooling2D(pool_size=(2, 2))(y)\n",
    "y= keras.layers.Dropout(0.25)(y)\n",
    "\n",
    "z= keras.layers.Flatten()(y)\n",
    "z= keras.layers.Dense(512)(z)\n",
    "z=keras.layers.Activation('relu')(z)\n",
    "z=keras.layers.Dropout(0.5)(z)\n",
    "z=keras.layers.Dense(10)(z)\n",
    "outputs= keras.layers.Activation('softmax')(z)\n",
    "\n",
    "model = tf.keras.Model(inputs, outputs, name='resnet')\n",
    "\n",
    "# Let's train the model using SGD\n",
    "model.compile(loss='categorical_crossentropy',\n",
    "              optimizer= SGD(lr=0.01, decay=1e-6, momentum=0.9, nesterov=True),\n",
    "              metrics=['accuracy'])\n",
    "\n",
    "early_stopping_cb = keras.callbacks.EarlyStopping(patience=10, restore_best_weights=True)\n",
    "model_detail = model.fit(x1_train, y1_train,\n",
    "              batch_size=32,\n",
    "              epochs=10,\n",
    "              validation_data=(x1_test, y1_test),\n",
    "              callbacks=[early_stopping_cb],\n",
    "              shuffle=True)\n",
    "\n",
    "#plot accuracies for each epoch\n",
    "history = pd.DataFrame(model_detail.history)\n",
    " \n",
    "history.plot(figsize=(10,5))\n",
    "plt.grid(True)\n",
    "plt.gca().set_ylim(0,1)\n",
    "plt.xlabel('Epochs')\n",
    "plt.title('CNN Cifar10 Neural Nets')\n",
    "plt.show()\n",
    "\n",
    "#After training the model, evaluate the test set\n",
    "model.evaluate(x1_test,y1_test)\n",
    "\n",
    "#Print the summary of the model\n",
    "model.summary()"
   ]
  },
  {
   "cell_type": "markdown",
   "metadata": {},
   "source": [
    "#### CNN - baseline Cifar100"
   ]
  },
  {
   "cell_type": "code",
   "execution_count": 12,
   "metadata": {},
   "outputs": [
    {
     "name": "stdout",
     "output_type": "stream",
     "text": [
      "Train on 50000 samples, validate on 10000 samples\n",
      "Epoch 1/10\n",
      "50000/50000 [==============================] - 56s 1ms/sample - loss: 4.6070 - accuracy: 0.0088 - val_loss: 4.6053 - val_accuracy: 0.0100\n",
      "Epoch 2/10\n",
      "50000/50000 [==============================] - 63s 1ms/sample - loss: 4.6065 - accuracy: 0.0089 - val_loss: 4.6054 - val_accuracy: 0.0100\n",
      "Epoch 3/10\n",
      "50000/50000 [==============================] - 70s 1ms/sample - loss: 4.6066 - accuracy: 0.0094 - val_loss: 4.6049 - val_accuracy: 0.0100\n",
      "Epoch 4/10\n",
      "50000/50000 [==============================] - 58s 1ms/sample - loss: 4.5583 - accuracy: 0.0202 - val_loss: 4.4533 - val_accuracy: 0.0468\n",
      "Epoch 5/10\n",
      "50000/50000 [==============================] - 60s 1ms/sample - loss: 4.2797 - accuracy: 0.0591 - val_loss: 3.9884 - val_accuracy: 0.1060\n",
      "Epoch 6/10\n",
      "50000/50000 [==============================] - 72s 1ms/sample - loss: 3.9081 - accuracy: 0.1099 - val_loss: 3.5552 - val_accuracy: 0.1722\n",
      "Epoch 7/10\n",
      "50000/50000 [==============================] - 61s 1ms/sample - loss: 3.6137 - accuracy: 0.1576 - val_loss: 3.3004 - val_accuracy: 0.2185\n",
      "Epoch 8/10\n",
      "50000/50000 [==============================] - 58s 1ms/sample - loss: 3.4161 - accuracy: 0.1891 - val_loss: 3.1030 - val_accuracy: 0.2508\n",
      "Epoch 9/10\n",
      "50000/50000 [==============================] - 69s 1ms/sample - loss: 3.2709 - accuracy: 0.2116 - val_loss: 3.0735 - val_accuracy: 0.2664\n",
      "Epoch 10/10\n",
      "50000/50000 [==============================] - 65s 1ms/sample - loss: 3.1619 - accuracy: 0.2312 - val_loss: 2.9630 - val_accuracy: 0.2801\n"
     ]
    },
    {
     "data": {
      "text/plain": [
       "<matplotlib.axes._subplots.AxesSubplot at 0x21d613b5550>"
      ]
     },
     "execution_count": 12,
     "metadata": {},
     "output_type": "execute_result"
    },
    {
     "data": {
      "text/plain": [
       "(0, 1)"
      ]
     },
     "execution_count": 12,
     "metadata": {},
     "output_type": "execute_result"
    },
    {
     "data": {
      "text/plain": [
       "Text(0.5, 0, 'Epochs')"
      ]
     },
     "execution_count": 12,
     "metadata": {},
     "output_type": "execute_result"
    },
    {
     "data": {
      "text/plain": [
       "Text(0.5, 1.0, 'CNN Cifar10 Neural Nets')"
      ]
     },
     "execution_count": 12,
     "metadata": {},
     "output_type": "execute_result"
    },
    {
     "data": {
      "image/png": "[encoded data removed]",
      "text/plain": [
       "<Figure size 720x360 with 1 Axes>"
      ]
     },
     "metadata": {
      "needs_background": "light"
     },
     "output_type": "display_data"
    },
    {
     "name": "stdout",
     "output_type": "stream",
     "text": [
      "10000/10000 [==============================] - 2s 229us/sample - loss: 2.9630 - accuracy: 0.2801\n"
     ]
    },
    {
     "data": {
      "text/plain": [
       "[2.9629975311279297, 0.2801]"
      ]
     },
     "execution_count": 12,
     "metadata": {},
     "output_type": "execute_result"
    },
    {
     "name": "stdout",
     "output_type": "stream",
     "text": [
      "Model: \"resnet\"\n",
      "_________________________________________________________________\n",
      "Layer (type)                 Output Shape              Param #   \n",
      "=================================================================\n",
      "img (InputLayer)             [(None, 32, 32, 3)]       0         \n",
      "_________________________________________________________________\n",
      "conv2d_23 (Conv2D)           (None, 32, 32, 32)        896       \n",
      "_________________________________________________________________\n",
      "activation_35 (Activation)   (None, 32, 32, 32)        0         \n",
      "_________________________________________________________________\n",
      "conv2d_24 (Conv2D)           (None, 30, 30, 32)        9248      \n",
      "_________________________________________________________________\n",
      "activation_36 (Activation)   (None, 30, 30, 32)        0         \n",
      "_________________________________________________________________\n",
      "max_pooling2d_11 (MaxPooling (None, 15, 15, 32)        0         \n",
      "_________________________________________________________________\n",
      "dropout_17 (Dropout)         (None, 15, 15, 32)        0         \n",
      "_________________________________________________________________\n",
      "conv2d_25 (Conv2D)           (None, 15, 15, 32)        9248      \n",
      "_________________________________________________________________\n",
      "activation_37 (Activation)   (None, 15, 15, 32)        0         \n",
      "_________________________________________________________________\n",
      "conv2d_26 (Conv2D)           (None, 13, 13, 32)        9248      \n",
      "_________________________________________________________________\n",
      "activation_38 (Activation)   (None, 13, 13, 32)        0         \n",
      "_________________________________________________________________\n",
      "max_pooling2d_12 (MaxPooling (None, 6, 6, 32)          0         \n",
      "_________________________________________________________________\n",
      "dropout_18 (Dropout)         (None, 6, 6, 32)          0         \n",
      "_________________________________________________________________\n",
      "flatten_6 (Flatten)          (None, 1152)              0         \n",
      "_________________________________________________________________\n",
      "dense_12 (Dense)             (None, 512)               590336    \n",
      "_________________________________________________________________\n",
      "activation_39 (Activation)   (None, 512)               0         \n",
      "_________________________________________________________________\n",
      "dropout_19 (Dropout)         (None, 512)               0         \n",
      "_________________________________________________________________\n",
      "dense_13 (Dense)             (None, 100)               51300     \n",
      "_________________________________________________________________\n",
      "activation_40 (Activation)   (None, 100)               0         \n",
      "=================================================================\n",
      "Total params: 670,276\n",
      "Trainable params: 670,276\n",
      "Non-trainable params: 0\n",
      "_________________________________________________________________\n"
     ]
    }
   ],
   "source": [
    "# Create the CIFAR-100 CNN baseline here.\n",
    "inputs = tf.keras.Input(shape=x2_train.shape[1:], name='img')\n",
    "x= keras.layers.Conv2D(32, (3, 3), padding='same')(inputs)\n",
    "x= keras.layers.Activation('relu')(x)\n",
    "x= keras.layers.Conv2D(32, (3, 3))(x)\n",
    "x= keras.layers.Activation('relu')(x)\n",
    "x= keras.layers.MaxPooling2D(pool_size=(2, 2))(x)\n",
    "x= keras.layers.Dropout(0.25)(x)\n",
    "\n",
    "y= keras.layers.Conv2D(32, (3, 3), padding='same')(x)\n",
    "y= keras.layers.Activation('relu')(y)\n",
    "y= keras.layers.Conv2D(32, (3, 3))(y)\n",
    "y= keras.layers.Activation('relu')(y)\n",
    "y= keras.layers.MaxPooling2D(pool_size=(2, 2))(y)\n",
    "y= keras.layers.Dropout(0.25)(y)\n",
    "\n",
    "z= keras.layers.Flatten()(y)\n",
    "z= keras.layers.Dense(512)(z)\n",
    "z=keras.layers.Activation('relu')(z)\n",
    "z=keras.layers.Dropout(0.5)(z)\n",
    "z=keras.layers.Dense(100)(z)\n",
    "outputs= keras.layers.Activation('softmax')(z)\n",
    "\n",
    "model = tf.keras.Model(inputs, outputs, name='resnet')\n",
    "# Let's train the model using SGD\n",
    "model.compile(loss='categorical_crossentropy',\n",
    "              optimizer= SGD(lr=0.01, decay=1e-6, momentum=0.9, nesterov=True),\n",
    "              metrics=['accuracy'])\n",
    "\n",
    "early_stopping_cb = keras.callbacks.EarlyStopping(patience=10, restore_best_weights=True)\n",
    "model_detail = model.fit(x2_train, y2_train,\n",
    "              batch_size=32,\n",
    "              epochs=10,\n",
    "              validation_data=(x2_test, y2_test),\n",
    "              callbacks=[early_stopping_cb],\n",
    "              shuffle=True)\n",
    "\n",
    "#plot accuracies for each epoch\n",
    "history = pd.DataFrame(model_detail.history)\n",
    " \n",
    "history.plot(figsize=(10,5))\n",
    "plt.grid(True)\n",
    "plt.gca().set_ylim(0,1)\n",
    "plt.xlabel('Epochs')\n",
    "plt.title('CNN Cifar10 Neural Nets')\n",
    "plt.show()\n",
    "\n",
    "#After training the model, evaluate the test set\n",
    "model.evaluate(x2_test,y2_test)\n",
    "\n",
    "#Print the summary of the model\n",
    "model.summary()"
   ]
  },
  {
   "cell_type": "markdown",
   "metadata": {},
   "source": [
    "#### Analysis:\n",
    "- Baseline CNN for Cifar10 has Trn acc = 0.67 and Val acc = 0.7\n",
    "- Baseline CNN for Cifar 100 has Trn acc = 0.23 and Val acc = 0.28\n",
    "- Overfitting - We can see not much difference between Training and validation accuracies. I think not much overfitting.\n",
    "- Performance - We have better performance on Cifar 10 but poor performance on Cifar100\n",
    "- Convolution neural networks use a convolution filter which gathers domain knowledge in images (like features) better than plain multi level perceptrons. So is the better performance than MLP.\n",
    "- Cifar 10 has less number classes to classify compared to Cifar 100 (10 times more). We have almost same number of training and validation examples. This is the reason behind better performance for Cifar10 for same epochs and hyerparameter combinations."
   ]
  },
  {
   "cell_type": "markdown",
   "metadata": {},
   "source": [
    "### Step 6: CNN 64 filters Cifar10"
   ]
  },
  {
   "cell_type": "code",
   "execution_count": 17,
   "metadata": {},
   "outputs": [
    {
     "name": "stdout",
     "output_type": "stream",
     "text": [
      "Train on 50000 samples, validate on 10000 samples\n",
      "Epoch 1/10\n",
      "50000/50000 [==============================] - 122s 2ms/sample - loss: 2.0057 - accuracy: 0.2626 - val_loss: 1.6309 - val_accuracy: 0.4125\n",
      "Epoch 2/10\n",
      "50000/50000 [==============================] - 129s 3ms/sample - loss: 1.5458 - accuracy: 0.4447 - val_loss: 1.3326 - val_accuracy: 0.5279\n",
      "Epoch 3/10\n",
      "50000/50000 [==============================] - 129s 3ms/sample - loss: 1.3034 - accuracy: 0.5378 - val_loss: 1.1411 - val_accuracy: 0.5956\n",
      "Epoch 4/10\n",
      "50000/50000 [==============================] - 127s 3ms/sample - loss: 1.1408 - accuracy: 0.5977 - val_loss: 1.0016 - val_accuracy: 0.6539\n",
      "Epoch 5/10\n",
      "50000/50000 [==============================] - 119s 2ms/sample - loss: 1.0349 - accuracy: 0.6356 - val_loss: 0.9184 - val_accuracy: 0.6823\n",
      "Epoch 6/10\n",
      "50000/50000 [==============================] - 125s 2ms/sample - loss: 0.9575 - accuracy: 0.6629 - val_loss: 0.8715 - val_accuracy: 0.7035\n",
      "Epoch 7/10\n",
      "50000/50000 [==============================] - 118s 2ms/sample - loss: 0.8963 - accuracy: 0.6869 - val_loss: 0.8521 - val_accuracy: 0.7012\n",
      "Epoch 8/10\n",
      "50000/50000 [==============================] - 120s 2ms/sample - loss: 0.8565 - accuracy: 0.6996 - val_loss: 0.8257 - val_accuracy: 0.7148\n",
      "Epoch 9/10\n",
      "50000/50000 [==============================] - 120s 2ms/sample - loss: 0.8141 - accuracy: 0.7140 - val_loss: 0.7984 - val_accuracy: 0.7262\n",
      "Epoch 10/10\n",
      "50000/50000 [==============================] - 120s 2ms/sample - loss: 0.7914 - accuracy: 0.7243 - val_loss: 0.7714 - val_accuracy: 0.7354\n"
     ]
    },
    {
     "data": {
      "text/plain": [
       "<matplotlib.axes._subplots.AxesSubplot at 0x21d2f470ef0>"
      ]
     },
     "execution_count": 17,
     "metadata": {},
     "output_type": "execute_result"
    },
    {
     "data": {
      "text/plain": [
       "(0, 1)"
      ]
     },
     "execution_count": 17,
     "metadata": {},
     "output_type": "execute_result"
    },
    {
     "data": {
      "text/plain": [
       "Text(0.5, 0, 'Epochs')"
      ]
     },
     "execution_count": 17,
     "metadata": {},
     "output_type": "execute_result"
    },
    {
     "data": {
      "text/plain": [
       "Text(0.5, 1.0, 'CNN Cifar10 Neural Nets')"
      ]
     },
     "execution_count": 17,
     "metadata": {},
     "output_type": "execute_result"
    },
    {
     "data": {
      "image/png": "[encoded data removed]",
      "text/plain": [
       "<Figure size 720x360 with 1 Axes>"
      ]
     },
     "metadata": {
      "needs_background": "light"
     },
     "output_type": "display_data"
    },
    {
     "name": "stdout",
     "output_type": "stream",
     "text": [
      "10000/10000 [==============================] - 5s 519us/sample - loss: 0.7714 - accuracy: 0.7354\n"
     ]
    },
    {
     "data": {
      "text/plain": [
       "[0.7714399428367614, 0.7354]"
      ]
     },
     "execution_count": 17,
     "metadata": {},
     "output_type": "execute_result"
    },
    {
     "name": "stdout",
     "output_type": "stream",
     "text": [
      "Model: \"resnet\"\n",
      "_________________________________________________________________\n",
      "Layer (type)                 Output Shape              Param #   \n",
      "=================================================================\n",
      "img (InputLayer)             [(None, 32, 32, 3)]       0         \n",
      "_________________________________________________________________\n",
      "conv2d_43 (Conv2D)           (None, 32, 32, 64)        1792      \n",
      "_________________________________________________________________\n",
      "activation_65 (Activation)   (None, 32, 32, 64)        0         \n",
      "_________________________________________________________________\n",
      "conv2d_44 (Conv2D)           (None, 30, 30, 64)        36928     \n",
      "_________________________________________________________________\n",
      "activation_66 (Activation)   (None, 30, 30, 64)        0         \n",
      "_________________________________________________________________\n",
      "max_pooling2d_17 (MaxPooling (None, 15, 15, 64)        0         \n",
      "_________________________________________________________________\n",
      "dropout_32 (Dropout)         (None, 15, 15, 64)        0         \n",
      "_________________________________________________________________\n",
      "conv2d_45 (Conv2D)           (None, 15, 15, 64)        36928     \n",
      "_________________________________________________________________\n",
      "activation_67 (Activation)   (None, 15, 15, 64)        0         \n",
      "_________________________________________________________________\n",
      "conv2d_46 (Conv2D)           (None, 13, 13, 64)        36928     \n",
      "_________________________________________________________________\n",
      "activation_68 (Activation)   (None, 13, 13, 64)        0         \n",
      "_________________________________________________________________\n",
      "max_pooling2d_18 (MaxPooling (None, 6, 6, 64)          0         \n",
      "_________________________________________________________________\n",
      "dropout_33 (Dropout)         (None, 6, 6, 64)          0         \n",
      "_________________________________________________________________\n",
      "flatten_11 (Flatten)         (None, 2304)              0         \n",
      "_________________________________________________________________\n",
      "dense_22 (Dense)             (None, 512)               1180160   \n",
      "_________________________________________________________________\n",
      "activation_69 (Activation)   (None, 512)               0         \n",
      "_________________________________________________________________\n",
      "dropout_34 (Dropout)         (None, 512)               0         \n",
      "_________________________________________________________________\n",
      "dense_23 (Dense)             (None, 10)                5130      \n",
      "_________________________________________________________________\n",
      "activation_70 (Activation)   (None, 10)                0         \n",
      "=================================================================\n",
      "Total params: 1,297,866\n",
      "Trainable params: 1,297,866\n",
      "Non-trainable params: 0\n",
      "_________________________________________________________________\n"
     ]
    }
   ],
   "source": [
    "# Change the Convolutional layers to 64 filters for CIFAR-10.\n",
    "inputs = tf.keras.Input(shape=x1_train.shape[1:], name='img')\n",
    "x= keras.layers.Conv2D(64, (3, 3), padding='same')(inputs)\n",
    "x= keras.layers.Activation('relu')(x)\n",
    "x= keras.layers.Conv2D(64, (3, 3))(x)\n",
    "x= keras.layers.Activation('relu')(x)\n",
    "x= keras.layers.MaxPooling2D(pool_size=(2, 2))(x)\n",
    "x= keras.layers.Dropout(0.25)(x)\n",
    "\n",
    "y= keras.layers.Conv2D(64, (3, 3), padding='same')(x)\n",
    "y= keras.layers.Activation('relu')(y)\n",
    "y= keras.layers.Conv2D(64, (3, 3))(y)\n",
    "y= keras.layers.Activation('relu')(y)\n",
    "y= keras.layers.MaxPooling2D(pool_size=(2, 2))(y)\n",
    "y= keras.layers.Dropout(0.25)(y)\n",
    "\n",
    "z= keras.layers.Flatten()(y)\n",
    "z= keras.layers.Dense(512)(z)\n",
    "z=keras.layers.Activation('relu')(z)\n",
    "z=keras.layers.Dropout(0.5)(z)\n",
    "z=keras.layers.Dense(10)(z)\n",
    "outputs= keras.layers.Activation('softmax')(z)\n",
    "\n",
    "model = tf.keras.Model(inputs, outputs, name='resnet')\n",
    "\n",
    "# Let's train the model using SGD\n",
    "model.compile(loss='categorical_crossentropy',\n",
    "              optimizer= SGD(lr=0.01, decay=1e-6, momentum=0.9, nesterov=True),\n",
    "              metrics=['accuracy'])\n",
    "\n",
    "early_stopping_cb = keras.callbacks.EarlyStopping(patience=10, restore_best_weights=True)\n",
    "model_detail = model.fit(x1_train, y1_train,\n",
    "              batch_size=32,\n",
    "              epochs=10,\n",
    "              validation_data=(x1_test, y1_test),\n",
    "              callbacks=[early_stopping_cb],\n",
    "              shuffle=True)\n",
    "\n",
    "#plot accuracies for each epoch\n",
    "history = pd.DataFrame(model_detail.history)\n",
    " \n",
    "history.plot(figsize=(10,5))\n",
    "plt.grid(True)\n",
    "plt.gca().set_ylim(0,1)\n",
    "plt.xlabel('Epochs')\n",
    "plt.title('CNN Cifar10 Neural Nets')\n",
    "plt.show()\n",
    "\n",
    "#After training the model, evaluate the test set\n",
    "model.evaluate(x1_test,y1_test)\n",
    "\n",
    "#Print the summary of the model\n",
    "model.summary()"
   ]
  },
  {
   "cell_type": "markdown",
   "metadata": {},
   "source": [
    "#### Analysis:\n",
    "- CNN with 32 filters - Trn acc:0.67 and Val acc:0.7\n",
    "- CNN with 64 filters - Trn acc:0.72 and Val acc:0.73\n",
    "- Overfitting - We can see not much difference between training and validation accuracies. So not much overfitting.\n",
    "- Performance - We can see by increasing the filter, we have slight increase in both training and validation accuracies.But not significant."
   ]
  },
  {
   "cell_type": "markdown",
   "metadata": {},
   "source": [
    "### Step 7: CNN 16 filters Cifar10"
   ]
  },
  {
   "cell_type": "code",
   "execution_count": 18,
   "metadata": {},
   "outputs": [
    {
     "name": "stdout",
     "output_type": "stream",
     "text": [
      "Train on 50000 samples, validate on 10000 samples\n",
      "Epoch 1/10\n",
      "50000/50000 [==============================] - 35s 691us/sample - loss: 2.0722 - accuracy: 0.2352 - val_loss: 1.7970 - val_accuracy: 0.3509\n",
      "Epoch 2/10\n",
      "50000/50000 [==============================] - 35s 707us/sample - loss: 1.7590 - accuracy: 0.3692 - val_loss: 1.6921 - val_accuracy: 0.3867\n",
      "Epoch 3/10\n",
      "50000/50000 [==============================] - 34s 670us/sample - loss: 1.5796 - accuracy: 0.4309 - val_loss: 1.4772 - val_accuracy: 0.4665\n",
      "Epoch 4/10\n",
      "50000/50000 [==============================] - 34s 677us/sample - loss: 1.4592 - accuracy: 0.4759 - val_loss: 1.3062 - val_accuracy: 0.5305\n",
      "Epoch 5/10\n",
      "50000/50000 [==============================] - 35s 700us/sample - loss: 1.3749 - accuracy: 0.5093 - val_loss: 1.3119 - val_accuracy: 0.5244\n",
      "Epoch 6/10\n",
      "50000/50000 [==============================] - 35s 700us/sample - loss: 1.3065 - accuracy: 0.5359 - val_loss: 1.1807 - val_accuracy: 0.5806\n",
      "Epoch 7/10\n",
      "50000/50000 [==============================] - 35s 699us/sample - loss: 1.2556 - accuracy: 0.5568 - val_loss: 1.1942 - val_accuracy: 0.5742\n",
      "Epoch 8/10\n",
      "50000/50000 [==============================] - 35s 691us/sample - loss: 1.2191 - accuracy: 0.5696 - val_loss: 1.1598 - val_accuracy: 0.5908\n",
      "Epoch 9/10\n",
      "50000/50000 [==============================] - 35s 694us/sample - loss: 1.1821 - accuracy: 0.5819 - val_loss: 1.0644 - val_accuracy: 0.6314\n",
      "Epoch 10/10\n",
      "50000/50000 [==============================] - 35s 691us/sample - loss: 1.1529 - accuracy: 0.5941 - val_loss: 1.0213 - val_accuracy: 0.6518\n"
     ]
    },
    {
     "data": {
      "text/plain": [
       "<matplotlib.axes._subplots.AxesSubplot at 0x21d2cc52ac8>"
      ]
     },
     "execution_count": 18,
     "metadata": {},
     "output_type": "execute_result"
    },
    {
     "data": {
      "text/plain": [
       "(0, 1)"
      ]
     },
     "execution_count": 18,
     "metadata": {},
     "output_type": "execute_result"
    },
    {
     "data": {
      "text/plain": [
       "Text(0.5, 0, 'Epochs')"
      ]
     },
     "execution_count": 18,
     "metadata": {},
     "output_type": "execute_result"
    },
    {
     "data": {
      "text/plain": [
       "Text(0.5, 1.0, 'CNN Cifar10 Neural Nets')"
      ]
     },
     "execution_count": 18,
     "metadata": {},
     "output_type": "execute_result"
    },
    {
     "data": {
      "image/png": "[encoded data removed]",
      "text/plain": [
       "<Figure size 720x360 with 1 Axes>"
      ]
     },
     "metadata": {
      "needs_background": "light"
     },
     "output_type": "display_data"
    },
    {
     "name": "stdout",
     "output_type": "stream",
     "text": [
      "10000/10000 [==============================] - 2s 155us/sample - loss: 1.0213 - accuracy: 0.6518 - loss: 1.0210 - accuracy: 0.\n"
     ]
    },
    {
     "data": {
      "text/plain": [
       "[1.0213370000839233, 0.6518]"
      ]
     },
     "execution_count": 18,
     "metadata": {},
     "output_type": "execute_result"
    },
    {
     "name": "stdout",
     "output_type": "stream",
     "text": [
      "Model: \"resnet\"\n",
      "_________________________________________________________________\n",
      "Layer (type)                 Output Shape              Param #   \n",
      "=================================================================\n",
      "img (InputLayer)             [(None, 32, 32, 3)]       0         \n",
      "_________________________________________________________________\n",
      "conv2d_47 (Conv2D)           (None, 32, 32, 16)        448       \n",
      "_________________________________________________________________\n",
      "activation_71 (Activation)   (None, 32, 32, 16)        0         \n",
      "_________________________________________________________________\n",
      "conv2d_48 (Conv2D)           (None, 30, 30, 16)        2320      \n",
      "_________________________________________________________________\n",
      "activation_72 (Activation)   (None, 30, 30, 16)        0         \n",
      "_________________________________________________________________\n",
      "max_pooling2d_19 (MaxPooling (None, 15, 15, 16)        0         \n",
      "_________________________________________________________________\n",
      "dropout_35 (Dropout)         (None, 15, 15, 16)        0         \n",
      "_________________________________________________________________\n",
      "conv2d_49 (Conv2D)           (None, 15, 15, 16)        2320      \n",
      "_________________________________________________________________\n",
      "activation_73 (Activation)   (None, 15, 15, 16)        0         \n",
      "_________________________________________________________________\n",
      "conv2d_50 (Conv2D)           (None, 13, 13, 16)        2320      \n",
      "_________________________________________________________________\n",
      "activation_74 (Activation)   (None, 13, 13, 16)        0         \n",
      "_________________________________________________________________\n",
      "max_pooling2d_20 (MaxPooling (None, 6, 6, 16)          0         \n",
      "_________________________________________________________________\n",
      "dropout_36 (Dropout)         (None, 6, 6, 16)          0         \n",
      "_________________________________________________________________\n",
      "flatten_12 (Flatten)         (None, 576)               0         \n",
      "_________________________________________________________________\n",
      "dense_24 (Dense)             (None, 512)               295424    \n",
      "_________________________________________________________________\n",
      "activation_75 (Activation)   (None, 512)               0         \n",
      "_________________________________________________________________\n",
      "dropout_37 (Dropout)         (None, 512)               0         \n",
      "_________________________________________________________________\n",
      "dense_25 (Dense)             (None, 10)                5130      \n",
      "_________________________________________________________________\n",
      "activation_76 (Activation)   (None, 10)                0         \n",
      "=================================================================\n",
      "Total params: 307,962\n",
      "Trainable params: 307,962\n",
      "Non-trainable params: 0\n",
      "_________________________________________________________________\n"
     ]
    }
   ],
   "source": [
    "# Change the Convolutional layers to 16 filters for CIFAR-10.\n",
    "inputs = tf.keras.Input(shape=x1_train.shape[1:], name='img')\n",
    "x= keras.layers.Conv2D(16, (3, 3), padding='same')(inputs)\n",
    "x= keras.layers.Activation('relu')(x)\n",
    "x= keras.layers.Conv2D(16, (3, 3))(x)\n",
    "x= keras.layers.Activation('relu')(x)\n",
    "x= keras.layers.MaxPooling2D(pool_size=(2, 2))(x)\n",
    "x= keras.layers.Dropout(0.25)(x)\n",
    "\n",
    "y= keras.layers.Conv2D(16, (3, 3), padding='same')(x)\n",
    "y= keras.layers.Activation('relu')(y)\n",
    "y= keras.layers.Conv2D(16, (3, 3))(y)\n",
    "y= keras.layers.Activation('relu')(y)\n",
    "y= keras.layers.MaxPooling2D(pool_size=(2, 2))(y)\n",
    "y= keras.layers.Dropout(0.25)(y)\n",
    "\n",
    "z= keras.layers.Flatten()(y)\n",
    "z= keras.layers.Dense(512)(z)\n",
    "z=keras.layers.Activation('relu')(z)\n",
    "z=keras.layers.Dropout(0.5)(z)\n",
    "z=keras.layers.Dense(10)(z)\n",
    "outputs= keras.layers.Activation('softmax')(z)\n",
    "\n",
    "model = tf.keras.Model(inputs, outputs, name='resnet')\n",
    "\n",
    "# Let's train the model using SGD\n",
    "model.compile(loss='categorical_crossentropy',\n",
    "              optimizer= SGD(lr=0.01, decay=1e-6, momentum=0.9, nesterov=True),\n",
    "              metrics=['accuracy'])\n",
    "\n",
    "early_stopping_cb = keras.callbacks.EarlyStopping(patience=10, restore_best_weights=True)\n",
    "model_detail = model.fit(x1_train, y1_train,\n",
    "              batch_size=32,\n",
    "              epochs=10,\n",
    "              validation_data=(x1_test, y1_test),\n",
    "              callbacks=[early_stopping_cb],\n",
    "              shuffle=True)\n",
    "\n",
    "#plot accuracies for each epoch\n",
    "history = pd.DataFrame(model_detail.history)\n",
    " \n",
    "history.plot(figsize=(10,5))\n",
    "plt.grid(True)\n",
    "plt.gca().set_ylim(0,1)\n",
    "plt.xlabel('Epochs')\n",
    "plt.title('CNN Cifar10 Neural Nets')\n",
    "plt.show()\n",
    "\n",
    "#After training the model, evaluate the test set\n",
    "model.evaluate(x1_test,y1_test)\n",
    "\n",
    "#Print the summary of the model\n",
    "model.summary()"
   ]
  },
  {
   "cell_type": "markdown",
   "metadata": {},
   "source": [
    "#### Analysis:\n",
    "- CNN with 32 filters - Trn acc:0.67 and Val acc:0.7\n",
    "- CNN with 16 filters - Trn acc:0.59 and Val acc:0.65\n",
    "- Overfitting - We can see not much difference between training and validation accuracies. So not much overfitting.\n",
    "- Performance - We can see by decreasing the filters, we have slight decrease in both training and validation accuracies.But not significant."
   ]
  },
  {
   "cell_type": "markdown",
   "metadata": {},
   "source": [
    "### Step 8: CNN with no pooling"
   ]
  },
  {
   "cell_type": "markdown",
   "metadata": {},
   "source": [
    "#### Cifar10 - No pooling"
   ]
  },
  {
   "cell_type": "code",
   "execution_count": 19,
   "metadata": {},
   "outputs": [
    {
     "name": "stdout",
     "output_type": "stream",
     "text": [
      "Train on 50000 samples, validate on 10000 samples\n",
      "Epoch 1/10\n",
      "50000/50000 [==============================] - 153s 3ms/sample - loss: 1.9108 - accuracy: 0.3058 - val_loss: 1.6694 - val_accuracy: 0.3995\n",
      "Epoch 2/10\n",
      "50000/50000 [==============================] - 153s 3ms/sample - loss: 1.4837 - accuracy: 0.4701 - val_loss: 1.3570 - val_accuracy: 0.5194\n",
      "Epoch 3/10\n",
      "50000/50000 [==============================] - 152s 3ms/sample - loss: 1.2120 - accuracy: 0.5727 - val_loss: 1.1691 - val_accuracy: 0.5804\n",
      "Epoch 4/10\n",
      "50000/50000 [==============================] - 154s 3ms/sample - loss: 1.0364 - accuracy: 0.6343 - val_loss: 1.0665 - val_accuracy: 0.6192\n",
      "Epoch 5/10\n",
      "50000/50000 [==============================] - 153s 3ms/sample - loss: 0.8840 - accuracy: 0.6877 - val_loss: 1.0395 - val_accuracy: 0.6392\n",
      "Epoch 6/10\n",
      "50000/50000 [==============================] - 203s 4ms/sample - loss: 0.7468 - accuracy: 0.7377 - val_loss: 1.0647 - val_accuracy: 0.6402\n",
      "Epoch 7/10\n",
      "50000/50000 [==============================] - 188s 4ms/sample - loss: 0.6332 - accuracy: 0.7775 - val_loss: 1.1022 - val_accuracy: 0.6402\n",
      "Epoch 8/10\n",
      "50000/50000 [==============================] - 188s 4ms/sample - loss: 0.5503 - accuracy: 0.8100 - val_loss: 1.1845 - val_accuracy: 0.6275\n",
      "Epoch 9/10\n",
      "50000/50000 [==============================] - 165s 3ms/sample - loss: 0.4775 - accuracy: 0.8358 - val_loss: 1.2072 - val_accuracy: 0.6248\n",
      "Epoch 10/10\n",
      "50000/50000 [==============================] - 180s 4ms/sample - loss: 0.4224 - accuracy: 0.8546 - val_loss: 1.2164 - val_accuracy: 0.6332\n"
     ]
    },
    {
     "data": {
      "text/plain": [
       "<matplotlib.axes._subplots.AxesSubplot at 0x21d00c3e780>"
      ]
     },
     "execution_count": 19,
     "metadata": {},
     "output_type": "execute_result"
    },
    {
     "data": {
      "text/plain": [
       "(0, 1)"
      ]
     },
     "execution_count": 19,
     "metadata": {},
     "output_type": "execute_result"
    },
    {
     "data": {
      "text/plain": [
       "Text(0.5, 0, 'Epochs')"
      ]
     },
     "execution_count": 19,
     "metadata": {},
     "output_type": "execute_result"
    },
    {
     "data": {
      "text/plain": [
       "Text(0.5, 1.0, 'CNN Cifar10 Neural Nets')"
      ]
     },
     "execution_count": 19,
     "metadata": {},
     "output_type": "execute_result"
    },
    {
     "data": {
      "image/png": "[encoded data removed]",
      "text/plain": [
       "<Figure size 720x360 with 1 Axes>"
      ]
     },
     "metadata": {
      "needs_background": "light"
     },
     "output_type": "display_data"
    },
    {
     "name": "stdout",
     "output_type": "stream",
     "text": [
      "10000/10000 [==============================] - 5s 462us/sample - loss: 1.2164 - accuracy: 0.6332\n"
     ]
    },
    {
     "data": {
      "text/plain": [
       "[1.2164052847862243, 0.6332]"
      ]
     },
     "execution_count": 19,
     "metadata": {},
     "output_type": "execute_result"
    },
    {
     "name": "stdout",
     "output_type": "stream",
     "text": [
      "Model: \"resnet\"\n",
      "_________________________________________________________________\n",
      "Layer (type)                 Output Shape              Param #   \n",
      "=================================================================\n",
      "img (InputLayer)             [(None, 32, 32, 3)]       0         \n",
      "_________________________________________________________________\n",
      "conv2d_51 (Conv2D)           (None, 32, 32, 32)        896       \n",
      "_________________________________________________________________\n",
      "activation_77 (Activation)   (None, 32, 32, 32)        0         \n",
      "_________________________________________________________________\n",
      "conv2d_52 (Conv2D)           (None, 30, 30, 32)        9248      \n",
      "_________________________________________________________________\n",
      "activation_78 (Activation)   (None, 30, 30, 32)        0         \n",
      "_________________________________________________________________\n",
      "dropout_38 (Dropout)         (None, 30, 30, 32)        0         \n",
      "_________________________________________________________________\n",
      "conv2d_53 (Conv2D)           (None, 30, 30, 32)        9248      \n",
      "_________________________________________________________________\n",
      "activation_79 (Activation)   (None, 30, 30, 32)        0         \n",
      "_________________________________________________________________\n",
      "conv2d_54 (Conv2D)           (None, 28, 28, 32)        9248      \n",
      "_________________________________________________________________\n",
      "activation_80 (Activation)   (None, 28, 28, 32)        0         \n",
      "_________________________________________________________________\n",
      "dropout_39 (Dropout)         (None, 28, 28, 32)        0         \n",
      "_________________________________________________________________\n",
      "flatten_13 (Flatten)         (None, 25088)             0         \n",
      "_________________________________________________________________\n",
      "dense_26 (Dense)             (None, 512)               12845568  \n",
      "_________________________________________________________________\n",
      "activation_81 (Activation)   (None, 512)               0         \n",
      "_________________________________________________________________\n",
      "dropout_40 (Dropout)         (None, 512)               0         \n",
      "_________________________________________________________________\n",
      "dense_27 (Dense)             (None, 10)                5130      \n",
      "_________________________________________________________________\n",
      "activation_82 (Activation)   (None, 10)                0         \n",
      "=================================================================\n",
      "Total params: 12,879,338\n",
      "Trainable params: 12,879,338\n",
      "Non-trainable params: 0\n",
      "_________________________________________________________________\n"
     ]
    }
   ],
   "source": [
    "# Remove the Max Pooling Layers for CIFAR-10.\n",
    "inputs = tf.keras.Input(shape=x1_train.shape[1:], name='img')\n",
    "x= keras.layers.Conv2D(32, (3, 3), padding='same')(inputs)\n",
    "x= keras.layers.Activation('relu')(x)\n",
    "x= keras.layers.Conv2D(32, (3, 3))(x)\n",
    "x= keras.layers.Activation('relu')(x)\n",
    "x= keras.layers.Dropout(0.25)(x)\n",
    "\n",
    "y= keras.layers.Conv2D(32, (3, 3), padding='same')(x)\n",
    "y= keras.layers.Activation('relu')(y)\n",
    "y= keras.layers.Conv2D(32, (3, 3))(y)\n",
    "y= keras.layers.Activation('relu')(y)\n",
    "y= keras.layers.Dropout(0.25)(y)\n",
    "\n",
    "z= keras.layers.Flatten()(y)\n",
    "z= keras.layers.Dense(512)(z)\n",
    "z=keras.layers.Activation('relu')(z)\n",
    "z=keras.layers.Dropout(0.5)(z)\n",
    "z=keras.layers.Dense(10)(z)\n",
    "outputs= keras.layers.Activation('softmax')(z)\n",
    "\n",
    "model = tf.keras.Model(inputs, outputs, name='resnet')\n",
    "\n",
    "# Let's train the model using SGD\n",
    "model.compile(loss='categorical_crossentropy',\n",
    "              optimizer= SGD(lr=0.01, decay=1e-6, momentum=0.9, nesterov=True),\n",
    "              metrics=['accuracy'])\n",
    "\n",
    "early_stopping_cb = keras.callbacks.EarlyStopping(patience=10, restore_best_weights=True)\n",
    "model_detail = model.fit(x1_train, y1_train,\n",
    "              batch_size=32,\n",
    "              epochs=10,\n",
    "              validation_data=(x1_test, y1_test),\n",
    "              callbacks=[early_stopping_cb],\n",
    "              shuffle=True)\n",
    "\n",
    "#plot accuracies for each epoch\n",
    "history = pd.DataFrame(model_detail.history)\n",
    " \n",
    "history.plot(figsize=(10,5))\n",
    "plt.grid(True)\n",
    "plt.gca().set_ylim(0,1)\n",
    "plt.xlabel('Epochs')\n",
    "plt.title('CNN Cifar10 Neural Nets')\n",
    "plt.show()\n",
    "\n",
    "#After training the model, evaluate the test set\n",
    "model.evaluate(x1_test,y1_test)\n",
    "\n",
    "#Print the summary of the model\n",
    "model.summary()"
   ]
  },
  {
   "cell_type": "markdown",
   "metadata": {},
   "source": [
    "#### Cifar100 - No pooling"
   ]
  },
  {
   "cell_type": "code",
   "execution_count": 20,
   "metadata": {},
   "outputs": [
    {
     "name": "stdout",
     "output_type": "stream",
     "text": [
      "Train on 50000 samples, validate on 10000 samples\n",
      "Epoch 1/10\n",
      "50000/50000 [==============================] - 161s 3ms/sample - loss: 4.5154 - accuracy: 0.0243 - val_loss: 4.2950 - val_accuracy: 0.0585\n",
      "Epoch 2/10\n",
      "50000/50000 [==============================] - 179s 4ms/sample - loss: 4.0724 - accuracy: 0.0868 - val_loss: 3.7221 - val_accuracy: 0.1421\n",
      "Epoch 3/10\n",
      "50000/50000 [==============================] - 178s 4ms/sample - loss: 3.6468 - accuracy: 0.1530 - val_loss: 3.3695 - val_accuracy: 0.2093\n",
      "Epoch 4/10\n",
      "50000/50000 [==============================] - 179s 4ms/sample - loss: 3.3151 - accuracy: 0.2103 - val_loss: 3.1598 - val_accuracy: 0.2439\n",
      "Epoch 5/10\n",
      "50000/50000 [==============================] - 179s 4ms/sample - loss: 2.9996 - accuracy: 0.2674 - val_loss: 2.9843 - val_accuracy: 0.2776\n",
      "Epoch 6/10\n",
      "50000/50000 [==============================] - 178s 4ms/sample - loss: 2.6877 - accuracy: 0.3251 - val_loss: 2.9459 - val_accuracy: 0.2822\n",
      "Epoch 7/10\n",
      "50000/50000 [==============================] - 177s 4ms/sample - loss: 2.3474 - accuracy: 0.3921 - val_loss: 3.0034 - val_accuracy: 0.2741\n",
      "Epoch 8/10\n",
      "50000/50000 [==============================] - 174s 3ms/sample - loss: 2.0136 - accuracy: 0.4705 - val_loss: 3.0384 - val_accuracy: 0.2800\n",
      "Epoch 9/10\n",
      "50000/50000 [==============================] - 173s 3ms/sample - loss: 1.7303 - accuracy: 0.5330 - val_loss: 3.1277 - val_accuracy: 0.2696\n",
      "Epoch 10/10\n",
      "50000/50000 [==============================] - 178s 4ms/sample - loss: 1.4824 - accuracy: 0.5918 - val_loss: 3.2093 - val_accuracy: 0.2771\n"
     ]
    },
    {
     "data": {
      "text/plain": [
       "<matplotlib.axes._subplots.AxesSubplot at 0x21d012570f0>"
      ]
     },
     "execution_count": 20,
     "metadata": {},
     "output_type": "execute_result"
    },
    {
     "data": {
      "text/plain": [
       "(0, 1)"
      ]
     },
     "execution_count": 20,
     "metadata": {},
     "output_type": "execute_result"
    },
    {
     "data": {
      "text/plain": [
       "Text(0.5, 0, 'Epochs')"
      ]
     },
     "execution_count": 20,
     "metadata": {},
     "output_type": "execute_result"
    },
    {
     "data": {
      "text/plain": [
       "Text(0.5, 1.0, 'CNN Cifar10 Neural Nets')"
      ]
     },
     "execution_count": 20,
     "metadata": {},
     "output_type": "execute_result"
    },
    {
     "data": {
      "image/png": "[encoded data removed]",
      "text/plain": [
       "<Figure size 720x360 with 1 Axes>"
      ]
     },
     "metadata": {
      "needs_background": "light"
     },
     "output_type": "display_data"
    },
    {
     "name": "stdout",
     "output_type": "stream",
     "text": [
      "10000/10000 [==============================] - 5s 547us/sample - loss: 3.2093 - accuracy: 0.2771\n"
     ]
    },
    {
     "data": {
      "text/plain": [
       "[3.2092858432769775, 0.2771]"
      ]
     },
     "execution_count": 20,
     "metadata": {},
     "output_type": "execute_result"
    },
    {
     "name": "stdout",
     "output_type": "stream",
     "text": [
      "Model: \"resnet\"\n",
      "_________________________________________________________________\n",
      "Layer (type)                 Output Shape              Param #   \n",
      "=================================================================\n",
      "img (InputLayer)             [(None, 32, 32, 3)]       0         \n",
      "_________________________________________________________________\n",
      "conv2d_55 (Conv2D)           (None, 32, 32, 32)        896       \n",
      "_________________________________________________________________\n",
      "activation_83 (Activation)   (None, 32, 32, 32)        0         \n",
      "_________________________________________________________________\n",
      "conv2d_56 (Conv2D)           (None, 30, 30, 32)        9248      \n",
      "_________________________________________________________________\n",
      "activation_84 (Activation)   (None, 30, 30, 32)        0         \n",
      "_________________________________________________________________\n",
      "dropout_41 (Dropout)         (None, 30, 30, 32)        0         \n",
      "_________________________________________________________________\n",
      "conv2d_57 (Conv2D)           (None, 30, 30, 32)        9248      \n",
      "_________________________________________________________________\n",
      "activation_85 (Activation)   (None, 30, 30, 32)        0         \n",
      "_________________________________________________________________\n",
      "conv2d_58 (Conv2D)           (None, 28, 28, 32)        9248      \n",
      "_________________________________________________________________\n",
      "activation_86 (Activation)   (None, 28, 28, 32)        0         \n",
      "_________________________________________________________________\n",
      "dropout_42 (Dropout)         (None, 28, 28, 32)        0         \n",
      "_________________________________________________________________\n",
      "flatten_14 (Flatten)         (None, 25088)             0         \n",
      "_________________________________________________________________\n",
      "dense_28 (Dense)             (None, 512)               12845568  \n",
      "_________________________________________________________________\n",
      "activation_87 (Activation)   (None, 512)               0         \n",
      "_________________________________________________________________\n",
      "dropout_43 (Dropout)         (None, 512)               0         \n",
      "_________________________________________________________________\n",
      "dense_29 (Dense)             (None, 100)               51300     \n",
      "_________________________________________________________________\n",
      "activation_88 (Activation)   (None, 100)               0         \n",
      "=================================================================\n",
      "Total params: 12,925,508\n",
      "Trainable params: 12,925,508\n",
      "Non-trainable params: 0\n",
      "_________________________________________________________________\n"
     ]
    }
   ],
   "source": [
    "# Remove the Max Pooling Layers for CIFAR-100.\n",
    "inputs = tf.keras.Input(shape=x2_train.shape[1:], name='img')\n",
    "x= keras.layers.Conv2D(32, (3, 3), padding='same')(inputs)\n",
    "x= keras.layers.Activation('relu')(x)\n",
    "x= keras.layers.Conv2D(32, (3, 3))(x)\n",
    "x= keras.layers.Activation('relu')(x)\n",
    "x= keras.layers.Dropout(0.25)(x)\n",
    "\n",
    "y= keras.layers.Conv2D(32, (3, 3), padding='same')(x)\n",
    "y= keras.layers.Activation('relu')(y)\n",
    "y= keras.layers.Conv2D(32, (3, 3))(y)\n",
    "y= keras.layers.Activation('relu')(y)\n",
    "y= keras.layers.Dropout(0.25)(y)\n",
    "\n",
    "z= keras.layers.Flatten()(y)\n",
    "z= keras.layers.Dense(512)(z)\n",
    "z=keras.layers.Activation('relu')(z)\n",
    "z=keras.layers.Dropout(0.5)(z)\n",
    "z=keras.layers.Dense(100)(z)\n",
    "outputs= keras.layers.Activation('softmax')(z)\n",
    "\n",
    "model = tf.keras.Model(inputs, outputs, name='resnet')\n",
    "# Let's train the model using SGD\n",
    "model.compile(loss='categorical_crossentropy',\n",
    "              optimizer= SGD(lr=0.01, decay=1e-6, momentum=0.9, nesterov=True),\n",
    "              metrics=['accuracy'])\n",
    "\n",
    "early_stopping_cb = keras.callbacks.EarlyStopping(patience=10, restore_best_weights=True)\n",
    "model_detail = model.fit(x2_train, y2_train,\n",
    "              batch_size=32,\n",
    "              epochs=10,\n",
    "              validation_data=(x2_test, y2_test),\n",
    "              callbacks=[early_stopping_cb],\n",
    "              shuffle=True)\n",
    "\n",
    "#plot accuracies for each epoch\n",
    "history = pd.DataFrame(model_detail.history)\n",
    " \n",
    "history.plot(figsize=(10,5))\n",
    "plt.grid(True)\n",
    "plt.gca().set_ylim(0,1)\n",
    "plt.xlabel('Epochs')\n",
    "plt.title('CNN Cifar10 Neural Nets')\n",
    "plt.show()\n",
    "\n",
    "#After training the model, evaluate the test set\n",
    "model.evaluate(x2_test,y2_test)\n",
    "\n",
    "#Print the summary of the model\n",
    "model.summary()"
   ]
  },
  {
   "cell_type": "markdown",
   "metadata": {},
   "source": [
    "#### Analysis:\n",
    "- CNN with 32 filters on Cifar10 - Trn acc:0.67 and Val acc:0.7\n",
    "- CNN with 32 filters on Cifr100 - Trn acc:0.23 and Val acc:0.28\n",
    "- CNN with 32 filters on Cifar10 No pooling - Trn acc:0.8 and Val acc:0.65\n",
    "- CNN with 32 filters on Cifr100 No pooling - Trn acc:0.6 and Val acc:0.3\n",
    "- Overfitting - We can see not much difference between training and validation accuracies for Cifar10. So not much overfitting. But for Cifar100, we can see overfitting. Training accuracy is good but validation accuracy remained same.\n",
    "- Performance - Pooling is a technique that uses a reduced filter size and reduces the number of parameters. Advantage of pooling would be improved training times and less number of parameters.\n",
    "- If pooling is removed, convolution filter uses its regular size and model trains more parameters.\n",
    "- On Cifar10, there is not much improvement or bad performance.\n",
    "- On Cifar100, we can see overfitting on Training data but validation accuracy is not improved.\n",
    "- So removing pooling did not contributed much on Cifar 10 and 100 datasets."
   ]
  },
  {
   "cell_type": "markdown",
   "metadata": {},
   "source": [
    "### Step 9: CNN with Data augmentation on Cifar10"
   ]
  },
  {
   "cell_type": "code",
   "execution_count": 3,
   "metadata": {},
   "outputs": [
    {
     "name": "stdout",
     "output_type": "stream",
     "text": [
      "Using real-time data augmentation.\n",
      "WARNING:tensorflow:sample_weight modes were coerced from\n",
      "  ...\n",
      "    to  \n",
      "  ['...']\n",
      "Train for 782 steps, validate on 10000 samples\n",
      "Epoch 1/40\n",
      "782/782 [==============================] - 97s 124ms/step - loss: 1.8367 - accuracy: 0.3264 - val_loss: 1.3982 - val_accuracy: 0.4920\n",
      "Epoch 2/40\n",
      "782/782 [==============================] - 94s 120ms/step - loss: 1.4202 - accuracy: 0.4860 - val_loss: 1.1817 - val_accuracy: 0.5753\n",
      "Epoch 3/40\n",
      "782/782 [==============================] - 94s 120ms/step - loss: 1.2574 - accuracy: 0.5479 - val_loss: 1.0560 - val_accuracy: 0.6257\n",
      "Epoch 4/40\n",
      "782/782 [==============================] - 94s 120ms/step - loss: 1.1465 - accuracy: 0.5897 - val_loss: 1.0090 - val_accuracy: 0.6400\n",
      "Epoch 5/40\n",
      "782/782 [==============================] - 101s 129ms/step - loss: 1.0788 - accuracy: 0.6171 - val_loss: 0.8934 - val_accuracy: 0.6844\n",
      "Epoch 6/40\n",
      "782/782 [==============================] - 96s 122ms/step - loss: 1.0210 - accuracy: 0.6411 - val_loss: 0.9206 - val_accuracy: 0.6845\n",
      "Epoch 7/40\n",
      "782/782 [==============================] - 95s 121ms/step - loss: 0.9729 - accuracy: 0.6567 - val_loss: 0.8445 - val_accuracy: 0.7056\n",
      "Epoch 8/40\n",
      "782/782 [==============================] - 94s 120ms/step - loss: 0.9255 - accuracy: 0.6709 - val_loss: 0.8137 - val_accuracy: 0.7244\n",
      "Epoch 9/40\n",
      "782/782 [==============================] - 94s 120ms/step - loss: 0.8906 - accuracy: 0.6871 - val_loss: 0.7845 - val_accuracy: 0.7278\n",
      "Epoch 10/40\n",
      "782/782 [==============================] - 94s 121ms/step - loss: 0.8680 - accuracy: 0.6975 - val_loss: 0.7315 - val_accuracy: 0.7473\n",
      "Epoch 11/40\n",
      "782/782 [==============================] - 94s 120ms/step - loss: 0.8390 - accuracy: 0.7057 - val_loss: 0.7410 - val_accuracy: 0.7430\n",
      "Epoch 12/40\n",
      "782/782 [==============================] - 94s 120ms/step - loss: 0.8199 - accuracy: 0.7134 - val_loss: 0.7189 - val_accuracy: 0.7539\n",
      "Epoch 13/40\n",
      "782/782 [==============================] - 94s 120ms/step - loss: 0.8041 - accuracy: 0.7187 - val_loss: 0.6889 - val_accuracy: 0.7559\n",
      "Epoch 14/40\n",
      "782/782 [==============================] - 94s 120ms/step - loss: 0.7907 - accuracy: 0.7232 - val_loss: 0.7036 - val_accuracy: 0.7570\n",
      "Epoch 15/40\n",
      "782/782 [==============================] - 94s 120ms/step - loss: 0.7733 - accuracy: 0.7301 - val_loss: 0.6961 - val_accuracy: 0.7639\n",
      "Epoch 16/40\n",
      "782/782 [==============================] - 94s 120ms/step - loss: 0.7577 - accuracy: 0.7360 - val_loss: 0.6755 - val_accuracy: 0.7665\n",
      "Epoch 17/40\n",
      "782/782 [==============================] - 94s 120ms/step - loss: 0.7481 - accuracy: 0.7396 - val_loss: 0.6707 - val_accuracy: 0.7697\n",
      "Epoch 18/40\n",
      "782/782 [==============================] - 94s 120ms/step - loss: 0.7404 - accuracy: 0.7428 - val_loss: 0.6921 - val_accuracy: 0.7626\n",
      "Epoch 19/40\n",
      "782/782 [==============================] - 94s 121ms/step - loss: 0.7260 - accuracy: 0.7470 - val_loss: 0.6605 - val_accuracy: 0.7725\n",
      "Epoch 20/40\n",
      "782/782 [==============================] - 94s 120ms/step - loss: 0.7199 - accuracy: 0.7474 - val_loss: 0.6993 - val_accuracy: 0.7702\n",
      "Epoch 21/40\n",
      "782/782 [==============================] - 96s 122ms/step - loss: 0.7055 - accuracy: 0.7546 - val_loss: 0.6479 - val_accuracy: 0.7813\n",
      "Epoch 22/40\n",
      "782/782 [==============================] - 94s 120ms/step - loss: 0.7063 - accuracy: 0.7553 - val_loss: 0.6354 - val_accuracy: 0.7849\n",
      "Epoch 23/40\n",
      "782/782 [==============================] - 94s 120ms/step - loss: 0.6957 - accuracy: 0.7588 - val_loss: 0.6297 - val_accuracy: 0.7914\n",
      "Epoch 24/40\n",
      "782/782 [==============================] - 94s 121ms/step - loss: 0.6875 - accuracy: 0.7617 - val_loss: 0.6182 - val_accuracy: 0.7890\n",
      "Epoch 25/40\n",
      "782/782 [==============================] - 94s 120ms/step - loss: 0.6874 - accuracy: 0.7618 - val_loss: 0.6430 - val_accuracy: 0.7819\n",
      "Epoch 26/40\n",
      "782/782 [==============================] - 94s 120ms/step - loss: 0.6854 - accuracy: 0.7634 - val_loss: 0.6539 - val_accuracy: 0.7850\n",
      "Epoch 27/40\n",
      "782/782 [==============================] - 94s 120ms/step - loss: 0.6673 - accuracy: 0.7681 - val_loss: 0.6345 - val_accuracy: 0.7842\n",
      "Epoch 28/40\n",
      "782/782 [==============================] - 94s 120ms/step - loss: 0.6679 - accuracy: 0.7682 - val_loss: 0.6640 - val_accuracy: 0.7793\n",
      "Epoch 29/40\n",
      "782/782 [==============================] - 95s 122ms/step - loss: 0.6635 - accuracy: 0.7710 - val_loss: 0.6248 - val_accuracy: 0.7853\n",
      "Epoch 30/40\n",
      "782/782 [==============================] - 94s 121ms/step - loss: 0.6569 - accuracy: 0.7704 - val_loss: 0.5951 - val_accuracy: 0.8004\n",
      "Epoch 31/40\n",
      "782/782 [==============================] - 94s 120ms/step - loss: 0.6529 - accuracy: 0.7743 - val_loss: 0.6019 - val_accuracy: 0.7941\n",
      "Epoch 32/40\n",
      "782/782 [==============================] - 94s 121ms/step - loss: 0.6504 - accuracy: 0.7753 - val_loss: 0.5859 - val_accuracy: 0.8023\n",
      "Epoch 33/40\n",
      "782/782 [==============================] - 97s 124ms/step - loss: 0.6357 - accuracy: 0.7789 - val_loss: 0.6280 - val_accuracy: 0.7883\n",
      "Epoch 34/40\n",
      "782/782 [==============================] - 94s 120ms/step - loss: 0.6389 - accuracy: 0.7776 - val_loss: 0.5808 - val_accuracy: 0.8025\n",
      "Epoch 35/40\n",
      "782/782 [==============================] - 95s 121ms/step - loss: 0.6341 - accuracy: 0.7794 - val_loss: 0.6062 - val_accuracy: 0.7993\n",
      "Epoch 36/40\n",
      "782/782 [==============================] - 94s 120ms/step - loss: 0.6284 - accuracy: 0.7820 - val_loss: 0.5900 - val_accuracy: 0.8021\n",
      "Epoch 37/40\n",
      "782/782 [==============================] - 94s 120ms/step - loss: 0.6234 - accuracy: 0.7864 - val_loss: 0.5830 - val_accuracy: 0.8073\n",
      "Epoch 38/40\n",
      "782/782 [==============================] - 94s 120ms/step - loss: 0.6207 - accuracy: 0.7839 - val_loss: 0.5917 - val_accuracy: 0.8010\n",
      "Epoch 39/40\n",
      "782/782 [==============================] - 94s 120ms/step - loss: 0.6223 - accuracy: 0.7854 - val_loss: 0.5780 - val_accuracy: 0.8069\n",
      "Epoch 40/40\n",
      "782/782 [==============================] - 94s 120ms/step - loss: 0.6154 - accuracy: 0.7872 - val_loss: 0.6042 - val_accuracy: 0.7946\n"
     ]
    },
    {
     "data": {
      "text/plain": [
       "<tensorflow.python.keras.callbacks.History at 0x22e8a7b1508>"
      ]
     },
     "execution_count": 3,
     "metadata": {},
     "output_type": "execute_result"
    }
   ],
   "source": [
    "# Data Augmentation.\n",
    "batch_size = 64\n",
    "num_classes = 10\n",
    "epochs = 40\n",
    "data_augmentation = True\n",
    "\n",
    "model = Sequential()\n",
    "model.add(Conv2D(32, (3, 3), padding='same', input_shape=x_train.shape[1:]))\n",
    "model.add(Activation('relu'))\n",
    "model.add(Conv2D(32, (3, 3)))\n",
    "model.add(Activation('relu'))\n",
    "model.add(MaxPooling2D(pool_size=(2, 2)))\n",
    "\n",
    "model.add(Conv2D(32, (3, 3), padding='same'))\n",
    "model.add(Activation('relu'))\n",
    "model.add(Conv2D(32, (3, 3)))\n",
    "model.add(Activation('relu'))\n",
    "model.add(MaxPooling2D(pool_size=(2, 2)))\n",
    "\n",
    "model.add(Flatten())\n",
    "model.add(Dense(512))\n",
    "model.add(Activation('relu'))\n",
    "model.add(Dropout(0.5))\n",
    "model.add(Dense(num_classes))\n",
    "model.add(Activation('softmax'))\n",
    "\n",
    "opt = SGD(lr=0.01, decay=1e-6, momentum=0.9, nesterov=True)\n",
    "\n",
    "model.compile(loss='categorical_crossentropy',\n",
    "              optimizer=opt,\n",
    "              metrics=['accuracy'])\n",
    "\n",
    "if not data_augmentation:\n",
    "    print('Not using data augmentation.')\n",
    "    model.fit(x1_train, y1_train,\n",
    "              batch_size=batch_size,\n",
    "              epochs=epochs,\n",
    "              validation_data=(x1_test, y1_test),\n",
    "              shuffle=True)\n",
    "else:\n",
    "    print('Using real-time data augmentation.')\n",
    "    datagen = ImageDataGenerator(\n",
    "        featurewise_center=False,\n",
    "        samplewise_center=False,\n",
    "        featurewise_std_normalization=False,\n",
    "        samplewise_std_normalization=False,\n",
    "        zca_whitening=False,\n",
    "        zca_epsilon=1e-06,\n",
    "        rotation_range=0,\n",
    "        width_shift_range=0.1,\n",
    "        height_shift_range=0.1,\n",
    "        shear_range=0., \n",
    "        zoom_range=0., \n",
    "        channel_shift_range=0.,\n",
    "        fill_mode='nearest',\n",
    "        cval=0., \n",
    "        horizontal_flip=True,\n",
    "        vertical_flip=False, \n",
    "        rescale=None,\n",
    "        preprocessing_function=None,\n",
    "        data_format=None,\n",
    "        validation_split=0.0)\n",
    "\n",
    "    datagen.fit(x_train)\n",
    "\n",
    "    model.fit(datagen.flow(x1_train, y1_train,\n",
    "                        batch_size=batch_size),\n",
    "                        epochs=epochs,\n",
    "                        validation_data=(x1_test, y1_test))\n",
    "\n",
    "scores = model.evaluate(x1_test, y1_test, verbose=0)"
   ]
  },
  {
   "cell_type": "markdown",
   "metadata": {},
   "source": [
    "### Step 10: CNN Rsnet on Cifar10"
   ]
  },
  {
   "cell_type": "code",
   "execution_count": 9,
   "metadata": {
    "scrolled": true
   },
   "outputs": [
    {
     "name": "stdout",
     "output_type": "stream",
     "text": [
      "Train on 40000 samples, validate on 10000 samples\n",
      "Epoch 1/10\n",
      "40000/40000 [==============================] - 467s 12ms/sample - loss: 0.3064 - accuracy: 0.8996 - val_loss: 0.7459 - val_accuracy: 0.8203\n",
      "Epoch 2/10\n",
      "40000/40000 [==============================] - 497s 12ms/sample - loss: 0.2315 - accuracy: 0.9134 - val_loss: 0.4012 - val_accuracy: 0.8975\n",
      "Epoch 3/10\n",
      "40000/40000 [==============================] - 487s 12ms/sample - loss: 0.1878 - accuracy: 0.9284 - val_loss: 0.2295 - val_accuracy: 0.9122\n",
      "Epoch 4/10\n",
      "40000/40000 [==============================] - 489s 12ms/sample - loss: 0.1627 - accuracy: 0.9380 - val_loss: 0.1939 - val_accuracy: 0.9265\n",
      "Epoch 5/10\n",
      "40000/40000 [==============================] - 492s 12ms/sample - loss: 0.1453 - accuracy: 0.9445 - val_loss: 0.2068 - val_accuracy: 0.9234\n",
      "Epoch 6/10\n",
      "40000/40000 [==============================] - 486s 12ms/sample - loss: 0.1319 - accuracy: 0.9499 - val_loss: 0.2010 - val_accuracy: 0.9267\n",
      "Epoch 7/10\n",
      "40000/40000 [==============================] - 518s 13ms/sample - loss: 0.1217 - accuracy: 0.9539 - val_loss: 0.2397 - val_accuracy: 0.9192\n",
      "Epoch 8/10\n",
      "40000/40000 [==============================] - 486s 12ms/sample - loss: 0.1112 - accuracy: 0.9580 - val_loss: 0.1499 - val_accuracy: 0.9440\n",
      "Epoch 9/10\n",
      "40000/40000 [==============================] - 485s 12ms/sample - loss: 0.1032 - accuracy: 0.9609 - val_loss: 0.1521 - val_accuracy: 0.9440\n",
      "Epoch 10/10\n",
      "40000/40000 [==============================] - 429s 11ms/sample - loss: 0.0954 - accuracy: 0.9641 - val_loss: 0.4384 - val_accuracy: 0.8950\n"
     ]
    },
    {
     "data": {
      "text/plain": [
       "<matplotlib.axes._subplots.AxesSubplot at 0x20c243edc88>"
      ]
     },
     "execution_count": 9,
     "metadata": {},
     "output_type": "execute_result"
    },
    {
     "data": {
      "text/plain": [
       "(0, 1)"
      ]
     },
     "execution_count": 9,
     "metadata": {},
     "output_type": "execute_result"
    },
    {
     "data": {
      "text/plain": [
       "Text(0.5, 0, 'Epochs')"
      ]
     },
     "execution_count": 9,
     "metadata": {},
     "output_type": "execute_result"
    },
    {
     "data": {
      "text/plain": [
       "Text(0.5, 1.0, 'CNN Cifar10 Residual Nets')"
      ]
     },
     "execution_count": 9,
     "metadata": {},
     "output_type": "execute_result"
    },
    {
     "data": {
      "image/png": "[encoded data removed]",
      "text/plain": [
       "<Figure size 720x360 with 1 Axes>"
      ]
     },
     "metadata": {
      "needs_background": "light"
     },
     "output_type": "display_data"
    },
    {
     "name": "stdout",
     "output_type": "stream",
     "text": [
      "10000/10000 [==============================] - 15s 1ms/sample - loss: 0.4495 - accuracy: 0.8940\n"
     ]
    },
    {
     "data": {
      "text/plain": [
       "[0.4495100642681122, 0.894]"
      ]
     },
     "execution_count": 9,
     "metadata": {},
     "output_type": "execute_result"
    },
    {
     "name": "stdout",
     "output_type": "stream",
     "text": [
      "Model: \"resnet\"\n",
      "__________________________________________________________________________________________________\n",
      "Layer (type)                    Output Shape         Param #     Connected to                     \n",
      "==================================================================================================\n",
      "img (InputLayer)                [(None, 32, 32, 3)]  0                                            \n",
      "__________________________________________________________________________________________________\n",
      "conv2d_88 (Conv2D)              (None, 30, 30, 32)   896         img[0][0]                        \n",
      "__________________________________________________________________________________________________\n",
      "conv2d_89 (Conv2D)              (None, 28, 28, 64)   18496       conv2d_88[0][0]                  \n",
      "__________________________________________________________________________________________________\n",
      "max_pooling2d_3 (MaxPooling2D)  (None, 9, 9, 64)     0           conv2d_89[0][0]                  \n",
      "__________________________________________________________________________________________________\n",
      "conv2d_90 (Conv2D)              (None, 9, 9, 64)     36928       max_pooling2d_3[0][0]            \n",
      "__________________________________________________________________________________________________\n",
      "batch_normalization_39 (BatchNo (None, 9, 9, 64)     256         conv2d_90[0][0]                  \n",
      "__________________________________________________________________________________________________\n",
      "conv2d_91 (Conv2D)              (None, 9, 9, 64)     36928       batch_normalization_39[0][0]     \n",
      "__________________________________________________________________________________________________\n",
      "add_39 (Add)                    (None, 9, 9, 64)     0           conv2d_91[0][0]                  \n",
      "                                                                 max_pooling2d_3[0][0]            \n",
      "__________________________________________________________________________________________________\n",
      "conv2d_92 (Conv2D)              (None, 9, 9, 64)     36928       add_39[0][0]                     \n",
      "__________________________________________________________________________________________________\n",
      "batch_normalization_40 (BatchNo (None, 9, 9, 64)     256         conv2d_92[0][0]                  \n",
      "__________________________________________________________________________________________________\n",
      "conv2d_93 (Conv2D)              (None, 9, 9, 64)     36928       batch_normalization_40[0][0]     \n",
      "__________________________________________________________________________________________________\n",
      "add_40 (Add)                    (None, 9, 9, 64)     0           conv2d_93[0][0]                  \n",
      "                                                                 add_39[0][0]                     \n",
      "__________________________________________________________________________________________________\n",
      "conv2d_94 (Conv2D)              (None, 9, 9, 64)     36928       add_40[0][0]                     \n",
      "__________________________________________________________________________________________________\n",
      "batch_normalization_41 (BatchNo (None, 9, 9, 64)     256         conv2d_94[0][0]                  \n",
      "__________________________________________________________________________________________________\n",
      "conv2d_95 (Conv2D)              (None, 9, 9, 64)     36928       batch_normalization_41[0][0]     \n",
      "__________________________________________________________________________________________________\n",
      "add_41 (Add)                    (None, 9, 9, 64)     0           conv2d_95[0][0]                  \n",
      "                                                                 add_40[0][0]                     \n",
      "__________________________________________________________________________________________________\n",
      "conv2d_96 (Conv2D)              (None, 9, 9, 64)     36928       add_41[0][0]                     \n",
      "__________________________________________________________________________________________________\n",
      "batch_normalization_42 (BatchNo (None, 9, 9, 64)     256         conv2d_96[0][0]                  \n",
      "__________________________________________________________________________________________________\n",
      "conv2d_97 (Conv2D)              (None, 9, 9, 64)     36928       batch_normalization_42[0][0]     \n",
      "__________________________________________________________________________________________________\n",
      "add_42 (Add)                    (None, 9, 9, 64)     0           conv2d_97[0][0]                  \n",
      "                                                                 add_41[0][0]                     \n",
      "__________________________________________________________________________________________________\n",
      "conv2d_98 (Conv2D)              (None, 9, 9, 64)     36928       add_42[0][0]                     \n",
      "__________________________________________________________________________________________________\n",
      "batch_normalization_43 (BatchNo (None, 9, 9, 64)     256         conv2d_98[0][0]                  \n",
      "__________________________________________________________________________________________________\n",
      "conv2d_99 (Conv2D)              (None, 9, 9, 64)     36928       batch_normalization_43[0][0]     \n",
      "__________________________________________________________________________________________________\n",
      "add_43 (Add)                    (None, 9, 9, 64)     0           conv2d_99[0][0]                  \n",
      "                                                                 add_42[0][0]                     \n",
      "__________________________________________________________________________________________________\n",
      "conv2d_100 (Conv2D)             (None, 9, 9, 64)     36928       add_43[0][0]                     \n",
      "__________________________________________________________________________________________________\n",
      "batch_normalization_44 (BatchNo (None, 9, 9, 64)     256         conv2d_100[0][0]                 \n",
      "__________________________________________________________________________________________________\n",
      "conv2d_101 (Conv2D)             (None, 9, 9, 64)     36928       batch_normalization_44[0][0]     \n",
      "__________________________________________________________________________________________________\n",
      "add_44 (Add)                    (None, 9, 9, 64)     0           conv2d_101[0][0]                 \n",
      "                                                                 add_43[0][0]                     \n",
      "__________________________________________________________________________________________________\n",
      "conv2d_102 (Conv2D)             (None, 9, 9, 64)     36928       add_44[0][0]                     \n",
      "__________________________________________________________________________________________________\n",
      "batch_normalization_45 (BatchNo (None, 9, 9, 64)     256         conv2d_102[0][0]                 \n",
      "__________________________________________________________________________________________________\n",
      "conv2d_103 (Conv2D)             (None, 9, 9, 64)     36928       batch_normalization_45[0][0]     \n",
      "__________________________________________________________________________________________________\n",
      "add_45 (Add)                    (None, 9, 9, 64)     0           conv2d_103[0][0]                 \n",
      "                                                                 add_44[0][0]                     \n",
      "__________________________________________________________________________________________________\n",
      "conv2d_104 (Conv2D)             (None, 9, 9, 64)     36928       add_45[0][0]                     \n",
      "__________________________________________________________________________________________________\n",
      "batch_normalization_46 (BatchNo (None, 9, 9, 64)     256         conv2d_104[0][0]                 \n",
      "__________________________________________________________________________________________________\n",
      "conv2d_105 (Conv2D)             (None, 9, 9, 64)     36928       batch_normalization_46[0][0]     \n",
      "__________________________________________________________________________________________________\n",
      "add_46 (Add)                    (None, 9, 9, 64)     0           conv2d_105[0][0]                 \n",
      "                                                                 add_45[0][0]                     \n",
      "__________________________________________________________________________________________________\n",
      "conv2d_106 (Conv2D)             (None, 9, 9, 64)     36928       add_46[0][0]                     \n",
      "__________________________________________________________________________________________________\n",
      "batch_normalization_47 (BatchNo (None, 9, 9, 64)     256         conv2d_106[0][0]                 \n",
      "__________________________________________________________________________________________________\n",
      "conv2d_107 (Conv2D)             (None, 9, 9, 64)     36928       batch_normalization_47[0][0]     \n",
      "__________________________________________________________________________________________________\n",
      "add_47 (Add)                    (None, 9, 9, 64)     0           conv2d_107[0][0]                 \n",
      "                                                                 add_46[0][0]                     \n",
      "__________________________________________________________________________________________________\n",
      "conv2d_108 (Conv2D)             (None, 9, 9, 64)     36928       add_47[0][0]                     \n",
      "__________________________________________________________________________________________________\n",
      "batch_normalization_48 (BatchNo (None, 9, 9, 64)     256         conv2d_108[0][0]                 \n",
      "__________________________________________________________________________________________________\n",
      "conv2d_109 (Conv2D)             (None, 9, 9, 64)     36928       batch_normalization_48[0][0]     \n",
      "__________________________________________________________________________________________________\n",
      "add_48 (Add)                    (None, 9, 9, 64)     0           conv2d_109[0][0]                 \n",
      "                                                                 add_47[0][0]                     \n",
      "__________________________________________________________________________________________________\n",
      "conv2d_110 (Conv2D)             (None, 9, 9, 64)     36928       add_48[0][0]                     \n",
      "__________________________________________________________________________________________________\n",
      "batch_normalization_49 (BatchNo (None, 9, 9, 64)     256         conv2d_110[0][0]                 \n",
      "__________________________________________________________________________________________________\n",
      "conv2d_111 (Conv2D)             (None, 9, 9, 64)     36928       batch_normalization_49[0][0]     \n",
      "__________________________________________________________________________________________________\n",
      "add_49 (Add)                    (None, 9, 9, 64)     0           conv2d_111[0][0]                 \n",
      "                                                                 add_48[0][0]                     \n",
      "__________________________________________________________________________________________________\n",
      "conv2d_112 (Conv2D)             (None, 9, 9, 64)     36928       add_49[0][0]                     \n",
      "__________________________________________________________________________________________________\n",
      "batch_normalization_50 (BatchNo (None, 9, 9, 64)     256         conv2d_112[0][0]                 \n",
      "__________________________________________________________________________________________________\n",
      "conv2d_113 (Conv2D)             (None, 9, 9, 64)     36928       batch_normalization_50[0][0]     \n",
      "__________________________________________________________________________________________________\n",
      "add_50 (Add)                    (None, 9, 9, 64)     0           conv2d_113[0][0]                 \n",
      "                                                                 add_49[0][0]                     \n",
      "__________________________________________________________________________________________________\n",
      "conv2d_114 (Conv2D)             (None, 9, 9, 64)     36928       add_50[0][0]                     \n",
      "__________________________________________________________________________________________________\n",
      "batch_normalization_51 (BatchNo (None, 9, 9, 64)     256         conv2d_114[0][0]                 \n",
      "__________________________________________________________________________________________________\n",
      "conv2d_115 (Conv2D)             (None, 9, 9, 64)     36928       batch_normalization_51[0][0]     \n",
      "__________________________________________________________________________________________________\n",
      "add_51 (Add)                    (None, 9, 9, 64)     0           conv2d_115[0][0]                 \n",
      "                                                                 add_50[0][0]                     \n",
      "__________________________________________________________________________________________________\n",
      "conv2d_116 (Conv2D)             (None, 9, 9, 64)     36928       add_51[0][0]                     \n",
      "__________________________________________________________________________________________________\n",
      "batch_normalization_52 (BatchNo (None, 9, 9, 64)     256         conv2d_116[0][0]                 \n",
      "__________________________________________________________________________________________________\n",
      "conv2d_117 (Conv2D)             (None, 9, 9, 64)     36928       batch_normalization_52[0][0]     \n",
      "__________________________________________________________________________________________________\n",
      "add_52 (Add)                    (None, 9, 9, 64)     0           conv2d_117[0][0]                 \n",
      "                                                                 add_51[0][0]                     \n",
      "__________________________________________________________________________________________________\n",
      "conv2d_118 (Conv2D)             (None, 9, 9, 64)     36928       add_52[0][0]                     \n",
      "__________________________________________________________________________________________________\n",
      "batch_normalization_53 (BatchNo (None, 9, 9, 64)     256         conv2d_118[0][0]                 \n",
      "__________________________________________________________________________________________________\n",
      "conv2d_119 (Conv2D)             (None, 9, 9, 64)     36928       batch_normalization_53[0][0]     \n",
      "__________________________________________________________________________________________________\n",
      "add_53 (Add)                    (None, 9, 9, 64)     0           conv2d_119[0][0]                 \n",
      "                                                                 add_52[0][0]                     \n",
      "__________________________________________________________________________________________________\n",
      "conv2d_120 (Conv2D)             (None, 9, 9, 64)     36928       add_53[0][0]                     \n",
      "__________________________________________________________________________________________________\n",
      "batch_normalization_54 (BatchNo (None, 9, 9, 64)     256         conv2d_120[0][0]                 \n",
      "__________________________________________________________________________________________________\n",
      "conv2d_121 (Conv2D)             (None, 9, 9, 64)     36928       batch_normalization_54[0][0]     \n",
      "__________________________________________________________________________________________________\n",
      "add_54 (Add)                    (None, 9, 9, 64)     0           conv2d_121[0][0]                 \n",
      "                                                                 add_53[0][0]                     \n",
      "__________________________________________________________________________________________________\n",
      "conv2d_122 (Conv2D)             (None, 9, 9, 64)     36928       add_54[0][0]                     \n",
      "__________________________________________________________________________________________________\n",
      "batch_normalization_55 (BatchNo (None, 9, 9, 64)     256         conv2d_122[0][0]                 \n",
      "__________________________________________________________________________________________________\n",
      "conv2d_123 (Conv2D)             (None, 9, 9, 64)     36928       batch_normalization_55[0][0]     \n",
      "__________________________________________________________________________________________________\n",
      "add_55 (Add)                    (None, 9, 9, 64)     0           conv2d_123[0][0]                 \n",
      "                                                                 add_54[0][0]                     \n",
      "__________________________________________________________________________________________________\n",
      "conv2d_124 (Conv2D)             (None, 9, 9, 64)     36928       add_55[0][0]                     \n",
      "__________________________________________________________________________________________________\n",
      "batch_normalization_56 (BatchNo (None, 9, 9, 64)     256         conv2d_124[0][0]                 \n",
      "__________________________________________________________________________________________________\n",
      "conv2d_125 (Conv2D)             (None, 9, 9, 64)     36928       batch_normalization_56[0][0]     \n",
      "__________________________________________________________________________________________________\n",
      "add_56 (Add)                    (None, 9, 9, 64)     0           conv2d_125[0][0]                 \n",
      "                                                                 add_55[0][0]                     \n",
      "__________________________________________________________________________________________________\n",
      "conv2d_126 (Conv2D)             (None, 9, 9, 64)     36928       add_56[0][0]                     \n",
      "__________________________________________________________________________________________________\n",
      "batch_normalization_57 (BatchNo (None, 9, 9, 64)     256         conv2d_126[0][0]                 \n",
      "__________________________________________________________________________________________________\n",
      "conv2d_127 (Conv2D)             (None, 9, 9, 64)     36928       batch_normalization_57[0][0]     \n",
      "__________________________________________________________________________________________________\n",
      "add_57 (Add)                    (None, 9, 9, 64)     0           conv2d_127[0][0]                 \n",
      "                                                                 add_56[0][0]                     \n",
      "__________________________________________________________________________________________________\n",
      "conv2d_128 (Conv2D)             (None, 7, 7, 64)     36928       add_57[0][0]                     \n",
      "__________________________________________________________________________________________________\n",
      "global_average_pooling2d_2 (Glo (None, 64)           0           conv2d_128[0][0]                 \n",
      "__________________________________________________________________________________________________\n",
      "dense_1 (Dense)                 (None, 256)          16640       global_average_pooling2d_2[0][0] \n",
      "__________________________________________________________________________________________________\n",
      "dropout (Dropout)               (None, 256)          0           dense_1[0][0]                    \n",
      "__________________________________________________________________________________________________\n",
      "dense_2 (Dense)                 (None, 10)           2570        dropout[0][0]                    \n",
      "==================================================================================================\n",
      "Total params: 1,483,658\n",
      "Trainable params: 1,481,226\n",
      "Non-trainable params: 2,432\n",
      "__________________________________________________________________________________________________\n"
     ]
    }
   ],
   "source": [
    "# Here is our CIFAR-10 CNN ResNet.\n",
    "inputs = tf.keras.Input(shape=(32, 32, 3), name='img')\n",
    "x = keras.layers.Conv2D(32, 3, activation='relu')(inputs)\n",
    "x = keras.layers.Conv2D(64, 3, activation='relu')(x)\n",
    "block_1_output = keras.layers.MaxPooling2D(3)(x)\n",
    "\n",
    "x = keras.layers.Conv2D(64, 3, activation='relu', padding='same')(block_1_output)\n",
    "x = BatchNormalization()(x)\n",
    "x = keras.layers.Conv2D(64, 3, activation='relu', padding='same')(x)\n",
    "block_2_output = tf.keras.layers.add([x, block_1_output])\n",
    "\n",
    "x = keras.layers.Conv2D(64, 3, activation='relu', padding='same')(block_2_output)\n",
    "x = BatchNormalization()(x)\n",
    "x = keras.layers.Conv2D(64, 3, activation='relu', padding='same')(x)\n",
    "block_3_output = tf.keras.layers.add([x, block_2_output])\n",
    "\n",
    "x = keras.layers.Conv2D(64, 3, activation='relu', padding='same')(block_3_output)\n",
    "x = BatchNormalization()(x)\n",
    "x = keras.layers.Conv2D(64, 3, activation='relu', padding='same')(x)\n",
    "block_4_output = tf.keras.layers.add([x, block_3_output])\n",
    "\n",
    "x = keras.layers.Conv2D(64, 3, activation='relu', padding='same')(block_4_output)\n",
    "x = BatchNormalization()(x)\n",
    "x = keras.layers.Conv2D(64, 3, activation='relu', padding='same')(x)\n",
    "block_5_output = tf.keras.layers.add([x, block_4_output])\n",
    "\n",
    "x = keras.layers.Conv2D(64, 3, activation='relu', padding='same')(block_5_output)\n",
    "x = BatchNormalization()(x)\n",
    "x = keras.layers.Conv2D(64, 3, activation='relu', padding='same')(x)\n",
    "block_6_output = tf.keras.layers.add([x, block_5_output])\n",
    "\n",
    "x = keras.layers.Conv2D(64, 3, activation='relu', padding='same')(block_6_output)\n",
    "x = BatchNormalization()(x)\n",
    "x = keras.layers.Conv2D(64, 3, activation='relu', padding='same')(x)\n",
    "block_7_output = tf.keras.layers.add([x, block_6_output])\n",
    "\n",
    "x = keras.layers.Conv2D(64, 3, activation='relu', padding='same')(block_7_output)\n",
    "x = BatchNormalization()(x)\n",
    "x = keras.layers.Conv2D(64, 3, activation='relu', padding='same')(x)\n",
    "block_8_output = tf.keras.layers.add([x, block_7_output])\n",
    "\n",
    "x = keras.layers.Conv2D(64, 3, activation='relu', padding='same')(block_8_output)\n",
    "x = BatchNormalization()(x)\n",
    "x = keras.layers.Conv2D(64, 3, activation='relu', padding='same')(x)\n",
    "block_9_output = tf.keras.layers.add([x, block_8_output])\n",
    "\n",
    "x = keras.layers.Conv2D(64, 3, activation='relu', padding='same')(block_9_output)\n",
    "x = BatchNormalization()(x)\n",
    "x = keras.layers.Conv2D(64, 3, activation='relu', padding='same')(x)\n",
    "block_10_output = tf.keras.layers.add([x, block_9_output])\n",
    "\n",
    "x = keras.layers.Conv2D(64, 3, activation='relu', padding='same')(block_10_output)\n",
    "x = BatchNormalization()(x)\n",
    "x = keras.layers.Conv2D(64, 3, activation='relu', padding='same')(x)\n",
    "block_11_output = tf.keras.layers.add([x, block_10_output])\n",
    "\n",
    "x = keras.layers.Conv2D(64, 3, activation='relu', padding='same')(block_11_output)\n",
    "x = BatchNormalization()(x)\n",
    "x = keras.layers.Conv2D(64, 3, activation='relu', padding='same')(x)\n",
    "block_12_output = tf.keras.layers.add([x, block_11_output])\n",
    "\n",
    "x = keras.layers.Conv2D(64, 3, activation='relu', padding='same')(block_12_output)\n",
    "x = BatchNormalization()(x)\n",
    "x = keras.layers.Conv2D(64, 3, activation='relu', padding='same')(x)\n",
    "block_13_output = tf.keras.layers.add([x, block_12_output])\n",
    "\n",
    "x = keras.layers.Conv2D(64, 3, activation='relu', padding='same')(block_13_output)\n",
    "x = BatchNormalization()(x)\n",
    "x = keras.layers.Conv2D(64, 3, activation='relu', padding='same')(x)\n",
    "block_14_output = tf.keras.layers.add([x, block_13_output])\n",
    "\n",
    "x = keras.layers.Conv2D(64, 3, activation='relu', padding='same')(block_14_output)\n",
    "x = BatchNormalization()(x)\n",
    "x = keras.layers.Conv2D(64, 3, activation='relu', padding='same')(x)\n",
    "block_15_output = tf.keras.layers.add([x, block_14_output])\n",
    "\n",
    "x = keras.layers.Conv2D(64, 3, activation='relu', padding='same')(block_15_output)\n",
    "x = BatchNormalization()(x)\n",
    "x = keras.layers.Conv2D(64, 3, activation='relu', padding='same')(x)\n",
    "block_16_output = tf.keras.layers.add([x, block_15_output])\n",
    "\n",
    "x = keras.layers.Conv2D(64, 3, activation='relu', padding='same')(block_16_output)\n",
    "x = BatchNormalization()(x)\n",
    "x = keras.layers.Conv2D(64, 3, activation='relu', padding='same')(x)\n",
    "block_17_output = tf.keras.layers.add([x, block_16_output])\n",
    "\n",
    "x = keras.layers.Conv2D(64, 3, activation='relu', padding='same')(block_17_output)\n",
    "x = BatchNormalization()(x)\n",
    "x = keras.layers.Conv2D(64, 3, activation='relu', padding='same')(x)\n",
    "block_18_output = tf.keras.layers.add([x, block_17_output])\n",
    "\n",
    "x = keras.layers.Conv2D(64, 3, activation='relu', padding='same')(block_18_output)\n",
    "x = BatchNormalization()(x)\n",
    "x = keras.layers.Conv2D(64, 3, activation='relu', padding='same')(x)\n",
    "block_19_output = tf.keras.layers.add([x, block_18_output])\n",
    "\n",
    "x = keras.layers.Conv2D(64, 3, activation='relu', padding='same')(block_19_output)\n",
    "x = BatchNormalization()(x)\n",
    "x = keras.layers.Conv2D(64, 3, activation='relu', padding='same')(x)\n",
    "block_20_output = tf.keras.layers.add([x, block_19_output])\n",
    "\n",
    "x = keras.layers.Conv2D(64, 3, activation='relu')(block_20_output)\n",
    "x = GlobalAveragePooling2D()(x)\n",
    "x = keras.layers.Dense(256, activation='relu')(x)\n",
    "x = keras.layers.Dropout(0.5)(x)\n",
    "outputs = keras.layers.Dense(10, activation='softmax')(x)\n",
    "\n",
    "model = tf.keras.Model(inputs, outputs, name='resnet')\n",
    "\n",
    "\n",
    "model.compile(Adam(amsgrad=True), 'binary_crossentropy', metrics=['accuracy'])\n",
    "\n",
    "early_stopping_cb = keras.callbacks.EarlyStopping(patience=10, restore_best_weights=True)\n",
    "model_detail = model.fit(x1_train, y1_train,\n",
    "                  batch_size=256,\n",
    "                  epochs=10,\n",
    "                  callbacks=[early_stopping_cb],\n",
    "                  shuffle=True,\n",
    "                  validation_split=0.2)\n",
    "\n",
    "#plot accuracies for each epoch\n",
    "history = pd.DataFrame(model_detail.history)\n",
    " \n",
    "history.plot(figsize=(10,5))\n",
    "plt.grid(True)\n",
    "plt.gca().set_ylim(0,1)\n",
    "plt.xlabel('Epochs')\n",
    "plt.title('CNN Cifar10 Residual Nets')\n",
    "plt.show()\n",
    "\n",
    "#After training the model, evaluate the test set\n",
    "model.evaluate(x1_test,y1_test)\n",
    "\n",
    "#Print the summary of the model\n",
    "model.summary()"
   ]
  },
  {
   "cell_type": "code",
   "execution_count": 11,
   "metadata": {},
   "outputs": [
    {
     "name": "stdout",
     "output_type": "stream",
     "text": [
      "Train on 40000 samples, validate on 10000 samples\n",
      "Epoch 1/10\n",
      "40000/40000 [==============================] - 238s 6ms/sample - loss: 0.0564 - accuracy: 0.9900 - val_loss: 0.0560 - val_accuracy: 0.9900\n",
      "Epoch 2/10\n",
      "40000/40000 [==============================] - 245s 6ms/sample - loss: 0.0554 - accuracy: 0.9900 - val_loss: 0.0569 - val_accuracy: 0.9900\n",
      "Epoch 3/10\n",
      "40000/40000 [==============================] - 250s 6ms/sample - loss: 0.0543 - accuracy: 0.9900 - val_loss: 0.0548 - val_accuracy: 0.9900\n",
      "Epoch 4/10\n",
      "40000/40000 [==============================] - 225s 6ms/sample - loss: 0.0530 - accuracy: 0.9900 - val_loss: 0.0686 - val_accuracy: 0.9900\n",
      "Epoch 5/10\n",
      "40000/40000 [==============================] - 220s 6ms/sample - loss: 0.0512 - accuracy: 0.9900 - val_loss: 0.0534 - val_accuracy: 0.9900\n",
      "Epoch 6/10\n",
      "40000/40000 [==============================] - 222s 6ms/sample - loss: 0.0498 - accuracy: 0.9900 - val_loss: 0.0504 - val_accuracy: 0.9900\n",
      "Epoch 7/10\n",
      "40000/40000 [==============================] - 224s 6ms/sample - loss: 0.0483 - accuracy: 0.9900 - val_loss: 0.0703 - val_accuracy: 0.9899\n",
      "Epoch 8/10\n",
      "40000/40000 [==============================] - 233s 6ms/sample - loss: 0.0466 - accuracy: 0.9900 - val_loss: 0.0516 - val_accuracy: 0.9900\n",
      "Epoch 9/10\n",
      "40000/40000 [==============================] - 307s 8ms/sample - loss: 0.0449 - accuracy: 0.9901 - val_loss: 0.0480 - val_accuracy: 0.9901\n",
      "Epoch 10/10\n",
      "40000/40000 [==============================] - 402s 10ms/sample - loss: 0.0435 - accuracy: 0.9902 - val_loss: 0.0524 - val_accuracy: 0.9900\n"
     ]
    },
    {
     "data": {
      "text/plain": [
       "<matplotlib.axes._subplots.AxesSubplot at 0x20c4d5edcc0>"
      ]
     },
     "execution_count": 11,
     "metadata": {},
     "output_type": "execute_result"
    },
    {
     "data": {
      "text/plain": [
       "(0, 1)"
      ]
     },
     "execution_count": 11,
     "metadata": {},
     "output_type": "execute_result"
    },
    {
     "data": {
      "text/plain": [
       "Text(0.5, 0, 'Epochs')"
      ]
     },
     "execution_count": 11,
     "metadata": {},
     "output_type": "execute_result"
    },
    {
     "data": {
      "text/plain": [
       "Text(0.5, 1.0, 'CNN Cifar100 Residual Nets')"
      ]
     },
     "execution_count": 11,
     "metadata": {},
     "output_type": "execute_result"
    },
    {
     "data": {
      "image/png": "[encoded data removed]",
      "text/plain": [
       "<Figure size 720x360 with 1 Axes>"
      ]
     },
     "metadata": {
      "needs_background": "light"
     },
     "output_type": "display_data"
    },
    {
     "name": "stdout",
     "output_type": "stream",
     "text": [
      "10000/10000 [==============================] - 24s 2ms/sample - loss: 0.0521 - accuracy: 0.9900\n"
     ]
    },
    {
     "data": {
      "text/plain": [
       "[0.05208659372329712, 0.99002254]"
      ]
     },
     "execution_count": 11,
     "metadata": {},
     "output_type": "execute_result"
    },
    {
     "name": "stdout",
     "output_type": "stream",
     "text": [
      "Model: \"resnet\"\n",
      "__________________________________________________________________________________________________\n",
      "Layer (type)                    Output Shape         Param #     Connected to                     \n",
      "==================================================================================================\n",
      "img (InputLayer)                [(None, 32, 32, 3)]  0                                            \n",
      "__________________________________________________________________________________________________\n",
      "conv2d_170 (Conv2D)             (None, 30, 30, 32)   896         img[0][0]                        \n",
      "__________________________________________________________________________________________________\n",
      "conv2d_171 (Conv2D)             (None, 28, 28, 64)   18496       conv2d_170[0][0]                 \n",
      "__________________________________________________________________________________________________\n",
      "max_pooling2d_5 (MaxPooling2D)  (None, 9, 9, 64)     0           conv2d_171[0][0]                 \n",
      "__________________________________________________________________________________________________\n",
      "conv2d_172 (Conv2D)             (None, 9, 9, 64)     36928       max_pooling2d_5[0][0]            \n",
      "__________________________________________________________________________________________________\n",
      "batch_normalization_77 (BatchNo (None, 9, 9, 64)     256         conv2d_172[0][0]                 \n",
      "__________________________________________________________________________________________________\n",
      "conv2d_173 (Conv2D)             (None, 9, 9, 64)     36928       batch_normalization_77[0][0]     \n",
      "__________________________________________________________________________________________________\n",
      "add_77 (Add)                    (None, 9, 9, 64)     0           conv2d_173[0][0]                 \n",
      "                                                                 max_pooling2d_5[0][0]            \n",
      "__________________________________________________________________________________________________\n",
      "conv2d_174 (Conv2D)             (None, 9, 9, 64)     36928       add_77[0][0]                     \n",
      "__________________________________________________________________________________________________\n",
      "batch_normalization_78 (BatchNo (None, 9, 9, 64)     256         conv2d_174[0][0]                 \n",
      "__________________________________________________________________________________________________\n",
      "conv2d_175 (Conv2D)             (None, 9, 9, 64)     36928       batch_normalization_78[0][0]     \n",
      "__________________________________________________________________________________________________\n",
      "add_78 (Add)                    (None, 9, 9, 64)     0           conv2d_175[0][0]                 \n",
      "                                                                 add_77[0][0]                     \n",
      "__________________________________________________________________________________________________\n",
      "conv2d_176 (Conv2D)             (None, 9, 9, 64)     36928       add_78[0][0]                     \n",
      "__________________________________________________________________________________________________\n",
      "batch_normalization_79 (BatchNo (None, 9, 9, 64)     256         conv2d_176[0][0]                 \n",
      "__________________________________________________________________________________________________\n",
      "conv2d_177 (Conv2D)             (None, 9, 9, 64)     36928       batch_normalization_79[0][0]     \n",
      "__________________________________________________________________________________________________\n",
      "add_79 (Add)                    (None, 9, 9, 64)     0           conv2d_177[0][0]                 \n",
      "                                                                 add_78[0][0]                     \n",
      "__________________________________________________________________________________________________\n",
      "conv2d_178 (Conv2D)             (None, 9, 9, 64)     36928       add_79[0][0]                     \n",
      "__________________________________________________________________________________________________\n",
      "batch_normalization_80 (BatchNo (None, 9, 9, 64)     256         conv2d_178[0][0]                 \n",
      "__________________________________________________________________________________________________\n",
      "conv2d_179 (Conv2D)             (None, 9, 9, 64)     36928       batch_normalization_80[0][0]     \n",
      "__________________________________________________________________________________________________\n",
      "add_80 (Add)                    (None, 9, 9, 64)     0           conv2d_179[0][0]                 \n",
      "                                                                 add_79[0][0]                     \n",
      "__________________________________________________________________________________________________\n",
      "conv2d_180 (Conv2D)             (None, 9, 9, 64)     36928       add_80[0][0]                     \n",
      "__________________________________________________________________________________________________\n",
      "batch_normalization_81 (BatchNo (None, 9, 9, 64)     256         conv2d_180[0][0]                 \n",
      "__________________________________________________________________________________________________\n",
      "conv2d_181 (Conv2D)             (None, 9, 9, 64)     36928       batch_normalization_81[0][0]     \n",
      "__________________________________________________________________________________________________\n",
      "add_81 (Add)                    (None, 9, 9, 64)     0           conv2d_181[0][0]                 \n",
      "                                                                 add_80[0][0]                     \n",
      "__________________________________________________________________________________________________\n",
      "conv2d_182 (Conv2D)             (None, 9, 9, 64)     36928       add_81[0][0]                     \n",
      "__________________________________________________________________________________________________\n",
      "batch_normalization_82 (BatchNo (None, 9, 9, 64)     256         conv2d_182[0][0]                 \n",
      "__________________________________________________________________________________________________\n",
      "conv2d_183 (Conv2D)             (None, 9, 9, 64)     36928       batch_normalization_82[0][0]     \n",
      "__________________________________________________________________________________________________\n",
      "add_82 (Add)                    (None, 9, 9, 64)     0           conv2d_183[0][0]                 \n",
      "                                                                 add_81[0][0]                     \n",
      "__________________________________________________________________________________________________\n",
      "conv2d_184 (Conv2D)             (None, 9, 9, 64)     36928       add_82[0][0]                     \n",
      "__________________________________________________________________________________________________\n",
      "batch_normalization_83 (BatchNo (None, 9, 9, 64)     256         conv2d_184[0][0]                 \n",
      "__________________________________________________________________________________________________\n",
      "conv2d_185 (Conv2D)             (None, 9, 9, 64)     36928       batch_normalization_83[0][0]     \n",
      "__________________________________________________________________________________________________\n",
      "add_83 (Add)                    (None, 9, 9, 64)     0           conv2d_185[0][0]                 \n",
      "                                                                 add_82[0][0]                     \n",
      "__________________________________________________________________________________________________\n",
      "conv2d_186 (Conv2D)             (None, 9, 9, 64)     36928       add_83[0][0]                     \n",
      "__________________________________________________________________________________________________\n",
      "batch_normalization_84 (BatchNo (None, 9, 9, 64)     256         conv2d_186[0][0]                 \n",
      "__________________________________________________________________________________________________\n",
      "conv2d_187 (Conv2D)             (None, 9, 9, 64)     36928       batch_normalization_84[0][0]     \n",
      "__________________________________________________________________________________________________\n",
      "add_84 (Add)                    (None, 9, 9, 64)     0           conv2d_187[0][0]                 \n",
      "                                                                 add_83[0][0]                     \n",
      "__________________________________________________________________________________________________\n",
      "conv2d_188 (Conv2D)             (None, 9, 9, 64)     36928       add_84[0][0]                     \n",
      "__________________________________________________________________________________________________\n",
      "batch_normalization_85 (BatchNo (None, 9, 9, 64)     256         conv2d_188[0][0]                 \n",
      "__________________________________________________________________________________________________\n",
      "conv2d_189 (Conv2D)             (None, 9, 9, 64)     36928       batch_normalization_85[0][0]     \n",
      "__________________________________________________________________________________________________\n",
      "add_85 (Add)                    (None, 9, 9, 64)     0           conv2d_189[0][0]                 \n",
      "                                                                 add_84[0][0]                     \n",
      "__________________________________________________________________________________________________\n",
      "conv2d_190 (Conv2D)             (None, 9, 9, 64)     36928       add_85[0][0]                     \n",
      "__________________________________________________________________________________________________\n",
      "batch_normalization_86 (BatchNo (None, 9, 9, 64)     256         conv2d_190[0][0]                 \n",
      "__________________________________________________________________________________________________\n",
      "conv2d_191 (Conv2D)             (None, 9, 9, 64)     36928       batch_normalization_86[0][0]     \n",
      "__________________________________________________________________________________________________\n",
      "add_86 (Add)                    (None, 9, 9, 64)     0           conv2d_191[0][0]                 \n",
      "                                                                 add_85[0][0]                     \n",
      "__________________________________________________________________________________________________\n",
      "conv2d_192 (Conv2D)             (None, 9, 9, 64)     36928       add_86[0][0]                     \n",
      "__________________________________________________________________________________________________\n",
      "batch_normalization_87 (BatchNo (None, 9, 9, 64)     256         conv2d_192[0][0]                 \n",
      "__________________________________________________________________________________________________\n",
      "conv2d_193 (Conv2D)             (None, 9, 9, 64)     36928       batch_normalization_87[0][0]     \n",
      "__________________________________________________________________________________________________\n",
      "add_87 (Add)                    (None, 9, 9, 64)     0           conv2d_193[0][0]                 \n",
      "                                                                 add_86[0][0]                     \n",
      "__________________________________________________________________________________________________\n",
      "conv2d_194 (Conv2D)             (None, 9, 9, 64)     36928       add_87[0][0]                     \n",
      "__________________________________________________________________________________________________\n",
      "batch_normalization_88 (BatchNo (None, 9, 9, 64)     256         conv2d_194[0][0]                 \n",
      "__________________________________________________________________________________________________\n",
      "conv2d_195 (Conv2D)             (None, 9, 9, 64)     36928       batch_normalization_88[0][0]     \n",
      "__________________________________________________________________________________________________\n",
      "add_88 (Add)                    (None, 9, 9, 64)     0           conv2d_195[0][0]                 \n",
      "                                                                 add_87[0][0]                     \n",
      "__________________________________________________________________________________________________\n",
      "conv2d_196 (Conv2D)             (None, 9, 9, 64)     36928       add_88[0][0]                     \n",
      "__________________________________________________________________________________________________\n",
      "batch_normalization_89 (BatchNo (None, 9, 9, 64)     256         conv2d_196[0][0]                 \n",
      "__________________________________________________________________________________________________\n",
      "conv2d_197 (Conv2D)             (None, 9, 9, 64)     36928       batch_normalization_89[0][0]     \n",
      "__________________________________________________________________________________________________\n",
      "add_89 (Add)                    (None, 9, 9, 64)     0           conv2d_197[0][0]                 \n",
      "                                                                 add_88[0][0]                     \n",
      "__________________________________________________________________________________________________\n",
      "conv2d_198 (Conv2D)             (None, 9, 9, 64)     36928       add_89[0][0]                     \n",
      "__________________________________________________________________________________________________\n",
      "batch_normalization_90 (BatchNo (None, 9, 9, 64)     256         conv2d_198[0][0]                 \n",
      "__________________________________________________________________________________________________\n",
      "conv2d_199 (Conv2D)             (None, 9, 9, 64)     36928       batch_normalization_90[0][0]     \n",
      "__________________________________________________________________________________________________\n",
      "add_90 (Add)                    (None, 9, 9, 64)     0           conv2d_199[0][0]                 \n",
      "                                                                 add_89[0][0]                     \n",
      "__________________________________________________________________________________________________\n",
      "conv2d_200 (Conv2D)             (None, 9, 9, 64)     36928       add_90[0][0]                     \n",
      "__________________________________________________________________________________________________\n",
      "batch_normalization_91 (BatchNo (None, 9, 9, 64)     256         conv2d_200[0][0]                 \n",
      "__________________________________________________________________________________________________\n",
      "conv2d_201 (Conv2D)             (None, 9, 9, 64)     36928       batch_normalization_91[0][0]     \n",
      "__________________________________________________________________________________________________\n",
      "add_91 (Add)                    (None, 9, 9, 64)     0           conv2d_201[0][0]                 \n",
      "                                                                 add_90[0][0]                     \n",
      "__________________________________________________________________________________________________\n",
      "conv2d_202 (Conv2D)             (None, 9, 9, 64)     36928       add_91[0][0]                     \n",
      "__________________________________________________________________________________________________\n",
      "batch_normalization_92 (BatchNo (None, 9, 9, 64)     256         conv2d_202[0][0]                 \n",
      "__________________________________________________________________________________________________\n",
      "conv2d_203 (Conv2D)             (None, 9, 9, 64)     36928       batch_normalization_92[0][0]     \n",
      "__________________________________________________________________________________________________\n",
      "add_92 (Add)                    (None, 9, 9, 64)     0           conv2d_203[0][0]                 \n",
      "                                                                 add_91[0][0]                     \n",
      "__________________________________________________________________________________________________\n",
      "conv2d_204 (Conv2D)             (None, 9, 9, 64)     36928       add_92[0][0]                     \n",
      "__________________________________________________________________________________________________\n",
      "batch_normalization_93 (BatchNo (None, 9, 9, 64)     256         conv2d_204[0][0]                 \n",
      "__________________________________________________________________________________________________\n",
      "conv2d_205 (Conv2D)             (None, 9, 9, 64)     36928       batch_normalization_93[0][0]     \n",
      "__________________________________________________________________________________________________\n",
      "add_93 (Add)                    (None, 9, 9, 64)     0           conv2d_205[0][0]                 \n",
      "                                                                 add_92[0][0]                     \n",
      "__________________________________________________________________________________________________\n",
      "conv2d_206 (Conv2D)             (None, 9, 9, 64)     36928       add_93[0][0]                     \n",
      "__________________________________________________________________________________________________\n",
      "batch_normalization_94 (BatchNo (None, 9, 9, 64)     256         conv2d_206[0][0]                 \n",
      "__________________________________________________________________________________________________\n",
      "conv2d_207 (Conv2D)             (None, 9, 9, 64)     36928       batch_normalization_94[0][0]     \n",
      "__________________________________________________________________________________________________\n",
      "add_94 (Add)                    (None, 9, 9, 64)     0           conv2d_207[0][0]                 \n",
      "                                                                 add_93[0][0]                     \n",
      "__________________________________________________________________________________________________\n",
      "conv2d_208 (Conv2D)             (None, 9, 9, 64)     36928       add_94[0][0]                     \n",
      "__________________________________________________________________________________________________\n",
      "batch_normalization_95 (BatchNo (None, 9, 9, 64)     256         conv2d_208[0][0]                 \n",
      "__________________________________________________________________________________________________\n",
      "conv2d_209 (Conv2D)             (None, 9, 9, 64)     36928       batch_normalization_95[0][0]     \n",
      "__________________________________________________________________________________________________\n",
      "add_95 (Add)                    (None, 9, 9, 64)     0           conv2d_209[0][0]                 \n",
      "                                                                 add_94[0][0]                     \n",
      "__________________________________________________________________________________________________\n",
      "conv2d_210 (Conv2D)             (None, 7, 7, 64)     36928       add_95[0][0]                     \n",
      "__________________________________________________________________________________________________\n",
      "global_average_pooling2d_4 (Glo (None, 64)           0           conv2d_210[0][0]                 \n",
      "__________________________________________________________________________________________________\n",
      "dense_5 (Dense)                 (None, 256)          16640       global_average_pooling2d_4[0][0] \n",
      "__________________________________________________________________________________________________\n",
      "dropout_2 (Dropout)             (None, 256)          0           dense_5[0][0]                    \n",
      "__________________________________________________________________________________________________\n",
      "dense_6 (Dense)                 (None, 100)          25700       dropout_2[0][0]                  \n",
      "==================================================================================================\n",
      "Total params: 1,506,788\n",
      "Trainable params: 1,504,356\n",
      "Non-trainable params: 2,432\n",
      "__________________________________________________________________________________________________\n"
     ]
    }
   ],
   "source": [
    "# Create the CIFAR-100 CNN ResNet.\n",
    "inputs = tf.keras.Input(shape=(32, 32, 3), name='img')\n",
    "x = keras.layers.Conv2D(32, 3, activation='relu')(inputs)\n",
    "x = keras.layers.Conv2D(64, 3, activation='relu')(x)\n",
    "block_1_output = keras.layers.MaxPooling2D(3)(x)\n",
    "\n",
    "x = keras.layers.Conv2D(64, 3, activation='relu', padding='same')(block_1_output)\n",
    "x = BatchNormalization()(x)\n",
    "x = keras.layers.Conv2D(64, 3, activation='relu', padding='same')(x)\n",
    "block_2_output = tf.keras.layers.add([x, block_1_output])\n",
    "\n",
    "x = keras.layers.Conv2D(64, 3, activation='relu', padding='same')(block_2_output)\n",
    "x = BatchNormalization()(x)\n",
    "x = keras.layers.Conv2D(64, 3, activation='relu', padding='same')(x)\n",
    "block_3_output = tf.keras.layers.add([x, block_2_output])\n",
    "\n",
    "x = keras.layers.Conv2D(64, 3, activation='relu', padding='same')(block_3_output)\n",
    "x = BatchNormalization()(x)\n",
    "x = keras.layers.Conv2D(64, 3, activation='relu', padding='same')(x)\n",
    "block_4_output = tf.keras.layers.add([x, block_3_output])\n",
    "\n",
    "x = keras.layers.Conv2D(64, 3, activation='relu', padding='same')(block_4_output)\n",
    "x = BatchNormalization()(x)\n",
    "x = keras.layers.Conv2D(64, 3, activation='relu', padding='same')(x)\n",
    "block_5_output = tf.keras.layers.add([x, block_4_output])\n",
    "\n",
    "x = keras.layers.Conv2D(64, 3, activation='relu', padding='same')(block_5_output)\n",
    "x = BatchNormalization()(x)\n",
    "x = keras.layers.Conv2D(64, 3, activation='relu', padding='same')(x)\n",
    "block_6_output = tf.keras.layers.add([x, block_5_output])\n",
    "\n",
    "x = keras.layers.Conv2D(64, 3, activation='relu', padding='same')(block_6_output)\n",
    "x = BatchNormalization()(x)\n",
    "x = keras.layers.Conv2D(64, 3, activation='relu', padding='same')(x)\n",
    "block_7_output = tf.keras.layers.add([x, block_6_output])\n",
    "\n",
    "x = keras.layers.Conv2D(64, 3, activation='relu', padding='same')(block_7_output)\n",
    "x = BatchNormalization()(x)\n",
    "x = keras.layers.Conv2D(64, 3, activation='relu', padding='same')(x)\n",
    "block_8_output = tf.keras.layers.add([x, block_7_output])\n",
    "\n",
    "x = keras.layers.Conv2D(64, 3, activation='relu', padding='same')(block_8_output)\n",
    "x = BatchNormalization()(x)\n",
    "x = keras.layers.Conv2D(64, 3, activation='relu', padding='same')(x)\n",
    "block_9_output = tf.keras.layers.add([x, block_8_output])\n",
    "\n",
    "x = keras.layers.Conv2D(64, 3, activation='relu', padding='same')(block_9_output)\n",
    "x = BatchNormalization()(x)\n",
    "x = keras.layers.Conv2D(64, 3, activation='relu', padding='same')(x)\n",
    "block_10_output = tf.keras.layers.add([x, block_9_output])\n",
    "\n",
    "x = keras.layers.Conv2D(64, 3, activation='relu', padding='same')(block_10_output)\n",
    "x = BatchNormalization()(x)\n",
    "x = keras.layers.Conv2D(64, 3, activation='relu', padding='same')(x)\n",
    "block_11_output = tf.keras.layers.add([x, block_10_output])\n",
    "\n",
    "x = keras.layers.Conv2D(64, 3, activation='relu', padding='same')(block_11_output)\n",
    "x = BatchNormalization()(x)\n",
    "x = keras.layers.Conv2D(64, 3, activation='relu', padding='same')(x)\n",
    "block_12_output = tf.keras.layers.add([x, block_11_output])\n",
    "\n",
    "x = keras.layers.Conv2D(64, 3, activation='relu', padding='same')(block_12_output)\n",
    "x = BatchNormalization()(x)\n",
    "x = keras.layers.Conv2D(64, 3, activation='relu', padding='same')(x)\n",
    "block_13_output = tf.keras.layers.add([x, block_12_output])\n",
    "\n",
    "x = keras.layers.Conv2D(64, 3, activation='relu', padding='same')(block_13_output)\n",
    "x = BatchNormalization()(x)\n",
    "x = keras.layers.Conv2D(64, 3, activation='relu', padding='same')(x)\n",
    "block_14_output = tf.keras.layers.add([x, block_13_output])\n",
    "\n",
    "x = keras.layers.Conv2D(64, 3, activation='relu', padding='same')(block_14_output)\n",
    "x = BatchNormalization()(x)\n",
    "x = keras.layers.Conv2D(64, 3, activation='relu', padding='same')(x)\n",
    "block_15_output = tf.keras.layers.add([x, block_14_output])\n",
    "\n",
    "x = keras.layers.Conv2D(64, 3, activation='relu', padding='same')(block_15_output)\n",
    "x = BatchNormalization()(x)\n",
    "x = keras.layers.Conv2D(64, 3, activation='relu', padding='same')(x)\n",
    "block_16_output = tf.keras.layers.add([x, block_15_output])\n",
    "\n",
    "x = keras.layers.Conv2D(64, 3, activation='relu', padding='same')(block_16_output)\n",
    "x = BatchNormalization()(x)\n",
    "x = keras.layers.Conv2D(64, 3, activation='relu', padding='same')(x)\n",
    "block_17_output = tf.keras.layers.add([x, block_16_output])\n",
    "\n",
    "x = keras.layers.Conv2D(64, 3, activation='relu', padding='same')(block_17_output)\n",
    "x = BatchNormalization()(x)\n",
    "x = keras.layers.Conv2D(64, 3, activation='relu', padding='same')(x)\n",
    "block_18_output = tf.keras.layers.add([x, block_17_output])\n",
    "\n",
    "x = keras.layers.Conv2D(64, 3, activation='relu', padding='same')(block_18_output)\n",
    "x = BatchNormalization()(x)\n",
    "x = keras.layers.Conv2D(64, 3, activation='relu', padding='same')(x)\n",
    "block_19_output = tf.keras.layers.add([x, block_18_output])\n",
    "\n",
    "x = keras.layers.Conv2D(64, 3, activation='relu', padding='same')(block_19_output)\n",
    "x = BatchNormalization()(x)\n",
    "x = keras.layers.Conv2D(64, 3, activation='relu', padding='same')(x)\n",
    "block_20_output = tf.keras.layers.add([x, block_19_output])\n",
    "\n",
    "x = keras.layers.Conv2D(64, 3, activation='relu')(block_20_output)\n",
    "x = GlobalAveragePooling2D()(x)\n",
    "x = keras.layers.Dense(256, activation='relu')(x)\n",
    "x = keras.layers.Dropout(0.5)(x)\n",
    "outputs = keras.layers.Dense(100, activation='softmax')(x)\n",
    "\n",
    "model = tf.keras.Model(inputs, outputs, name='resnet')\n",
    "\n",
    "\n",
    "model.compile(Adam(amsgrad=True), 'binary_crossentropy', metrics=['accuracy'])\n",
    "\n",
    "early_stopping_cb = keras.callbacks.EarlyStopping(patience=10, restore_best_weights=True)\n",
    "model_detail = model.fit(x2_train, y2_train,\n",
    "                  batch_size=256,\n",
    "                  epochs=10,\n",
    "                  callbacks=[early_stopping_cb],\n",
    "                  shuffle=True,\n",
    "                  validation_split=0.2)\n",
    "\n",
    "#plot accuracies for each epoch\n",
    "history = pd.DataFrame(model_detail.history)\n",
    " \n",
    "history.plot(figsize=(10,5))\n",
    "plt.grid(True)\n",
    "plt.gca().set_ylim(0,1)\n",
    "plt.xlabel('Epochs')\n",
    "plt.title('CNN Cifar100 Residual Nets')\n",
    "plt.show()\n",
    "\n",
    "#After training the model, evaluate the test set\n",
    "model.evaluate(x2_test,y2_test)\n",
    "\n",
    "#Print the summary of the model\n",
    "model.summary()"
   ]
  },
  {
   "cell_type": "code",
   "execution_count": null,
   "metadata": {},
   "outputs": [],
   "source": [
    "# Create your own CNN that rivals a CNN ResNet for CIFAR-100.\n"
   ]
  }
 ],
 "metadata": {
  "kernelspec": {
   "display_name": "Python 3",
   "language": "python",
   "name": "python3"
  },
  "language_info": {
   "codemirror_mode": {
    "name": "ipython",
    "version": 3
   },
   "file_extension": ".py",
   "mimetype": "text/x-python",
   "name": "python",
   "nbconvert_exporter": "python",
   "pygments_lexer": "ipython3",
   "version": "3.6.10"
  }
 },
 "nbformat": 4,
 "nbformat_minor": 4
}
