{
 "cells": [
  {
   "cell_type": "markdown",
   "metadata": {},
   "source": [
    "# 1. Import the MNIST Dataset."
   ]
  },
  {
   "cell_type": "code",
   "execution_count": 1,
   "metadata": {},
   "outputs": [],
   "source": [
    "import tensorflow as tf\n",
    "import matplotlib.pyplot as plt\n",
    "\n",
    "mnist = tf.keras.datasets.mnist\n",
    "(x_train, y_train),(x_test, y_test) = mnist.load_data()"
   ]
  },
  {
   "cell_type": "markdown",
   "metadata": {},
   "source": [
    "# 2. MNIST Dataset"
   ]
  },
  {
   "cell_type": "code",
   "execution_count": 2,
   "metadata": {},
   "outputs": [
    {
     "data": {
      "image/png": "[encoded data removed]",
      "text/plain": [
       "<Figure size 432x288 with 1 Axes>"
      ]
     },
     "metadata": {
      "needs_background": "light"
     },
     "output_type": "display_data"
    }
   ],
   "source": [
    "plt.imshow(x_train[0])\n",
    "plt.show()"
   ]
  },
  {
   "cell_type": "code",
   "execution_count": 3,
   "metadata": {},
   "outputs": [
    {
     "data": {
      "image/png": "[encoded data removed]",
      "text/plain": [
       "<Figure size 432x288 with 1 Axes>"
      ]
     },
     "metadata": {
      "needs_background": "light"
     },
     "output_type": "display_data"
    }
   ],
   "source": [
    "plt.imshow(x_train[0], cmap = plt.cm.binary)\n",
    "plt.show()"
   ]
  },
  {
   "cell_type": "markdown",
   "metadata": {},
   "source": [
    "# 3. Sequential Model - Normalize"
   ]
  },
  {
   "cell_type": "code",
   "execution_count": 4,
   "metadata": {},
   "outputs": [],
   "source": [
    "x_train = tf.keras.utils.normalize(x_train, axis=1)\n",
    "x_test = tf.keras.utils.normalize(x_test, axis=1)"
   ]
  },
  {
   "cell_type": "code",
   "execution_count": 5,
   "metadata": {},
   "outputs": [
    {
     "data": {
      "image/png": "[encoded data removed]",
      "text/plain": [
       "<Figure size 432x288 with 1 Axes>"
      ]
     },
     "metadata": {
      "needs_background": "light"
     },
     "output_type": "display_data"
    }
   ],
   "source": [
    "plt.imshow(x_train[0], cmap = plt.cm.binary)\n",
    "plt.show()"
   ]
  },
  {
   "cell_type": "markdown",
   "metadata": {},
   "source": [
    "# 3. Input (32,32,10), SGD, batch_size=64, epochs=20"
   ]
  },
  {
   "cell_type": "code",
   "execution_count": 6,
   "metadata": {},
   "outputs": [
    {
     "name": "stderr",
     "output_type": "stream",
     "text": [
      "Using TensorFlow backend.\n"
     ]
    },
    {
     "name": "stdout",
     "output_type": "stream",
     "text": [
      "Train on 60000 samples\n",
      "Epoch 1/20\n",
      "60000/60000 [==============================] - 2s 38us/sample - loss: 1.9000 - accuracy: 0.4426\n",
      "Epoch 2/20\n",
      "60000/60000 [==============================] - 2s 39us/sample - loss: 0.7792 - accuracy: 0.8102\n",
      "Epoch 3/20\n",
      "60000/60000 [==============================] - 2s 39us/sample - loss: 0.4797 - accuracy: 0.8666\n",
      "Epoch 4/20\n",
      "60000/60000 [==============================] - 2s 33us/sample - loss: 0.4026 - accuracy: 0.8852s\n",
      "Epoch 5/20\n",
      "60000/60000 [==============================] - 2s 37us/sample - loss: 0.3654 - accuracy: 0.8951\n",
      "Epoch 6/20\n",
      "60000/60000 [==============================] - 2s 40us/sample - loss: 0.3414 - accuracy: 0.9019\n",
      "Epoch 7/20\n",
      "60000/60000 [==============================] - 2s 40us/sample - loss: 0.3239 - accuracy: 0.9073\n",
      "Epoch 8/20\n",
      "60000/60000 [==============================] - 2s 36us/sample - loss: 0.3103 - accuracy: 0.9110\n",
      "Epoch 9/20\n",
      "60000/60000 [==============================] - 2s 37us/sample - loss: 0.2988 - accuracy: 0.9146\n",
      "Epoch 10/20\n",
      "60000/60000 [==============================] - 2s 41us/sample - loss: 0.2887 - accuracy: 0.9170\n",
      "Epoch 11/20\n",
      "60000/60000 [==============================] - 2s 30us/sample - loss: 0.2799 - accuracy: 0.9194s - loss: 0.2800 - accuracy\n",
      "Epoch 12/20\n",
      "60000/60000 [==============================] - 3s 45us/sample - loss: 0.2716 - accuracy: 0.9221\n",
      "Epoch 13/20\n",
      "60000/60000 [==============================] - 2s 41us/sample - loss: 0.2639 - accuracy: 0.9243\n",
      "Epoch 14/20\n",
      "60000/60000 [==============================] - 2s 41us/sample - loss: 0.2566 - accuracy: 0.9263\n",
      "Epoch 15/20\n",
      "60000/60000 [==============================] - 2s 41us/sample - loss: 0.2497 - accuracy: 0.9289\n",
      "Epoch 16/20\n",
      "60000/60000 [==============================] - 3s 52us/sample - loss: 0.2430 - accuracy: 0.9305\n",
      "Epoch 17/20\n",
      "60000/60000 [==============================] - 3s 58us/sample - loss: 0.2368 - accuracy: 0.9326\n",
      "Epoch 18/20\n",
      "60000/60000 [==============================] - 3s 51us/sample - loss: 0.2304 - accuracy: 0.9343\n",
      "Epoch 19/20\n",
      "60000/60000 [==============================] - 4s 70us/sample - loss: 0.2250 - accuracy: 0.9353\n",
      "Epoch 20/20\n",
      "60000/60000 [==============================] - 4s 70us/sample - loss: 0.2194 - accuracy: 0.9373\n"
     ]
    },
    {
     "data": {
      "text/plain": [
       "<tensorflow.python.keras.callbacks.History at 0x1bc2e27a4e0>"
      ]
     },
     "execution_count": 6,
     "metadata": {},
     "output_type": "execute_result"
    }
   ],
   "source": [
    "model = tf.keras.models.Sequential()\n",
    "model.add(tf.keras.layers.Flatten())\n",
    "model.add(tf.keras.layers.Dense(32, activation=tf.nn.relu))\n",
    "model.add(tf.keras.layers.Dense(32, activation=tf.nn.relu))\n",
    "model.add(tf.keras.layers.Dense(10, activation=tf.nn.softmax))\n",
    "\n",
    "from keras import optimizers\n",
    "\n",
    "sgd = optimizers.SGD()\n",
    "model.compile(optimizer='sgd', loss='sparse_categorical_crossentropy', metrics=['accuracy'])\n",
    "model.fit(x_train, y_train, batch_size=64, epochs=20)"
   ]
  },
  {
   "cell_type": "code",
   "execution_count": 8,
   "metadata": {},
   "outputs": [
    {
     "name": "stdout",
     "output_type": "stream",
     "text": [
      "10000/10000 [==============================] - 0s 24us/sample - loss: 0.2165 - accuracy: 0.9370\n",
      "Validation Accuracy: 0.937\n"
     ]
    }
   ],
   "source": [
    "val_loss, val_acc = model.evaluate(x_test, y_test)\n",
    "print(\"Validation Accuracy: \"+str(val_acc))"
   ]
  },
  {
   "cell_type": "code",
   "execution_count": 9,
   "metadata": {},
   "outputs": [],
   "source": [
    "predictions = model.predict([x_test])"
   ]
  },
  {
   "cell_type": "code",
   "execution_count": 10,
   "metadata": {},
   "outputs": [
    {
     "name": "stdout",
     "output_type": "stream",
     "text": [
      "[[9.73212627e-06 1.25599300e-07 7.07117666e-04 ... 9.96481419e-01\n",
      "  1.16260060e-06 7.62079144e-05]\n",
      " [2.83717585e-04 4.52270004e-04 9.86150086e-01 ... 3.65136671e-10\n",
      "  2.43056129e-04 2.51890973e-11]\n",
      " [1.91952381e-07 9.97459948e-01 5.42321417e-04 ... 2.19743670e-04\n",
      "  9.73697461e-04 3.27786875e-05]\n",
      " ...\n",
      " [6.48240857e-08 1.88459962e-05 1.00796215e-05 ... 4.77399357e-04\n",
      "  3.79088498e-03 1.18911592e-02]\n",
      " [2.07536141e-04 4.87227917e-05 1.03505408e-06 ... 4.84856002e-07\n",
      "  4.64795753e-02 3.91939602e-06]\n",
      " [2.69137614e-04 1.29105308e-06 3.55077558e-03 ... 3.66304000e-08\n",
      "  4.97732981e-05 9.02434323e-08]]\n"
     ]
    }
   ],
   "source": [
    "print(predictions)"
   ]
  },
  {
   "cell_type": "code",
   "execution_count": 11,
   "metadata": {},
   "outputs": [
    {
     "name": "stdout",
     "output_type": "stream",
     "text": [
      "7\n"
     ]
    }
   ],
   "source": [
    "import numpy as np\n",
    "\n",
    "print(np.argmax([predictions[0]]))"
   ]
  },
  {
   "cell_type": "code",
   "execution_count": 12,
   "metadata": {},
   "outputs": [
    {
     "data": {
      "image/png": "[encoded data removed]",
      "text/plain": [
       "<Figure size 432x288 with 1 Axes>"
      ]
     },
     "metadata": {
      "needs_background": "light"
     },
     "output_type": "display_data"
    }
   ],
   "source": [
    "plt.imshow(x_test[0])\n",
    "plt.show()"
   ]
  },
  {
   "cell_type": "markdown",
   "metadata": {},
   "source": [
    "# 4. Output(64,64,10)"
   ]
  },
  {
   "cell_type": "markdown",
   "metadata": {},
   "source": [
    "When the number of nuerons are increased, the time taken to train the model increases. The accuracy here didn't change significantly."
   ]
  },
  {
   "cell_type": "code",
   "execution_count": 13,
   "metadata": {},
   "outputs": [
    {
     "name": "stdout",
     "output_type": "stream",
     "text": [
      "Train on 60000 samples\n",
      "Epoch 1/20\n",
      "60000/60000 [==============================] - 1s 23us/sample - loss: 1.6257 - accuracy: 0.5661\n",
      "Epoch 2/20\n",
      "60000/60000 [==============================] - 1s 19us/sample - loss: 0.6221 - accuracy: 0.8383\n",
      "Epoch 3/20\n",
      "60000/60000 [==============================] - 1s 19us/sample - loss: 0.4409 - accuracy: 0.8773\n",
      "Epoch 4/20\n",
      "60000/60000 [==============================] - 1s 19us/sample - loss: 0.3764 - accuracy: 0.8932\n",
      "Epoch 5/20\n",
      "60000/60000 [==============================] - 1s 24us/sample - loss: 0.3415 - accuracy: 0.9025\n",
      "Epoch 6/20\n",
      "60000/60000 [==============================] - 2s 25us/sample - loss: 0.3184 - accuracy: 0.9088\n",
      "Epoch 7/20\n",
      "60000/60000 [==============================] - 2s 26us/sample - loss: 0.3005 - accuracy: 0.9134s - loss: 0.3007 - accuracy\n",
      "Epoch 8/20\n",
      "60000/60000 [==============================] - 2s 26us/sample - loss: 0.2858 - accuracy: 0.9178s - loss:\n",
      "Epoch 9/20\n",
      "60000/60000 [==============================] - 2s 26us/sample - loss: 0.2734 - accuracy: 0.9217\n",
      "Epoch 10/20\n",
      "60000/60000 [==============================] - 2s 27us/sample - loss: 0.2623 - accuracy: 0.9253\n",
      "Epoch 11/20\n",
      "60000/60000 [==============================] - 2s 27us/sample - loss: 0.2523 - accuracy: 0.9283\n",
      "Epoch 12/20\n",
      "60000/60000 [==============================] - 2s 25us/sample - loss: 0.2429 - accuracy: 0.9310\n",
      "Epoch 13/20\n",
      "60000/60000 [==============================] - 1s 25us/sample - loss: 0.2344 - accuracy: 0.9328\n",
      "Epoch 14/20\n",
      "60000/60000 [==============================] - 2s 25us/sample - loss: 0.2267 - accuracy: 0.9350\n",
      "Epoch 15/20\n",
      "60000/60000 [==============================] - 2s 26us/sample - loss: 0.2195 - accuracy: 0.9371\n",
      "Epoch 16/20\n",
      "60000/60000 [==============================] - 2s 25us/sample - loss: 0.2127 - accuracy: 0.9390\n",
      "Epoch 17/20\n",
      "60000/60000 [==============================] - 2s 26us/sample - loss: 0.2067 - accuracy: 0.9407\n",
      "Epoch 18/20\n",
      "60000/60000 [==============================] - 2s 25us/sample - loss: 0.2008 - accuracy: 0.9427\n",
      "Epoch 19/20\n",
      "60000/60000 [==============================] - 2s 25us/sample - loss: 0.1956 - accuracy: 0.9439\n",
      "Epoch 20/20\n",
      "60000/60000 [==============================] - 2s 26us/sample - loss: 0.1903 - accuracy: 0.9456\n",
      "10000/10000 [==============================] - 0s 47us/sample - loss: 0.1958 - accuracy: 0.9425\n",
      "Validation Accuracy: 0.9425\n"
     ]
    }
   ],
   "source": [
    "model = tf.keras.models.Sequential()\n",
    "model.add(tf.keras.layers.Flatten())\n",
    "model.add(tf.keras.layers.Dense(64, activation=tf.nn.relu))\n",
    "model.add(tf.keras.layers.Dense(64, activation=tf.nn.relu))\n",
    "model.add(tf.keras.layers.Dense(10, activation=tf.nn.softmax))\n",
    "\n",
    "from keras import optimizers\n",
    "\n",
    "sgd = optimizers.SGD()\n",
    "model.compile(optimizer='sgd', loss='sparse_categorical_crossentropy', metrics=['accuracy'])\n",
    "model.fit(x_train, y_train, batch_size=64, epochs=20)\n",
    "\n",
    "val_loss, val_acc = model.evaluate(x_test, y_test)\n",
    "print(\"Validation Accuracy: \"+str(val_acc))"
   ]
  },
  {
   "cell_type": "markdown",
   "metadata": {},
   "source": [
    "# 5.Output(32,32,10), SGD(lr=0.01, decay_rate=0.000001, momentum_rate=0.9)"
   ]
  },
  {
   "cell_type": "code",
   "execution_count": 14,
   "metadata": {},
   "outputs": [
    {
     "name": "stdout",
     "output_type": "stream",
     "text": [
      "Train on 60000 samples\n",
      "Epoch 1/20\n",
      "60000/60000 [==============================] - 1s 20us/sample - loss: 1.9127 - accuracy: 0.4407\n",
      "Epoch 2/20\n",
      "60000/60000 [==============================] - 1s 18us/sample - loss: 0.8043 - accuracy: 0.8040\n",
      "Epoch 3/20\n",
      "60000/60000 [==============================] - 1s 18us/sample - loss: 0.4888 - accuracy: 0.8673\n",
      "Epoch 4/20\n",
      "60000/60000 [==============================] - 1s 18us/sample - loss: 0.4034 - accuracy: 0.8861s -\n",
      "Epoch 5/20\n",
      "60000/60000 [==============================] - 1s 18us/sample - loss: 0.3644 - accuracy: 0.8964\n",
      "Epoch 6/20\n",
      "60000/60000 [==============================] - 1s 18us/sample - loss: 0.3402 - accuracy: 0.9020\n",
      "Epoch 7/20\n",
      "60000/60000 [==============================] - 1s 21us/sample - loss: 0.3226 - accuracy: 0.9068\n",
      "Epoch 8/20\n",
      "60000/60000 [==============================] - 1s 23us/sample - loss: 0.3085 - accuracy: 0.9107s - loss: 0.3098 - accuracy\n",
      "Epoch 9/20\n",
      "60000/60000 [==============================] - 1s 23us/sample - loss: 0.2966 - accuracy: 0.9141\n",
      "Epoch 10/20\n",
      "60000/60000 [==============================] - 1s 23us/sample - loss: 0.2857 - accuracy: 0.9172\n",
      "Epoch 11/20\n",
      "60000/60000 [==============================] - 1s 23us/sample - loss: 0.2759 - accuracy: 0.9204\n",
      "Epoch 12/20\n",
      "60000/60000 [==============================] - 1s 23us/sample - loss: 0.2668 - accuracy: 0.9236s - loss: 0.2531 - accuracy - ETA: \n",
      "Epoch 13/20\n",
      "60000/60000 [==============================] - 1s 23us/sample - loss: 0.2587 - accuracy: 0.9252\n",
      "Epoch 14/20\n",
      "60000/60000 [==============================] - 1s 24us/sample - loss: 0.2511 - accuracy: 0.9280\n",
      "Epoch 15/20\n",
      "60000/60000 [==============================] - 1s 25us/sample - loss: 0.2439 - accuracy: 0.9300\n",
      "Epoch 16/20\n",
      "60000/60000 [==============================] - 1s 23us/sample - loss: 0.2374 - accuracy: 0.9318\n",
      "Epoch 17/20\n",
      "60000/60000 [==============================] - 1s 23us/sample - loss: 0.2313 - accuracy: 0.9335s - loss:\n",
      "Epoch 18/20\n",
      "60000/60000 [==============================] - 1s 23us/sample - loss: 0.2256 - accuracy: 0.9357\n",
      "Epoch 19/20\n",
      "60000/60000 [==============================] - 1s 23us/sample - loss: 0.2200 - accuracy: 0.9374\n",
      "Epoch 20/20\n",
      "60000/60000 [==============================] - 1s 23us/sample - loss: 0.2151 - accuracy: 0.9390\n",
      "10000/10000 [==============================] - 0s 33us/sample - loss: 0.2154 - accuracy: 0.9354\n",
      "Validation Accuracy: 0.9354\n"
     ]
    }
   ],
   "source": [
    "model = tf.keras.models.Sequential()\n",
    "model.add(tf.keras.layers.Flatten())\n",
    "model.add(tf.keras.layers.Dense(32, activation=tf.nn.relu))\n",
    "model.add(tf.keras.layers.Dense(32, activation=tf.nn.relu))\n",
    "model.add(tf.keras.layers.Dense(10, activation=tf.nn.softmax))\n",
    "\n",
    "from keras import optimizers\n",
    "\n",
    "sgd = optimizers.SGD(lr=0.01, decay=0.000001, momentum=0.9)\n",
    "model.compile(optimizer='sgd', loss='sparse_categorical_crossentropy', metrics=['accuracy'])\n",
    "model.fit(x_train, y_train, batch_size=64, epochs=20)\n",
    "\n",
    "val_loss, val_acc = model.evaluate(x_test, y_test)\n",
    "print(\"Validation Accuracy: \"+str(val_acc))"
   ]
  },
  {
   "cell_type": "markdown",
   "metadata": {},
   "source": [
    "#Momentum is used for converging in the models. In our case, even if we use the momentum for faster convergence of gradients, there is no change in the accuracy. It is almost the same even without using it."
   ]
  },
  {
   "cell_type": "markdown",
   "metadata": {},
   "source": [
    "# 6. Input(32,32,10), batch_size=128 and Input(32,32,10), batch_size=32"
   ]
  },
  {
   "cell_type": "code",
   "execution_count": 15,
   "metadata": {},
   "outputs": [
    {
     "name": "stdout",
     "output_type": "stream",
     "text": [
      "Train on 60000 samples\n",
      "Epoch 1/20\n",
      "60000/60000 [==============================] - 1s 13us/sample - loss: 2.1416 - accuracy: 0.2872\n",
      "Epoch 2/20\n",
      "60000/60000 [==============================] - 1s 11us/sample - loss: 1.4786 - accuracy: 0.6686\n",
      "Epoch 3/20\n",
      "60000/60000 [==============================] - 1s 10us/sample - loss: 0.8518 - accuracy: 0.8022\n",
      "Epoch 4/20\n",
      "60000/60000 [==============================] - 1s 11us/sample - loss: 0.6050 - accuracy: 0.8416\n",
      "Epoch 5/20\n",
      "60000/60000 [==============================] - 1s 11us/sample - loss: 0.5011 - accuracy: 0.8615\n",
      "Epoch 6/20\n",
      "60000/60000 [==============================] - 1s 12us/sample - loss: 0.4445 - accuracy: 0.8748\n",
      "Epoch 7/20\n",
      "60000/60000 [==============================] - 1s 14us/sample - loss: 0.4086 - accuracy: 0.8834\n",
      "Epoch 8/20\n",
      "60000/60000 [==============================] - 1s 14us/sample - loss: 0.3835 - accuracy: 0.8901\n",
      "Epoch 9/20\n",
      "60000/60000 [==============================] - 1s 14us/sample - loss: 0.3649 - accuracy: 0.8953\n",
      "Epoch 10/20\n",
      "60000/60000 [==============================] - 1s 13us/sample - loss: 0.3500 - accuracy: 0.8995\n",
      "Epoch 11/20\n",
      "60000/60000 [==============================] - 1s 14us/sample - loss: 0.3378 - accuracy: 0.9025\n",
      "Epoch 12/20\n",
      "60000/60000 [==============================] - 1s 14us/sample - loss: 0.3274 - accuracy: 0.9053\n",
      "Epoch 13/20\n",
      "60000/60000 [==============================] - 1s 14us/sample - loss: 0.3183 - accuracy: 0.9089\n",
      "Epoch 14/20\n",
      "60000/60000 [==============================] - 1s 13us/sample - loss: 0.3104 - accuracy: 0.9108\n",
      "Epoch 15/20\n",
      "60000/60000 [==============================] - 1s 14us/sample - loss: 0.3030 - accuracy: 0.9128\n",
      "Epoch 16/20\n",
      "60000/60000 [==============================] - 1s 13us/sample - loss: 0.2965 - accuracy: 0.9145\n",
      "Epoch 17/20\n",
      "60000/60000 [==============================] - 1s 13us/sample - loss: 0.2903 - accuracy: 0.9169\n",
      "Epoch 18/20\n",
      "60000/60000 [==============================] - 1s 14us/sample - loss: 0.2848 - accuracy: 0.9188\n",
      "Epoch 19/20\n",
      "60000/60000 [==============================] - 1s 14us/sample - loss: 0.2794 - accuracy: 0.9201\n",
      "Epoch 20/20\n",
      "60000/60000 [==============================] - 1s 14us/sample - loss: 0.2744 - accuracy: 0.9216\n",
      "10000/10000 [==============================] - 0s 34us/sample - loss: 0.2696 - accuracy: 0.9253\n",
      "Validation Accuracy: 0.9253\n"
     ]
    }
   ],
   "source": [
    "model = tf.keras.models.Sequential()\n",
    "model.add(tf.keras.layers.Flatten())\n",
    "model.add(tf.keras.layers.Dense(32, activation=tf.nn.relu))\n",
    "model.add(tf.keras.layers.Dense(32, activation=tf.nn.relu))\n",
    "model.add(tf.keras.layers.Dense(10, activation=tf.nn.softmax))\n",
    "\n",
    "from keras import optimizers\n",
    "\n",
    "sgd = optimizers.SGD(lr=0.01, decay=0.000001, momentum=0.9)\n",
    "model.compile(optimizer='sgd', loss='sparse_categorical_crossentropy', metrics=['accuracy'])\n",
    "model.fit(x_train, y_train, batch_size=128, epochs=20)\n",
    "\n",
    "val_loss, val_acc = model.evaluate(x_test, y_test)\n",
    "print(\"Validation Accuracy: \"+str(val_acc))"
   ]
  },
  {
   "cell_type": "code",
   "execution_count": 16,
   "metadata": {},
   "outputs": [
    {
     "name": "stdout",
     "output_type": "stream",
     "text": [
      "Train on 60000 samples\n",
      "Epoch 1/20\n",
      "60000/60000 [==============================] - 2s 38us/sample - loss: 1.3381 - accuracy: 0.6321\n",
      "Epoch 2/20\n",
      "60000/60000 [==============================] - 2s 38us/sample - loss: 0.4490 - accuracy: 0.8742\n",
      "Epoch 3/20\n",
      "60000/60000 [==============================] - 2s 38us/sample - loss: 0.3525 - accuracy: 0.8989s - loss: 0\n",
      "Epoch 4/20\n",
      "60000/60000 [==============================] - 2s 40us/sample - loss: 0.3148 - accuracy: 0.9094s - loss: 0.3224 -  - ETA: 0s - loss: 0.3\n",
      "Epoch 5/20\n",
      "60000/60000 [==============================] - 2s 39us/sample - loss: 0.2903 - accuracy: 0.9164s - los - ETA: 1s - loss: 0 - ETA\n",
      "Epoch 6/20\n",
      "60000/60000 [==============================] - 2s 37us/sample - loss: 0.2716 - accuracy: 0.9215\n",
      "Epoch 7/20\n",
      "60000/60000 [==============================] - 2s 38us/sample - loss: 0.2567 - accuracy: 0.9260s - loss: 0.2626 - accuracy: 0.92 - E\n",
      "Epoch 8/20\n",
      "60000/60000 [==============================] - 2s 41us/sample - loss: 0.2435 - accuracy: 0.9301\n",
      "Epoch 9/20\n",
      "60000/60000 [==============================] - 2s 37us/sample - loss: 0.2318 - accuracy: 0.9339\n",
      "Epoch 10/20\n",
      "60000/60000 [==============================] - 2s 38us/sample - loss: 0.2219 - accuracy: 0.9365\n",
      "Epoch 11/20\n",
      "60000/60000 [==============================] - 2s 37us/sample - loss: 0.2131 - accuracy: 0.9390\n",
      "Epoch 12/20\n",
      "60000/60000 [==============================] - 2s 38us/sample - loss: 0.2051 - accuracy: 0.9420\n",
      "Epoch 13/20\n",
      "60000/60000 [==============================] - 2s 37us/sample - loss: 0.1977 - accuracy: 0.9438\n",
      "Epoch 14/20\n",
      "60000/60000 [==============================] - 2s 37us/sample - loss: 0.1909 - accuracy: 0.9456\n",
      "Epoch 15/20\n",
      "60000/60000 [==============================] - ETA: 0s - loss: 0.1844 - accuracy: 0.9472 ETA: 0s - loss: 0.1840 - accuracy - 2s 40us/sample - loss: 0.1845 - accuracy: 0.9472\n",
      "Epoch 16/20\n",
      "60000/60000 [==============================] - 2s 38us/sample - loss: 0.1784 - accuracy: 0.9494s\n",
      "Epoch 17/20\n",
      "60000/60000 [==============================] - 2s 37us/sample - loss: 0.1732 - accuracy: 0.9509\n",
      "Epoch 18/20\n",
      "60000/60000 [==============================] - 2s 37us/sample - loss: 0.1677 - accuracy: 0.9525\n",
      "Epoch 19/20\n",
      "60000/60000 [==============================] - 2s 38us/sample - loss: 0.1627 - accuracy: 0.9533\n",
      "Epoch 20/20\n",
      "60000/60000 [==============================] - 2s 37us/sample - loss: 0.1578 - accuracy: 0.9551\n",
      "10000/10000 [==============================] - 0s 30us/sample - loss: 0.1703 - accuracy: 0.9503\n",
      "Validation Accuracy: 0.9503\n"
     ]
    }
   ],
   "source": [
    "model = tf.keras.models.Sequential()\n",
    "model.add(tf.keras.layers.Flatten())\n",
    "model.add(tf.keras.layers.Dense(32, activation=tf.nn.relu))\n",
    "model.add(tf.keras.layers.Dense(32, activation=tf.nn.relu))\n",
    "model.add(tf.keras.layers.Dense(10, activation=tf.nn.softmax))\n",
    "\n",
    "from keras import optimizers\n",
    "\n",
    "sgd = optimizers.SGD(lr=0.01, decay=0.000001, momentum=0.9)\n",
    "model.compile(optimizer='sgd', loss='sparse_categorical_crossentropy', metrics=['accuracy'])\n",
    "model.fit(x_train, y_train, batch_size=32, epochs=20)\n",
    "\n",
    "val_loss, val_acc = model.evaluate(x_test, y_test)\n",
    "print(\"Validation Accuracy: \"+str(val_acc))"
   ]
  },
  {
   "cell_type": "raw",
   "metadata": {},
   "source": [
    "#conclusion\n",
    "Validation accuracy for batch_size_128 = 0.91\n",
    "Validation accuracy for batch_size_32  = 0.95\n",
    "Conclusion: There is a slight increase in accuracy as batch size is decreased."
   ]
  },
  {
   "cell_type": "markdown",
   "metadata": {},
   "source": [
    "# 7. Adding hidden layer when input (32,32,32,10)"
   ]
  },
  {
   "cell_type": "code",
   "execution_count": 17,
   "metadata": {},
   "outputs": [
    {
     "name": "stdout",
     "output_type": "stream",
     "text": [
      "Train on 60000 samples\n",
      "Epoch 1/20\n",
      "60000/60000 [==============================] - 2s 32us/sample - loss: 1.4222 - accuracy: 0.6020\n",
      "Epoch 2/20\n",
      "60000/60000 [==============================] - 2s 30us/sample - loss: 0.4617 - accuracy: 0.8675\n",
      "Epoch 3/20\n",
      "60000/60000 [==============================] - 2s 30us/sample - loss: 0.3505 - accuracy: 0.8986\n",
      "Epoch 4/20\n",
      "60000/60000 [==============================] - 2s 30us/sample - loss: 0.3022 - accuracy: 0.9120\n",
      "Epoch 5/20\n",
      "60000/60000 [==============================] - 2s 31us/sample - loss: 0.2697 - accuracy: 0.9205\n",
      "Epoch 6/20\n",
      "60000/60000 [==============================] - 2s 30us/sample - loss: 0.2439 - accuracy: 0.9278\n",
      "Epoch 7/20\n",
      "60000/60000 [==============================] - 2s 30us/sample - loss: 0.2232 - accuracy: 0.9338\n",
      "Epoch 8/20\n",
      "60000/60000 [==============================] - 2s 30us/sample - loss: 0.2058 - accuracy: 0.9389\n",
      "Epoch 9/20\n",
      "60000/60000 [==============================] - 2s 30us/sample - loss: 0.1918 - accuracy: 0.9431\n",
      "Epoch 10/20\n",
      "60000/60000 [==============================] - 2s 30us/sample - loss: 0.1795 - accuracy: 0.9467\n",
      "Epoch 11/20\n",
      "60000/60000 [==============================] - 2s 29us/sample - loss: 0.1687 - accuracy: 0.9496\n",
      "Epoch 12/20\n",
      "60000/60000 [==============================] - 2s 31us/sample - loss: 0.1587 - accuracy: 0.9532\n",
      "Epoch 13/20\n",
      "60000/60000 [==============================] - 2s 31us/sample - loss: 0.1506 - accuracy: 0.9552\n",
      "Epoch 14/20\n",
      "60000/60000 [==============================] - 2s 30us/sample - loss: 0.1424 - accuracy: 0.9580\n",
      "Epoch 15/20\n",
      "60000/60000 [==============================] - 2s 30us/sample - loss: 0.1359 - accuracy: 0.9590\n",
      "Epoch 16/20\n",
      "60000/60000 [==============================] - 2s 30us/sample - loss: 0.1296 - accuracy: 0.9610\n",
      "Epoch 17/20\n",
      "60000/60000 [==============================] - 2s 29us/sample - loss: 0.1243 - accuracy: 0.9626\n",
      "Epoch 18/20\n",
      "60000/60000 [==============================] - 2s 30us/sample - loss: 0.1187 - accuracy: 0.9644\n",
      "Epoch 19/20\n",
      "60000/60000 [==============================] - 2s 30us/sample - loss: 0.1140 - accuracy: 0.9658\n",
      "Epoch 20/20\n",
      "60000/60000 [==============================] - 2s 30us/sample - loss: 0.1094 - accuracy: 0.9667\n",
      "10000/10000 [==============================] - 0s 23us/sample - loss: 0.1383 - accuracy: 0.9596\n",
      "Validation Accuracy: 0.9596\n"
     ]
    }
   ],
   "source": [
    "model = tf.keras.models.Sequential()\n",
    "model.add(tf.keras.layers.Flatten())\n",
    "model.add(tf.keras.layers.Dense(32, activation=tf.nn.relu))\n",
    "model.add(tf.keras.layers.Dense(32, activation=tf.nn.relu))\n",
    "model.add(tf.keras.layers.Dense(32, activation=tf.nn.relu))\n",
    "model.add(tf.keras.layers.Dense(10, activation=tf.nn.softmax))\n",
    "\n",
    "from keras import optimizers\n",
    "\n",
    "sgd = optimizers.SGD(lr=0.01, decay=0.000001, momentum=0.9)\n",
    "model.compile(optimizer='sgd', loss='sparse_categorical_crossentropy', metrics=['accuracy'])\n",
    "model.fit(x_train, y_train, batch_size=32, epochs=20)\n",
    "\n",
    "val_loss, val_acc = model.evaluate(x_test, y_test)\n",
    "print(\"Validation Accuracy: \"+str(val_acc))"
   ]
  },
  {
   "cell_type": "markdown",
   "metadata": {},
   "source": [
    "##Conclusion: Addition of extra hidden layer has increased the processing time but did not bring any increase in accuracy."
   ]
  },
  {
   "cell_type": "markdown",
   "metadata": {},
   "source": [
    "# 8. Input (128,128,10) and adding Drop out layer where dropout = 0.5"
   ]
  },
  {
   "cell_type": "markdown",
   "metadata": {},
   "source": [
    "#Dropout is used to prevent overfitting."
   ]
  },
  {
   "cell_type": "code",
   "execution_count": 18,
   "metadata": {},
   "outputs": [
    {
     "name": "stdout",
     "output_type": "stream",
     "text": [
      "Train on 60000 samples\n",
      "Epoch 1/20\n",
      "60000/60000 [==============================] - 3s 45us/sample - loss: 1.7499 - accuracy: 0.3906\n",
      "Epoch 2/20\n",
      "60000/60000 [==============================] - 3s 46us/sample - loss: 0.9973 - accuracy: 0.6687\n",
      "Epoch 3/20\n",
      "60000/60000 [==============================] - 3s 44us/sample - loss: 0.8054 - accuracy: 0.7421\n",
      "Epoch 4/20\n",
      "60000/60000 [==============================] - 3s 44us/sample - loss: 0.7122 - accuracy: 0.7751\n",
      "Epoch 5/20\n",
      "60000/60000 [==============================] - 3s 44us/sample - loss: 0.6479 - accuracy: 0.7987\n",
      "Epoch 6/20\n",
      "60000/60000 [==============================] - 3s 44us/sample - loss: 0.5990 - accuracy: 0.8152\n",
      "Epoch 7/20\n",
      "60000/60000 [==============================] - 3s 44us/sample - loss: 0.5715 - accuracy: 0.8248\n",
      "Epoch 8/20\n",
      "60000/60000 [==============================] - 3s 47us/sample - loss: 0.5434 - accuracy: 0.8346\n",
      "Epoch 9/20\n",
      "60000/60000 [==============================] - 3s 45us/sample - loss: 0.5199 - accuracy: 0.8407\n",
      "Epoch 10/20\n",
      "60000/60000 [==============================] - 3s 46us/sample - loss: 0.5018 - accuracy: 0.8490\n",
      "Epoch 11/20\n",
      "60000/60000 [==============================] - 3s 47us/sample - loss: 0.4809 - accuracy: 0.8569\n",
      "Epoch 12/20\n",
      "60000/60000 [==============================] - 3s 46us/sample - loss: 0.4666 - accuracy: 0.8587\n",
      "Epoch 13/20\n",
      "60000/60000 [==============================] - 3s 46us/sample - loss: 0.4558 - accuracy: 0.8624\n",
      "Epoch 14/20\n",
      "60000/60000 [==============================] - 3s 48us/sample - loss: 0.4420 - accuracy: 0.8677\n",
      "Epoch 15/20\n",
      "60000/60000 [==============================] - 3s 48us/sample - loss: 0.4307 - accuracy: 0.8704\n",
      "Epoch 16/20\n",
      "60000/60000 [==============================] - 3s 46us/sample - loss: 0.4200 - accuracy: 0.8727\n",
      "Epoch 17/20\n",
      "60000/60000 [==============================] - 3s 46us/sample - loss: 0.4088 - accuracy: 0.8780\n",
      "Epoch 18/20\n",
      "60000/60000 [==============================] - 3s 58us/sample - loss: 0.4014 - accuracy: 0.8793\n",
      "Epoch 19/20\n",
      "60000/60000 [==============================] - 4s 73us/sample - loss: 0.3974 - accuracy: 0.8795\n",
      "Epoch 20/20\n",
      "60000/60000 [==============================] - 4s 63us/sample - loss: 0.3916 - accuracy: 0.8821\n",
      "10000/10000 [==============================] - 0s 39us/sample - loss: 0.1805 - accuracy: 0.9452\n",
      "Validation Accuracy: 0.9452\n"
     ]
    }
   ],
   "source": [
    "model = tf.keras.models.Sequential()\n",
    "model.add(tf.keras.layers.Flatten())\n",
    "model.add(tf.keras.layers.Dropout(rate=0.5, noise_shape=None, seed=None))\n",
    "model.add(tf.keras.layers.Dense(128, activation=tf.nn.relu))\n",
    "model.add(tf.keras.layers.Dropout(rate=0.5, noise_shape=None, seed=None))\n",
    "model.add(tf.keras.layers.Dense(128, activation=tf.nn.relu))\n",
    "model.add(tf.keras.layers.Dropout(rate=0.5, noise_shape=None, seed=None))\n",
    "model.add(tf.keras.layers.Dense(10, activation=tf.nn.softmax))\n",
    "\n",
    "from keras import optimizers\n",
    "\n",
    "sgd = optimizers.SGD(lr=0.01, decay=0.000001, momentum=0.9)\n",
    "model.compile(optimizer='sgd', loss='sparse_categorical_crossentropy', metrics=['accuracy'])\n",
    "model.fit(x_train, y_train, batch_size=32, epochs=20)\n",
    "\n",
    "val_loss, val_acc = model.evaluate(x_test, y_test)\n",
    "print(\"Validation Accuracy: \"+str(val_acc))"
   ]
  },
  {
   "cell_type": "markdown",
   "metadata": {},
   "source": [
    "#Adding the dropout layer prevents the overfitting which is good for the model not to memorize the patterns. Accuracy is not increased drastically."
   ]
  },
  {
   "cell_type": "markdown",
   "metadata": {},
   "source": [
    "9. Model with better parameters"
   ]
  },
  {
   "cell_type": "code",
   "execution_count": 28,
   "metadata": {},
   "outputs": [
    {
     "name": "stdout",
     "output_type": "stream",
     "text": [
      "Train on 60000 samples\n",
      "Epoch 1/20\n",
      "60000/60000 [==============================] - 2s 31us/sample - loss: 1.2566 - accuracy: 0.6555\n",
      "Epoch 2/20\n",
      "60000/60000 [==============================] - 2s 29us/sample - loss: 0.4504 - accuracy: 0.8741\n",
      "Epoch 3/20\n",
      "60000/60000 [==============================] - 2s 29us/sample - loss: 0.3582 - accuracy: 0.8965\n",
      "Epoch 4/20\n",
      "60000/60000 [==============================] - 2s 30us/sample - loss: 0.3176 - accuracy: 0.9080\n",
      "Epoch 5/20\n",
      "60000/60000 [==============================] - 2s 31us/sample - loss: 0.2898 - accuracy: 0.9156\n",
      "Epoch 6/20\n",
      "60000/60000 [==============================] - 2s 30us/sample - loss: 0.2677 - accuracy: 0.9228\n",
      "Epoch 7/20\n",
      "60000/60000 [==============================] - 2s 30us/sample - loss: 0.2491 - accuracy: 0.9277\n",
      "Epoch 8/20\n",
      "60000/60000 [==============================] - 2s 30us/sample - loss: 0.2336 - accuracy: 0.9334\n",
      "Epoch 9/20\n",
      "60000/60000 [==============================] - 2s 30us/sample - loss: 0.2201 - accuracy: 0.9365\n",
      "Epoch 10/20\n",
      "60000/60000 [==============================] - 2s 30us/sample - loss: 0.2085 - accuracy: 0.9396\n",
      "Epoch 11/20\n",
      "60000/60000 [==============================] - 2s 30us/sample - loss: 0.1982 - accuracy: 0.9423\n",
      "Epoch 12/20\n",
      "60000/60000 [==============================] - 2s 30us/sample - loss: 0.1892 - accuracy: 0.9447\n",
      "Epoch 13/20\n",
      "60000/60000 [==============================] - 2s 30us/sample - loss: 0.1811 - accuracy: 0.9470\n",
      "Epoch 14/20\n",
      "60000/60000 [==============================] - 2s 30us/sample - loss: 0.1733 - accuracy: 0.9488\n",
      "Epoch 15/20\n",
      "60000/60000 [==============================] - 2s 30us/sample - loss: 0.1669 - accuracy: 0.9510\n",
      "Epoch 16/20\n",
      "60000/60000 [==============================] - 2s 30us/sample - loss: 0.1607 - accuracy: 0.9530\n",
      "Epoch 17/20\n",
      "60000/60000 [==============================] - 2s 30us/sample - loss: 0.1550 - accuracy: 0.9546\n",
      "Epoch 18/20\n",
      "60000/60000 [==============================] - 2s 29us/sample - loss: 0.1499 - accuracy: 0.9561\n",
      "Epoch 19/20\n",
      "60000/60000 [==============================] - 2s 30us/sample - loss: 0.1449 - accuracy: 0.9574\n",
      "Epoch 20/20\n",
      "60000/60000 [==============================] - 2s 29us/sample - loss: 0.1402 - accuracy: 0.9594\n",
      "10000/10000 [==============================] - 0s 23us/sample - loss: 0.1577 - accuracy: 0.9540\n",
      "Validation Accuracy: 0.954\n"
     ]
    }
   ],
   "source": [
    "model = tf.keras.models.Sequential()\n",
    "model.add(tf.keras.layers.Flatten())\n",
    "#model.add(tf.keras.layers.Dropout(rate=0.5, noise_shape=None, seed=None))\n",
    "model.add(tf.keras.layers.Dense(32, activation=tf.nn.relu))\n",
    "#model.add(tf.keras.layers.Dropout(rate=0.5, noise_shape=None, seed=None))\n",
    "model.add(tf.keras.layers.Dense(32, activation=tf.nn.relu))\n",
    "#model.add(tf.keras.layers.Dropout(rate=0.5, noise_shape=None, seed=None))\n",
    "model.add(tf.keras.layers.Dense(10, activation=tf.nn.softmax))\n",
    "\n",
    "from keras import optimizers\n",
    "\n",
    "sgd = optimizers.SGD(lr=0.09, decay=0.000001, momentum=0.9)\n",
    "model.compile(optimizer='sgd', loss='sparse_categorical_crossentropy', metrics=['accuracy'])\n",
    "model.fit(x_train, y_train, batch_size=32, epochs=20)\n",
    "\n",
    "val_loss, val_acc = model.evaluate(x_test, y_test)\n",
    "print(\"Validation Accuracy: \"+str(val_acc))"
   ]
  },
  {
   "cell_type": "markdown",
   "metadata": {},
   "source": [
    "Conclusion: I think, for the given data, model with 2 hidden layers with 32,32 neurons with learning rate = 0.09 and batch size=32 will have good accuracy. Further increase in learning rate or hidden layers or batch size would decrease the accuracy progressively."
   ]
  },
  {
   "cell_type": "markdown",
   "metadata": {},
   "source": [
    "Question 10 -\n",
    "\n",
    "Given the data, below parameters are important\n",
    "a. Number of hidden layers\n",
    "b. Number of neurons per layer\n",
    "c. Batch_size\n",
    "d. Learning rate"
   ]
  },
  {
   "cell_type": "code",
   "execution_count": null,
   "metadata": {},
   "outputs": [],
   "source": []
  }
 ],
 "metadata": {
  "kernelspec": {
   "display_name": "Python 3",
   "language": "python",
   "name": "python3"
  },
  "language_info": {
   "codemirror_mode": {
    "name": "ipython",
    "version": 3
   },
   "file_extension": ".py",
   "mimetype": "text/x-python",
   "name": "python",
   "nbconvert_exporter": "python",
   "pygments_lexer": "ipython3",
   "version": "3.5.6"
  }
 },
 "nbformat": 4,
 "nbformat_minor": 2
}
